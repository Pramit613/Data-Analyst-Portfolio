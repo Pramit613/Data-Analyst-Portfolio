{
 "cells": [
  {
   "cell_type": "markdown",
   "id": "619bf7ab-f10a-46b9-a51a-8d1277a75514",
   "metadata": {},
   "source": [
    "### MARKETING ANALYTICS FINAL PROJECT - SENTIMENT ANALYSIS OF WOMEN'S CLOTHING REVIEWS\n",
    "### Name and ID - Pramit Shetul Parikh - 0801037"
   ]
  },
  {
   "cell_type": "code",
   "execution_count": 473,
   "id": "b5c81f77-2c32-43d0-a022-29b7808c4390",
   "metadata": {},
   "outputs": [],
   "source": [
    "import pandas as pd\n",
    "import numpy as np\n",
    "import re\n",
    "import nltk\n",
    "import string as st\n",
    "import matplotlib.pyplot as plt\n",
    "import csv"
   ]
  },
  {
   "cell_type": "markdown",
   "id": "3f9f3e16-ae89-4c8f-87a1-b2fe5bbb5dbf",
   "metadata": {},
   "source": [
    "### Data Preperation and Cleaning"
   ]
  },
  {
   "cell_type": "code",
   "execution_count": 474,
   "id": "b544c385-44ad-4ecf-9d7b-6488532358a9",
   "metadata": {},
   "outputs": [
    {
     "data": {
      "text/html": [
       "<div>\n",
       "<style scoped>\n",
       "    .dataframe tbody tr th:only-of-type {\n",
       "        vertical-align: middle;\n",
       "    }\n",
       "\n",
       "    .dataframe tbody tr th {\n",
       "        vertical-align: top;\n",
       "    }\n",
       "\n",
       "    .dataframe thead th {\n",
       "        text-align: right;\n",
       "    }\n",
       "</style>\n",
       "<table border=\"1\" class=\"dataframe\">\n",
       "  <thead>\n",
       "    <tr style=\"text-align: right;\">\n",
       "      <th></th>\n",
       "      <th>Clothing ID</th>\n",
       "      <th>Age</th>\n",
       "      <th>Title</th>\n",
       "      <th>Review Text</th>\n",
       "      <th>Rating</th>\n",
       "      <th>Recommended IND</th>\n",
       "      <th>Positive Feedback Count</th>\n",
       "      <th>Division Name</th>\n",
       "      <th>Department Name</th>\n",
       "      <th>Class Name</th>\n",
       "    </tr>\n",
       "  </thead>\n",
       "  <tbody>\n",
       "    <tr>\n",
       "      <th>0</th>\n",
       "      <td>767</td>\n",
       "      <td>33</td>\n",
       "      <td>NaN</td>\n",
       "      <td>Absolutely wonderful - silky and sexy and comf...</td>\n",
       "      <td>4</td>\n",
       "      <td>1</td>\n",
       "      <td>0</td>\n",
       "      <td>Initmates</td>\n",
       "      <td>Intimate</td>\n",
       "      <td>Intimates</td>\n",
       "    </tr>\n",
       "    <tr>\n",
       "      <th>1</th>\n",
       "      <td>1080</td>\n",
       "      <td>34</td>\n",
       "      <td>NaN</td>\n",
       "      <td>Love this dress!  it's sooo pretty.  i happene...</td>\n",
       "      <td>5</td>\n",
       "      <td>1</td>\n",
       "      <td>4</td>\n",
       "      <td>General</td>\n",
       "      <td>Dresses</td>\n",
       "      <td>Dresses</td>\n",
       "    </tr>\n",
       "    <tr>\n",
       "      <th>2</th>\n",
       "      <td>1077</td>\n",
       "      <td>60</td>\n",
       "      <td>Some major design flaws</td>\n",
       "      <td>I had such high hopes for this dress and reall...</td>\n",
       "      <td>3</td>\n",
       "      <td>0</td>\n",
       "      <td>0</td>\n",
       "      <td>General</td>\n",
       "      <td>Dresses</td>\n",
       "      <td>Dresses</td>\n",
       "    </tr>\n",
       "    <tr>\n",
       "      <th>3</th>\n",
       "      <td>1049</td>\n",
       "      <td>50</td>\n",
       "      <td>My favorite buy!</td>\n",
       "      <td>I love, love, love this jumpsuit. it's fun, fl...</td>\n",
       "      <td>5</td>\n",
       "      <td>1</td>\n",
       "      <td>0</td>\n",
       "      <td>General Petite</td>\n",
       "      <td>Bottoms</td>\n",
       "      <td>Pants</td>\n",
       "    </tr>\n",
       "    <tr>\n",
       "      <th>4</th>\n",
       "      <td>847</td>\n",
       "      <td>47</td>\n",
       "      <td>Flattering shirt</td>\n",
       "      <td>This shirt is very flattering to all due to th...</td>\n",
       "      <td>5</td>\n",
       "      <td>1</td>\n",
       "      <td>6</td>\n",
       "      <td>General</td>\n",
       "      <td>Tops</td>\n",
       "      <td>Blouses</td>\n",
       "    </tr>\n",
       "  </tbody>\n",
       "</table>\n",
       "</div>"
      ],
      "text/plain": [
       "   Clothing ID  Age                    Title  \\\n",
       "0          767   33                      NaN   \n",
       "1         1080   34                      NaN   \n",
       "2         1077   60  Some major design flaws   \n",
       "3         1049   50         My favorite buy!   \n",
       "4          847   47         Flattering shirt   \n",
       "\n",
       "                                         Review Text  Rating  Recommended IND  \\\n",
       "0  Absolutely wonderful - silky and sexy and comf...       4                1   \n",
       "1  Love this dress!  it's sooo pretty.  i happene...       5                1   \n",
       "2  I had such high hopes for this dress and reall...       3                0   \n",
       "3  I love, love, love this jumpsuit. it's fun, fl...       5                1   \n",
       "4  This shirt is very flattering to all due to th...       5                1   \n",
       "\n",
       "   Positive Feedback Count   Division Name Department Name Class Name  \n",
       "0                        0       Initmates        Intimate  Intimates  \n",
       "1                        4         General         Dresses    Dresses  \n",
       "2                        0         General         Dresses    Dresses  \n",
       "3                        0  General Petite         Bottoms      Pants  \n",
       "4                        6         General            Tops    Blouses  "
      ]
     },
     "execution_count": 474,
     "metadata": {},
     "output_type": "execute_result"
    }
   ],
   "source": [
    "#Here I'm reading the data and saving it into a dataframe, df\n",
    "\n",
    "df=pd.read_csv('C:\\\\Users\\\\prami\\\\Downloads\\\\Womens Clothing E-Commerce Reviews.csv',index_col=0)\n",
    "df.head()"
   ]
  },
  {
   "cell_type": "code",
   "execution_count": 475,
   "id": "44bea840-86fb-457e-88c1-6b484918ec65",
   "metadata": {},
   "outputs": [
    {
     "data": {
      "text/html": [
       "<div>\n",
       "<style scoped>\n",
       "    .dataframe tbody tr th:only-of-type {\n",
       "        vertical-align: middle;\n",
       "    }\n",
       "\n",
       "    .dataframe tbody tr th {\n",
       "        vertical-align: top;\n",
       "    }\n",
       "\n",
       "    .dataframe thead th {\n",
       "        text-align: right;\n",
       "    }\n",
       "</style>\n",
       "<table border=\"1\" class=\"dataframe\">\n",
       "  <thead>\n",
       "    <tr style=\"text-align: right;\">\n",
       "      <th></th>\n",
       "      <th>Clothing ID</th>\n",
       "      <th>Age</th>\n",
       "      <th>Title</th>\n",
       "      <th>Review Text</th>\n",
       "      <th>Rating</th>\n",
       "      <th>Recommended IND</th>\n",
       "      <th>Positive Feedback Count</th>\n",
       "      <th>Division Name</th>\n",
       "      <th>Department Name</th>\n",
       "      <th>Class Name</th>\n",
       "    </tr>\n",
       "  </thead>\n",
       "  <tbody>\n",
       "    <tr>\n",
       "      <th>23481</th>\n",
       "      <td>1104</td>\n",
       "      <td>34</td>\n",
       "      <td>Great dress for many occasions</td>\n",
       "      <td>I was very happy to snag this dress at such a ...</td>\n",
       "      <td>5</td>\n",
       "      <td>1</td>\n",
       "      <td>0</td>\n",
       "      <td>General Petite</td>\n",
       "      <td>Dresses</td>\n",
       "      <td>Dresses</td>\n",
       "    </tr>\n",
       "    <tr>\n",
       "      <th>23482</th>\n",
       "      <td>862</td>\n",
       "      <td>48</td>\n",
       "      <td>Wish it was made of cotton</td>\n",
       "      <td>It reminds me of maternity clothes. soft, stre...</td>\n",
       "      <td>3</td>\n",
       "      <td>1</td>\n",
       "      <td>0</td>\n",
       "      <td>General Petite</td>\n",
       "      <td>Tops</td>\n",
       "      <td>Knits</td>\n",
       "    </tr>\n",
       "    <tr>\n",
       "      <th>23483</th>\n",
       "      <td>1104</td>\n",
       "      <td>31</td>\n",
       "      <td>Cute, but see through</td>\n",
       "      <td>This fit well, but the top was very see throug...</td>\n",
       "      <td>3</td>\n",
       "      <td>0</td>\n",
       "      <td>1</td>\n",
       "      <td>General Petite</td>\n",
       "      <td>Dresses</td>\n",
       "      <td>Dresses</td>\n",
       "    </tr>\n",
       "    <tr>\n",
       "      <th>23484</th>\n",
       "      <td>1084</td>\n",
       "      <td>28</td>\n",
       "      <td>Very cute dress, perfect for summer parties an...</td>\n",
       "      <td>I bought this dress for a wedding i have this ...</td>\n",
       "      <td>3</td>\n",
       "      <td>1</td>\n",
       "      <td>2</td>\n",
       "      <td>General</td>\n",
       "      <td>Dresses</td>\n",
       "      <td>Dresses</td>\n",
       "    </tr>\n",
       "    <tr>\n",
       "      <th>23485</th>\n",
       "      <td>1104</td>\n",
       "      <td>52</td>\n",
       "      <td>Please make more like this one!</td>\n",
       "      <td>This dress in a lovely platinum is feminine an...</td>\n",
       "      <td>5</td>\n",
       "      <td>1</td>\n",
       "      <td>22</td>\n",
       "      <td>General Petite</td>\n",
       "      <td>Dresses</td>\n",
       "      <td>Dresses</td>\n",
       "    </tr>\n",
       "  </tbody>\n",
       "</table>\n",
       "</div>"
      ],
      "text/plain": [
       "       Clothing ID  Age                                              Title  \\\n",
       "23481         1104   34                     Great dress for many occasions   \n",
       "23482          862   48                         Wish it was made of cotton   \n",
       "23483         1104   31                              Cute, but see through   \n",
       "23484         1084   28  Very cute dress, perfect for summer parties an...   \n",
       "23485         1104   52                    Please make more like this one!   \n",
       "\n",
       "                                             Review Text  Rating  \\\n",
       "23481  I was very happy to snag this dress at such a ...       5   \n",
       "23482  It reminds me of maternity clothes. soft, stre...       3   \n",
       "23483  This fit well, but the top was very see throug...       3   \n",
       "23484  I bought this dress for a wedding i have this ...       3   \n",
       "23485  This dress in a lovely platinum is feminine an...       5   \n",
       "\n",
       "       Recommended IND  Positive Feedback Count   Division Name  \\\n",
       "23481                1                        0  General Petite   \n",
       "23482                1                        0  General Petite   \n",
       "23483                0                        1  General Petite   \n",
       "23484                1                        2         General   \n",
       "23485                1                       22  General Petite   \n",
       "\n",
       "      Department Name Class Name  \n",
       "23481         Dresses    Dresses  \n",
       "23482            Tops      Knits  \n",
       "23483         Dresses    Dresses  \n",
       "23484         Dresses    Dresses  \n",
       "23485         Dresses    Dresses  "
      ]
     },
     "execution_count": 475,
     "metadata": {},
     "output_type": "execute_result"
    }
   ],
   "source": [
    "df.tail()"
   ]
  },
  {
   "cell_type": "markdown",
   "id": "d7b403ae-a4d8-4a44-a23a-7e9755157fa9",
   "metadata": {},
   "source": [
    "#### Checking for Null Values"
   ]
  },
  {
   "cell_type": "code",
   "execution_count": 476,
   "id": "783dd0c4-9971-4aed-aefb-7c7ce3bc17fe",
   "metadata": {},
   "outputs": [
    {
     "data": {
      "text/html": [
       "<div>\n",
       "<style scoped>\n",
       "    .dataframe tbody tr th:only-of-type {\n",
       "        vertical-align: middle;\n",
       "    }\n",
       "\n",
       "    .dataframe tbody tr th {\n",
       "        vertical-align: top;\n",
       "    }\n",
       "\n",
       "    .dataframe thead th {\n",
       "        text-align: right;\n",
       "    }\n",
       "</style>\n",
       "<table border=\"1\" class=\"dataframe\">\n",
       "  <thead>\n",
       "    <tr style=\"text-align: right;\">\n",
       "      <th></th>\n",
       "      <th>Clothing ID</th>\n",
       "      <th>Age</th>\n",
       "      <th>Title</th>\n",
       "      <th>Review Text</th>\n",
       "      <th>Rating</th>\n",
       "      <th>Recommended IND</th>\n",
       "      <th>Positive Feedback Count</th>\n",
       "      <th>Division Name</th>\n",
       "      <th>Department Name</th>\n",
       "      <th>Class Name</th>\n",
       "    </tr>\n",
       "  </thead>\n",
       "  <tbody>\n",
       "    <tr>\n",
       "      <th>0</th>\n",
       "      <td>False</td>\n",
       "      <td>False</td>\n",
       "      <td>True</td>\n",
       "      <td>False</td>\n",
       "      <td>False</td>\n",
       "      <td>False</td>\n",
       "      <td>False</td>\n",
       "      <td>False</td>\n",
       "      <td>False</td>\n",
       "      <td>False</td>\n",
       "    </tr>\n",
       "    <tr>\n",
       "      <th>1</th>\n",
       "      <td>False</td>\n",
       "      <td>False</td>\n",
       "      <td>True</td>\n",
       "      <td>False</td>\n",
       "      <td>False</td>\n",
       "      <td>False</td>\n",
       "      <td>False</td>\n",
       "      <td>False</td>\n",
       "      <td>False</td>\n",
       "      <td>False</td>\n",
       "    </tr>\n",
       "    <tr>\n",
       "      <th>2</th>\n",
       "      <td>False</td>\n",
       "      <td>False</td>\n",
       "      <td>False</td>\n",
       "      <td>False</td>\n",
       "      <td>False</td>\n",
       "      <td>False</td>\n",
       "      <td>False</td>\n",
       "      <td>False</td>\n",
       "      <td>False</td>\n",
       "      <td>False</td>\n",
       "    </tr>\n",
       "    <tr>\n",
       "      <th>3</th>\n",
       "      <td>False</td>\n",
       "      <td>False</td>\n",
       "      <td>False</td>\n",
       "      <td>False</td>\n",
       "      <td>False</td>\n",
       "      <td>False</td>\n",
       "      <td>False</td>\n",
       "      <td>False</td>\n",
       "      <td>False</td>\n",
       "      <td>False</td>\n",
       "    </tr>\n",
       "    <tr>\n",
       "      <th>4</th>\n",
       "      <td>False</td>\n",
       "      <td>False</td>\n",
       "      <td>False</td>\n",
       "      <td>False</td>\n",
       "      <td>False</td>\n",
       "      <td>False</td>\n",
       "      <td>False</td>\n",
       "      <td>False</td>\n",
       "      <td>False</td>\n",
       "      <td>False</td>\n",
       "    </tr>\n",
       "    <tr>\n",
       "      <th>...</th>\n",
       "      <td>...</td>\n",
       "      <td>...</td>\n",
       "      <td>...</td>\n",
       "      <td>...</td>\n",
       "      <td>...</td>\n",
       "      <td>...</td>\n",
       "      <td>...</td>\n",
       "      <td>...</td>\n",
       "      <td>...</td>\n",
       "      <td>...</td>\n",
       "    </tr>\n",
       "    <tr>\n",
       "      <th>23481</th>\n",
       "      <td>False</td>\n",
       "      <td>False</td>\n",
       "      <td>False</td>\n",
       "      <td>False</td>\n",
       "      <td>False</td>\n",
       "      <td>False</td>\n",
       "      <td>False</td>\n",
       "      <td>False</td>\n",
       "      <td>False</td>\n",
       "      <td>False</td>\n",
       "    </tr>\n",
       "    <tr>\n",
       "      <th>23482</th>\n",
       "      <td>False</td>\n",
       "      <td>False</td>\n",
       "      <td>False</td>\n",
       "      <td>False</td>\n",
       "      <td>False</td>\n",
       "      <td>False</td>\n",
       "      <td>False</td>\n",
       "      <td>False</td>\n",
       "      <td>False</td>\n",
       "      <td>False</td>\n",
       "    </tr>\n",
       "    <tr>\n",
       "      <th>23483</th>\n",
       "      <td>False</td>\n",
       "      <td>False</td>\n",
       "      <td>False</td>\n",
       "      <td>False</td>\n",
       "      <td>False</td>\n",
       "      <td>False</td>\n",
       "      <td>False</td>\n",
       "      <td>False</td>\n",
       "      <td>False</td>\n",
       "      <td>False</td>\n",
       "    </tr>\n",
       "    <tr>\n",
       "      <th>23484</th>\n",
       "      <td>False</td>\n",
       "      <td>False</td>\n",
       "      <td>False</td>\n",
       "      <td>False</td>\n",
       "      <td>False</td>\n",
       "      <td>False</td>\n",
       "      <td>False</td>\n",
       "      <td>False</td>\n",
       "      <td>False</td>\n",
       "      <td>False</td>\n",
       "    </tr>\n",
       "    <tr>\n",
       "      <th>23485</th>\n",
       "      <td>False</td>\n",
       "      <td>False</td>\n",
       "      <td>False</td>\n",
       "      <td>False</td>\n",
       "      <td>False</td>\n",
       "      <td>False</td>\n",
       "      <td>False</td>\n",
       "      <td>False</td>\n",
       "      <td>False</td>\n",
       "      <td>False</td>\n",
       "    </tr>\n",
       "  </tbody>\n",
       "</table>\n",
       "<p>23486 rows × 10 columns</p>\n",
       "</div>"
      ],
      "text/plain": [
       "       Clothing ID    Age  Title  Review Text  Rating  Recommended IND  \\\n",
       "0            False  False   True        False   False            False   \n",
       "1            False  False   True        False   False            False   \n",
       "2            False  False  False        False   False            False   \n",
       "3            False  False  False        False   False            False   \n",
       "4            False  False  False        False   False            False   \n",
       "...            ...    ...    ...          ...     ...              ...   \n",
       "23481        False  False  False        False   False            False   \n",
       "23482        False  False  False        False   False            False   \n",
       "23483        False  False  False        False   False            False   \n",
       "23484        False  False  False        False   False            False   \n",
       "23485        False  False  False        False   False            False   \n",
       "\n",
       "       Positive Feedback Count  Division Name  Department Name  Class Name  \n",
       "0                        False          False            False       False  \n",
       "1                        False          False            False       False  \n",
       "2                        False          False            False       False  \n",
       "3                        False          False            False       False  \n",
       "4                        False          False            False       False  \n",
       "...                        ...            ...              ...         ...  \n",
       "23481                    False          False            False       False  \n",
       "23482                    False          False            False       False  \n",
       "23483                    False          False            False       False  \n",
       "23484                    False          False            False       False  \n",
       "23485                    False          False            False       False  \n",
       "\n",
       "[23486 rows x 10 columns]"
      ]
     },
     "execution_count": 476,
     "metadata": {},
     "output_type": "execute_result"
    }
   ],
   "source": [
    "df.isnull()\n",
    "#There is no empty data here, for each row we have data"
   ]
  },
  {
   "cell_type": "code",
   "execution_count": 477,
   "id": "a709c618-d4f8-41c9-be3a-e253882726c4",
   "metadata": {},
   "outputs": [
    {
     "name": "stdout",
     "output_type": "stream",
     "text": [
      "<class 'pandas.core.frame.DataFrame'>\n",
      "Int64Index: 23486 entries, 0 to 23485\n",
      "Data columns (total 10 columns):\n",
      " #   Column                   Non-Null Count  Dtype \n",
      "---  ------                   --------------  ----- \n",
      " 0   Clothing ID              23486 non-null  int64 \n",
      " 1   Age                      23486 non-null  int64 \n",
      " 2   Title                    19676 non-null  object\n",
      " 3   Review Text              22641 non-null  object\n",
      " 4   Rating                   23486 non-null  int64 \n",
      " 5   Recommended IND          23486 non-null  int64 \n",
      " 6   Positive Feedback Count  23486 non-null  int64 \n",
      " 7   Division Name            23472 non-null  object\n",
      " 8   Department Name          23472 non-null  object\n",
      " 9   Class Name               23472 non-null  object\n",
      "dtypes: int64(5), object(5)\n",
      "memory usage: 2.0+ MB\n"
     ]
    }
   ],
   "source": [
    "df.info()"
   ]
  },
  {
   "cell_type": "markdown",
   "id": "1cd3a416-2ac6-43ab-9a87-f7d6256aeda5",
   "metadata": {},
   "source": [
    "### Here I am importing libraries to visualize the distribution of existing variables"
   ]
  },
  {
   "cell_type": "code",
   "execution_count": 614,
   "id": "43521595-5592-4965-8377-1950e5ed6ba4",
   "metadata": {},
   "outputs": [],
   "source": [
    "import matplotlib.pyplot as plt\n",
    "import seaborn as sns\n",
    "%matplotlib inline"
   ]
  },
  {
   "cell_type": "code",
   "execution_count": 479,
   "id": "34bf4d48-9917-45be-a91d-25b0387ba1ef",
   "metadata": {},
   "outputs": [
    {
     "data": {
      "text/plain": [
       "0        Absolutely wonderful - silky and sexy and comf...\n",
       "1        Love this dress!  it's sooo pretty.  i happene...\n",
       "2        I had such high hopes for this dress and reall...\n",
       "3        I love, love, love this jumpsuit. it's fun, fl...\n",
       "4        This shirt is very flattering to all due to th...\n",
       "                               ...                        \n",
       "23481    I was very happy to snag this dress at such a ...\n",
       "23482    It reminds me of maternity clothes. soft, stre...\n",
       "23483    This fit well, but the top was very see throug...\n",
       "23484    I bought this dress for a wedding i have this ...\n",
       "23485    This dress in a lovely platinum is feminine an...\n",
       "Name: Review Text, Length: 23486, dtype: object"
      ]
     },
     "execution_count": 479,
     "metadata": {},
     "output_type": "execute_result"
    }
   ],
   "source": [
    "#This is the column of most importance here\n",
    "\n",
    "df['Review Text']"
   ]
  },
  {
   "cell_type": "code",
   "execution_count": 480,
   "id": "e51bc996-3425-469a-81eb-69598f74821b",
   "metadata": {},
   "outputs": [],
   "source": [
    "df['text_length'] = df['Review Text'].str.len()"
   ]
  },
  {
   "cell_type": "markdown",
   "id": "cdaab77b-f374-4971-991b-a239edb47a7c",
   "metadata": {},
   "source": [
    "### This distribution let's us see the most number of ratings recieved, as we can see here, there are alot of reviews with 5 star ratings"
   ]
  },
  {
   "cell_type": "code",
   "execution_count": 615,
   "id": "d82b44fc-0332-402e-9912-c69add9141dc",
   "metadata": {},
   "outputs": [
    {
     "data": {
      "text/plain": [
       "<seaborn.axisgrid.FacetGrid at 0x20e210c0b50>"
      ]
     },
     "execution_count": 615,
     "metadata": {},
     "output_type": "execute_result"
    },
    {
     "data": {
      "image/png": "[encoded data removed]",
      "text/plain": [
       "<Figure size 1080x216 with 5 Axes>"
      ]
     },
     "metadata": {
      "needs_background": "light"
     },
     "output_type": "display_data"
    }
   ],
   "source": [
    "g = sns.FacetGrid(df,col='Rating',palette='viridis')\n",
    "g.map(plt.hist,'text_length')"
   ]
  },
  {
   "cell_type": "code",
   "execution_count": 482,
   "id": "50dde3be-e556-4d08-87d6-b3fffd319c47",
   "metadata": {},
   "outputs": [
    {
     "data": {
      "text/plain": [
       "<AxesSubplot:xlabel='Rating', ylabel='count'>"
      ]
     },
     "execution_count": 482,
     "metadata": {},
     "output_type": "execute_result"
    },
    {
     "data": {
      "image/png": "[encoded data removed]",
      "text/plain": [
       "<Figure size 432x288 with 1 Axes>"
      ]
     },
     "metadata": {
      "needs_background": "light"
     },
     "output_type": "display_data"
    }
   ],
   "source": [
    "#This is a bar graph here with counts for each rating\n",
    "sns.countplot(x='Rating',data=df,palette='viridis')"
   ]
  },
  {
   "cell_type": "code",
   "execution_count": 483,
   "id": "fc8659c2-af6f-492f-beb4-577f649821eb",
   "metadata": {},
   "outputs": [
    {
     "data": {
      "text/html": [
       "<div>\n",
       "<style scoped>\n",
       "    .dataframe tbody tr th:only-of-type {\n",
       "        vertical-align: middle;\n",
       "    }\n",
       "\n",
       "    .dataframe tbody tr th {\n",
       "        vertical-align: top;\n",
       "    }\n",
       "\n",
       "    .dataframe thead th {\n",
       "        text-align: right;\n",
       "    }\n",
       "</style>\n",
       "<table border=\"1\" class=\"dataframe\">\n",
       "  <thead>\n",
       "    <tr style=\"text-align: right;\">\n",
       "      <th></th>\n",
       "      <th>Clothing ID</th>\n",
       "      <th>Age</th>\n",
       "      <th>Rating</th>\n",
       "      <th>Recommended IND</th>\n",
       "      <th>Positive Feedback Count</th>\n",
       "      <th>text_length</th>\n",
       "    </tr>\n",
       "  </thead>\n",
       "  <tbody>\n",
       "    <tr>\n",
       "      <th>count</th>\n",
       "      <td>23486.000000</td>\n",
       "      <td>23486.000000</td>\n",
       "      <td>23486.000000</td>\n",
       "      <td>23486.000000</td>\n",
       "      <td>23486.000000</td>\n",
       "      <td>22641.000000</td>\n",
       "    </tr>\n",
       "    <tr>\n",
       "      <th>mean</th>\n",
       "      <td>918.118709</td>\n",
       "      <td>43.198544</td>\n",
       "      <td>4.196032</td>\n",
       "      <td>0.822362</td>\n",
       "      <td>2.535936</td>\n",
       "      <td>308.687911</td>\n",
       "    </tr>\n",
       "    <tr>\n",
       "      <th>std</th>\n",
       "      <td>203.298980</td>\n",
       "      <td>12.279544</td>\n",
       "      <td>1.110031</td>\n",
       "      <td>0.382216</td>\n",
       "      <td>5.702202</td>\n",
       "      <td>143.940048</td>\n",
       "    </tr>\n",
       "    <tr>\n",
       "      <th>min</th>\n",
       "      <td>0.000000</td>\n",
       "      <td>18.000000</td>\n",
       "      <td>1.000000</td>\n",
       "      <td>0.000000</td>\n",
       "      <td>0.000000</td>\n",
       "      <td>9.000000</td>\n",
       "    </tr>\n",
       "    <tr>\n",
       "      <th>25%</th>\n",
       "      <td>861.000000</td>\n",
       "      <td>34.000000</td>\n",
       "      <td>4.000000</td>\n",
       "      <td>1.000000</td>\n",
       "      <td>0.000000</td>\n",
       "      <td>186.000000</td>\n",
       "    </tr>\n",
       "    <tr>\n",
       "      <th>50%</th>\n",
       "      <td>936.000000</td>\n",
       "      <td>41.000000</td>\n",
       "      <td>5.000000</td>\n",
       "      <td>1.000000</td>\n",
       "      <td>1.000000</td>\n",
       "      <td>301.000000</td>\n",
       "    </tr>\n",
       "    <tr>\n",
       "      <th>75%</th>\n",
       "      <td>1078.000000</td>\n",
       "      <td>52.000000</td>\n",
       "      <td>5.000000</td>\n",
       "      <td>1.000000</td>\n",
       "      <td>3.000000</td>\n",
       "      <td>459.000000</td>\n",
       "    </tr>\n",
       "    <tr>\n",
       "      <th>max</th>\n",
       "      <td>1205.000000</td>\n",
       "      <td>99.000000</td>\n",
       "      <td>5.000000</td>\n",
       "      <td>1.000000</td>\n",
       "      <td>122.000000</td>\n",
       "      <td>508.000000</td>\n",
       "    </tr>\n",
       "  </tbody>\n",
       "</table>\n",
       "</div>"
      ],
      "text/plain": [
       "        Clothing ID           Age        Rating  Recommended IND  \\\n",
       "count  23486.000000  23486.000000  23486.000000     23486.000000   \n",
       "mean     918.118709     43.198544      4.196032         0.822362   \n",
       "std      203.298980     12.279544      1.110031         0.382216   \n",
       "min        0.000000     18.000000      1.000000         0.000000   \n",
       "25%      861.000000     34.000000      4.000000         1.000000   \n",
       "50%      936.000000     41.000000      5.000000         1.000000   \n",
       "75%     1078.000000     52.000000      5.000000         1.000000   \n",
       "max     1205.000000     99.000000      5.000000         1.000000   \n",
       "\n",
       "       Positive Feedback Count   text_length  \n",
       "count             23486.000000  22641.000000  \n",
       "mean                  2.535936    308.687911  \n",
       "std                   5.702202    143.940048  \n",
       "min                   0.000000      9.000000  \n",
       "25%                   0.000000    186.000000  \n",
       "50%                   1.000000    301.000000  \n",
       "75%                   3.000000    459.000000  \n",
       "max                 122.000000    508.000000  "
      ]
     },
     "execution_count": 483,
     "metadata": {},
     "output_type": "execute_result"
    }
   ],
   "source": [
    "df.describe()"
   ]
  },
  {
   "cell_type": "markdown",
   "id": "0f3e8d37-cd0d-44f2-8cee-c5de7f769012",
   "metadata": {},
   "source": [
    "### No. of Women by age"
   ]
  },
  {
   "cell_type": "code",
   "execution_count": 484,
   "id": "6c6f2939-386d-4c26-9cd0-b4c367646c9c",
   "metadata": {},
   "outputs": [
    {
     "data": {
      "text/plain": [
       "(array([1646., 4421., 6575., 4516., 3229., 2215.,  691.,  112.,   68.,\n",
       "          13.]),\n",
       " array([18. , 26.1, 34.2, 42.3, 50.4, 58.5, 66.6, 74.7, 82.8, 90.9, 99. ]),\n",
       " <BarContainer object of 10 artists>)"
      ]
     },
     "execution_count": 484,
     "metadata": {},
     "output_type": "execute_result"
    },
    {
     "data": {
      "image/png": "[encoded data removed]",
      "text/plain": [
       "<Figure size 432x288 with 1 Axes>"
      ]
     },
     "metadata": {
      "needs_background": "light"
     },
     "output_type": "display_data"
    }
   ],
   "source": [
    "plt.xlabel('Age:')\n",
    "plt.ylabel('No of women:')\n",
    "plt.title('Clothing e-commerce with different Age groups')\n",
    "plt.hist(df['Age'])\n",
    "\n",
    "#Based on the distribution here, we can see that, 40 year old women shop the most."
   ]
  },
  {
   "cell_type": "markdown",
   "id": "9fa94cdf-130a-46e7-8b1d-87884a9367f5",
   "metadata": {},
   "source": [
    "### Histogram for average rating"
   ]
  },
  {
   "cell_type": "code",
   "execution_count": 485,
   "id": "f5e621cb-bd86-4422-bc4c-8a648e69c350",
   "metadata": {},
   "outputs": [
    {
     "data": {
      "text/plain": [
       "(array([[4.500e+01, 0.000e+00, 8.000e+01, 0.000e+00, 0.000e+00, 2.120e+02,\n",
       "         0.000e+00, 3.550e+02, 0.000e+00, 9.540e+02],\n",
       "        [1.710e+02, 0.000e+00, 3.360e+02, 0.000e+00, 0.000e+00, 6.100e+02,\n",
       "         0.000e+00, 9.490e+02, 0.000e+00, 2.355e+03],\n",
       "        [2.090e+02, 0.000e+00, 4.600e+02, 0.000e+00, 0.000e+00, 8.140e+02,\n",
       "         0.000e+00, 1.454e+03, 0.000e+00, 3.638e+03],\n",
       "        [1.780e+02, 0.000e+00, 3.220e+02, 0.000e+00, 0.000e+00, 5.730e+02,\n",
       "         0.000e+00, 1.029e+03, 0.000e+00, 2.414e+03],\n",
       "        [1.260e+02, 0.000e+00, 1.910e+02, 0.000e+00, 0.000e+00, 3.480e+02,\n",
       "         0.000e+00, 7.030e+02, 0.000e+00, 1.861e+03],\n",
       "        [7.100e+01, 0.000e+00, 1.210e+02, 0.000e+00, 0.000e+00, 2.250e+02,\n",
       "         0.000e+00, 4.290e+02, 0.000e+00, 1.369e+03],\n",
       "        [3.500e+01, 0.000e+00, 4.000e+01, 0.000e+00, 0.000e+00, 7.600e+01,\n",
       "         0.000e+00, 1.310e+02, 0.000e+00, 4.090e+02],\n",
       "        [3.000e+00, 0.000e+00, 1.100e+01, 0.000e+00, 0.000e+00, 9.000e+00,\n",
       "         0.000e+00, 2.000e+01, 0.000e+00, 6.900e+01],\n",
       "        [2.000e+00, 0.000e+00, 3.000e+00, 0.000e+00, 0.000e+00, 3.000e+00,\n",
       "         0.000e+00, 4.000e+00, 0.000e+00, 5.600e+01],\n",
       "        [2.000e+00, 0.000e+00, 1.000e+00, 0.000e+00, 0.000e+00, 1.000e+00,\n",
       "         0.000e+00, 3.000e+00, 0.000e+00, 6.000e+00]]),\n",
       " array([18. , 26.1, 34.2, 42.3, 50.4, 58.5, 66.6, 74.7, 82.8, 90.9, 99. ]),\n",
       " array([1. , 1.4, 1.8, 2.2, 2.6, 3. , 3.4, 3.8, 4.2, 4.6, 5. ]),\n",
       " <matplotlib.collections.QuadMesh at 0x20e20feac40>)"
      ]
     },
     "execution_count": 485,
     "metadata": {},
     "output_type": "execute_result"
    },
    {
     "data": {
      "image/png": "[encoded data removed]",
      "text/plain": [
       "<Figure size 432x288 with 1 Axes>"
      ]
     },
     "metadata": {
      "needs_background": "light"
     },
     "output_type": "display_data"
    }
   ],
   "source": [
    "x1=df['Rating']\n",
    "y1=df['Age']\n",
    "plt.hist2d(y1,x1)\n",
    "\n",
    "#Here, based on the histogram created, we can see the relation between ratings and age"
   ]
  },
  {
   "cell_type": "markdown",
   "id": "f4db46b8-fa09-40eb-bb74-1eeb42f4e913",
   "metadata": {},
   "source": [
    "### Cleaning the data"
   ]
  },
  {
   "cell_type": "code",
   "execution_count": 486,
   "id": "bb6448bd-056f-4344-a576-cae55cdd2df8",
   "metadata": {},
   "outputs": [
    {
     "name": "stderr",
     "output_type": "stream",
     "text": [
      "[nltk_data] Downloading package stopwords to\n",
      "[nltk_data]     C:\\Users\\prami\\AppData\\Roaming\\nltk_data...\n",
      "[nltk_data]   Package stopwords is already up-to-date!\n"
     ]
    }
   ],
   "source": [
    "# Clean the text by removing any extra characters \n",
    "import re # tools for cleaning text\n",
    "import nltk # library to perform NLP\n",
    "nltk.download('stopwords') # tool to remove the non-essential words. It is a list of words\n",
    "from nltk.corpus import stopwords\n",
    "# Stemming means taking the root of the word such as love from loved or loving\n",
    "from nltk.stem.porter import PorterStemmer"
   ]
  },
  {
   "cell_type": "code",
   "execution_count": 487,
   "id": "a1eefe67-d990-4979-ab3c-58d88bec2161",
   "metadata": {},
   "outputs": [],
   "source": [
    "# Steps for cleaning the first review and apply for loop on all the reviews\n",
    "df['Review Text'][0]\n",
    "review = re.sub('[^a-zA-Z]', ' ', df['Review Text'][0]) # only keep the letters so what we dont want to remove\n",
    "review = review.lower() # make all letters as lowercase \n",
    "review = review.split()  # split the review into separate words to create a list of words\n",
    "ps =PorterStemmer()\n",
    "review = [ps.stem(word) for word in review if not  word in set(stopwords.words('english'))] # use set for larger text\n",
    "review = ' '.join(review) # take the list of words back into the string"
   ]
  },
  {
   "cell_type": "code",
   "execution_count": 488,
   "id": "451b2f6e-dec6-403f-b5e4-ad893257c140",
   "metadata": {},
   "outputs": [
    {
     "data": {
      "text/plain": [
       "'absolut wonder silki sexi comfort'"
      ]
     },
     "execution_count": 488,
     "metadata": {},
     "output_type": "execute_result"
    }
   ],
   "source": [
    "review"
   ]
  },
  {
   "cell_type": "code",
   "execution_count": null,
   "id": "20691a94-0cb1-41dd-94b4-0292fb095270",
   "metadata": {},
   "outputs": [],
   "source": [
    "# Do the same steps for all the reviews in the dataset using the for loop\n",
    "corpus = [] # Build a new list for all the words from all the reviews\n",
    "# corpus is a collection of text and a common term used in NLP\n",
    "for i in range (0, 1000):\n",
    "    review = re.sub('[^a-zA-Z]', ' ', df['Review Text'][i] )\n",
    "    review = review.lower()\n",
    "    review = review.split()\n",
    "    ps =PorterStemmer()\n",
    "    review = [ps.stem(word) for word in review if not  word in set(stopwords.words('english'))]\n",
    "    review = ' '.join(review)\n",
    "    corpus.append(review)"
   ]
  },
  {
   "cell_type": "code",
   "execution_count": 597,
   "id": "ebb580da-4071-4b4a-85a6-03a644d67f89",
   "metadata": {},
   "outputs": [
    {
     "data": {
      "text/plain": [
       "['absolut wonder silki sexi comfort',\n",
       " 'love dress sooo pretti happen find store glad bc never would order onlin bc petit bought petit love length hit littl knee would definit true midi someon truli petit',\n",
       " 'high hope dress realli want work initi order petit small usual size found outrag small small fact could zip reorder petit medium ok overal top half comfort fit nice bottom half tight layer sever somewhat cheap net layer imo major design flaw net layer sewn directli zipper c',\n",
       " 'love love love jumpsuit fun flirti fabul everi time wear get noth great compliment',\n",
       " 'shirt flatter due adjust front tie perfect length wear leg sleeveless pair well cardigan love shirt',\n",
       " 'love traci rees dress one petit feet tall usual wear p brand dress pretti packag lot dress skirt long full overwhelm small frame stranger alter shorten narrow skirt would take away embellish garment love color idea style work return dress',\n",
       " 'ade basket hte last mintu see would look like person store pick went teh darkler color pale hte color realli gorgeou turn mathc everythi tri prefectli littl baggi hte xs hte msallet size bummer petit decid jkeep though said matvehd everyth ejan pant skirt waa tri kept oop',\n",
       " 'order carbon store pick ton stuff alway tri use top pair skirt pant everyth went color realli nice charcoal shimmer went well pencil skirt flare pant etc compaint bit big sleev long go petit also bit loos xx kept wil ldecid later sinc light color alreadi sold hte smallest size',\n",
       " 'love dress usual get xs run littl snug bust order size flatter feminin usual retail flair style',\n",
       " 'lb order petit make sure length long typic wear xs regular retail dress less busti b cup smaller petit fit perfectli snug tight love could dress parti work love tull longer fabric underneath',\n",
       " 'dress run small esp zipper area run order sp typic fit tight materi top look feel cheap even pull caus rip fabric pretti disappoint go christma dress year needless say go back',\n",
       " 'dress perfect pretti flatter',\n",
       " 'find reliant review written savvi shopper past right estim product case dress reveiw doubt would even tri dress beauti made line reminisc old retail qualiti line solid periwinkl color fabric match outer fabric print tt form fit fall knee rid',\n",
       " 'bought black xs go larkspur midi dress bother line skirt portion grrrrrrrrrrr stat xs fit smoothli around chest flowi around lower half would say run big strap pretti could easili nightwear came knee',\n",
       " 'nice choic holiday gather like length graze knee conserv enough offic relat gather size small fit well usual size small bust opinion run small larger bust definit size perhap waist big problem dress qualiti fabric terribl delic net type fabric top layer skirt got stuck zip',\n",
       " 'took packag want fit badli could tell put hour glass figur straight waist way small bodi shape even size could tell would still tight waist roomi hip said realli nice sturdi linen like fabric pretti color well made hope make someon happi',\n",
       " 'materi color nice leg open larg length hit right ankl leg open size waist hem line ankl front pleat make fluffi think imagin flatter look least averag height taller may look good',\n",
       " 'took chanc blous glad crazi blous photograph model pair whit white pant work perfectli crisp clean would describ launder well fit great drape perfect wear tuck go wrong',\n",
       " 'flatter super cozi coat work well cold dri day look good jean dressier outfit small fit great',\n",
       " 'love look feel tull dress look someth differ top new year eve small chest top dress form fit flatter look steam tull perfect order xsp length perfect',\n",
       " 'product petit would get petit regular littl long tailor simpl fix fit nice lb pregnant bough medium grow tie front back provid nice flexibl form fit',\n",
       " 'upset price dress thought embroid print fabric think cri littl open box still ver pretti would say true size tad bit big tini still get away color vibrant style uniqu skirt portion pretti poofi keep go back forth mainli price although qualiti definit except wish emb',\n",
       " 'first pullov style side zipper purchas knew side zipper larg bust side zipper next imposs second tull feel look cheap slip awkward tight shape underneath look like describ sadli return sure find someth exchang',\n",
       " 'cute littl dress fit tt littl high waist good length height like dress love dont think look feel cheap appear pictur',\n",
       " 'love shirt first saw sure shirt dress sinc see wear like dress need slip wear leg bought slip wore tie back rock white wedg could also wear vest care button fall yet feel like overal great occas fun wear',\n",
       " 'love materi didnt realli look long dress purchas larg medium im atleast materi feet gap front much wider look felt like dress fell flat return im usual larg med fit better jean',\n",
       " 'wait sweater coat ship week excit arriv coat true size made look short squat sleev wide although long light weight fall coat sleev need wide layerng much underneath button need move least three inch nicer fit thought redo button sleev look even proport tigh',\n",
       " 'color expect either dark blue much vibrant find anyth realli go fabric thick good qualiti nice weight movement skirt end',\n",
       " 'sever goodhyouman shirt get mani compliment especi one say forehead kiss underr hesit buy shirt sorri',\n",
       " 'sweater comfi classic balanc quirki hand knit look beauti color practic fit bit crop boxi part style other mention gap knit make see opinion make perfect layer like longer camisol show underneath wear littl dress warm still thin enough fit jacket coat',\n",
       " 'beauti made pant trend flare crop much cuter person love',\n",
       " 'never would given pant second look onlin person much cuter stripe brighter fit flatter crop cute flare right trend brand alway run small lb carri chubbi belli pair collarless loos navi blazer',\n",
       " 'pant even better person downsid need dri clean',\n",
       " 'order month ago final came back order huge disappoint fit much issu qualiti wool subpar someon els mention quot felt wool quot guess call liter feel like felt super thin itchi drape well feel cheap made china got sale still worth paid definit go back',\n",
       " 'neat dress color great fabric super soft tall long length ad bonu definit need someth underneath sinc front gap go pair funki tank top necklac boot super cute',\n",
       " 'given second look tri store whim love love',\n",
       " 'comfort skirt span season easili excit design good work skirt pair mani top',\n",
       " 'order small size medium mom size gorgeou beauti drape weight warmth need houston fall winter look polish snap unsnap age appropri mom look amaz skinni jean leg order gray true photo',\n",
       " 'super cute comfi pull size accur materi littl bit stretch',\n",
       " 'great casual top flare look cute grey pilcro stet jean flatter peplum back nice cut shoulder necklin',\n",
       " 'pretti uniqu great jean worn work slack heel color print embroideri love reason price',\n",
       " 'beauti top uniqu ordinari bought usual medium found fit tight across chest although babi year nurs could bought would size',\n",
       " 'poncho cute love plaid check design color look like sorbet cream pair well turtleneck jean pencil skirt heel love look fall roll right spring great buy',\n",
       " 'first thermal natur expect super sheer realli sheer light fabric like prepar consid might run walk around hous second larg order size nice overs fit pound want go larger along sheer fabric easili stretch mind case final color look white monitor show color blue dot',\n",
       " 'tri today local retail comfort flatter bad pictur onlin model tuck skirt see ruch across front littl dressier altern plain tee reason price retail gener wear small fit well probabl back black',\n",
       " 'bought item onlin fit model look littl loos got mine seem bit tight took back store order larger size sale price great top',\n",
       " 'love top wear time problem tell wear time fabric start fade still recommend comfort',\n",
       " 'comfort materi good cut sleev flatter',\n",
       " 'sweater perfect fall roomi warm super comfi color realli pop',\n",
       " 'realli cute top embroideri collar bib top beauti uniqu receiv lot compliment question got rather busti top medium fit well small probabl would fit better still super ador',\n",
       " 'cute top transit easili summer fall fit well nice print comfort tri store purchas color wash best color blond would look much better brunett differ color like would purchas',\n",
       " 'absolut love bib tee probabl favorit retail purchas time pound small perfect fit typic wear either top',\n",
       " 'love color style materi snag easili',\n",
       " 'soft comfort shirt unusu asymmetr seam appear along front right hand side garment model posit see detail pictur attach pictur includ front seam actual like seam creat visual interest add littl bit ruch help hide belli cowl neck well done two layer form cowl found mean wardrob malfun',\n",
       " 'nice top armhol bit overs older woman picki print pretti unusu look great slight peplum back hang nice lightweight tee fabric opaqu tri black bra bare visibl great warmer climat mani gorgeou top decid return sinc summer wind recommend',\n",
       " 'ador top find extrem comfort usual buy print one feminin look great dark wash jean medium perfect fit',\n",
       " 'pregnant thought would great sleep bra soft fit okay zero support shape would buy b cup smaller get away without support would seen store would pass howev lazi return wear comfort redeem qualiti would recommend larger chest ladi though',\n",
       " 'tank fit well love ruffl back lay front good look retun',\n",
       " 'got petit length size fit right like alter length wear flat plenti clearanc floor bottom hem beef design height waist person think elast waistband look cheap realli need conceal belt yet sit high liter right bustlin tricki one pull wide belt sort th',\n",
       " 'look bralett provid support bind tight night time casual wear light weight bra could littl support pretti color nice line downsid retail tag back itchi need remov',\n",
       " 'dress simpli beauti stun figur flatter wait wear size small work sinc tall fell right ankl perfect could happier purchas keyhol back beauti detail',\n",
       " 'tag sewn small long huge x itchi cut thread left behind plastici even itchi make intim item itchi tag comfort also love bralett wear time includ work b cup howev one thin flimsi give support even b cup would loung bralett itchi',\n",
       " 'recent got sale look forev wish list happi comfort long enough torso pattern front flatter',\n",
       " 'comfort shirt light weight top love floral color great spring summer white jean love everyth one septemb make',\n",
       " 'love top realli happi find sale',\n",
       " 'beauti top delic wore school strap backpack caus pill beauti vibrant make sure wear anyth rub continu sinc fabric delic',\n",
       " 'receiv mail tri smitten usual l sometim xl stretch retail top bought one l sure glad flowi stretchi comfort also bought meda lace top one septemb similar expect shirt blous almost think could gotten lot extra fabric chest usual never issu',\n",
       " 'love top kept eye onlin waver size sinc post babi bodi littl wonki went xsp miracul work perfectli would say run littl larg love length usual go petit size retail like longer length regular perfect give top look love soft comfort go top season',\n",
       " 'realli love top onlin want love person soft patter okay person necklin higher use also two button back must unbutton order wear top difficult button behind neck top unfortun return item',\n",
       " 'realli want work ala strang fit strap would stay weird fit breast work stand minut sat fell shoulder fabric beauti love pocket',\n",
       " 'top cute massiv babydol shape line appar pictur measur xs chest sweep would definit keep top hung straighter craftsmanship love fabric natur handwoven look think ask tailor take side might ruin fabric layout cut proport swing style',\n",
       " 'design keep make crop top imagin would flatter anyon especi someon averag height well endow top look like footbal player pattern fabric gorgeou like tall super tini fit xx may work fit small huge almost bigger bottom top weird cut cami underneath ride show',\n",
       " 'short torso work well c bought much stretch fabric fit chest uncomfort way definit hang extra fabric like model zipper goe almost way bottom easier get make lack stretch n fabric unlik anoth review found went realli well navi pant wore busi meet blazer wi',\n",
       " 'love top loos comfort sheer need cami run littl larg size want tailor fit critic catch sharp jewelri belt pull care',\n",
       " 'pass dress mani time store final tri today want casual dress travel cape surpris much cuter hanger size get fit look realli made differ style fan way look loos model look realli cute fit bit sexi even line comfi dress work cardi believ get lot wear',\n",
       " 'drawn babi doll boxi shirt immedi tri store petit usual shirt lot fabric swallow whole one still cute lot fabric pictur let think still super cute flatter would definit check size chart read comment see someon size descript recommend specif size bodi type petit weigh lb',\n",
       " 'would love dress bust waist littl fit c top big fit perfectli hip lace materi mean cannot easili alter chose return dress would definit kept better fit',\n",
       " 'zipper broke piec first time wore disappoint sinc love design actual go tri replac zipper someth stronger annoy come',\n",
       " 'usual size brand small perfect lb top luxuri casual feel beauti obsess want wear everyday wear littl long drapey littl tight roll arm',\n",
       " 'dress ador perfect casual look summer qualiti nice line though still overpr opinion tie detail somewhat adjust found normal size fit fine get fact dri clean total make sens dress essenti fanci tshirt summer might bring back alon sinc origin plan wear lot',\n",
       " 'usual petit sinc dress come petit tri fit lb dress hit rt knee hem bit overwhelm dress look stun great vibrant color dark hair make classic eleg dress look contemporari stylish tri store salesperson other happen see rave told grab glad plan wear spring daught',\n",
       " 'love top great design comfort uniqu soft materi',\n",
       " 'rest review right color accur pictur order dark orang color reciev dark cedar brown color jacket print great love differ jacket ive seen jacket ber cute bit bulki though waist tie help heavi winter appropri waterproof heavili insul averag winter day though fun option remov v',\n",
       " 'purchas top antro store last week qualiti wonder greenish blue color uniqu blous beauti stretchi camsiol attach shoulder remov snap took great worn two differ way wore campol peek blous bottom also look great camisol worn wish would come petit size touch big shoulder neckli',\n",
       " 'receiv shirt typic xs fit perfectli crazi love also dislik shirt thin side need wear cami underneath concern hole remind materi could develop hole wear wash said wash shirt cold water hang dri hope prevent hole develop length fine like slit front add littl dim',\n",
       " 'realli hope like look way model least sharkbit hem much pronounc looser one photo look like pin back usual wear medium larg got medium lot materi bottom half photo show made look bigger flatter materi nice weav thin delic bought holli deep oliv blue color',\n",
       " 'tri sale section usual surprisingli size right fit fit enough room eat te blue light blue almost neutral white embroideri think look stylish decid keep peplum part hit right spot short petit torso normal size',\n",
       " 'debat n think look loos model tighten look lot flatter tri xs store usual decid need petit look huge pinch back see xx would work lot fabric looser look good like dress overal still recommend like looser look great would howev order eptit lb dd che',\n",
       " 'realli cute piec huge order xx petit unfortun extrem wide flatter return',\n",
       " 'bought top onlin burnt orang color excit get tri fit fine lack someth back littl bit long front littl bit short lack overal tailor look gorgeou fabric top want someth bought velvet tunic instead',\n",
       " 'love cute summer dress one especi made linen uniqu well made design quit flatter foot littl curvi c bust got size fit well although difficult zip materi give perfect dress wear itali franc book ticket',\n",
       " 'top much prettier real life model pattern textur love peplum surprisingli flatter definit short side think give modern look fabric stretch still think fit tt larg chest may want go size otherwis would order normal size']"
      ]
     },
     "execution_count": 597,
     "metadata": {},
     "output_type": "execute_result"
    }
   ],
   "source": [
    "corpus"
   ]
  },
  {
   "cell_type": "code",
   "execution_count": null,
   "id": "4950feb7-cc2b-48a3-a472-0faa4b40d645",
   "metadata": {},
   "outputs": [
    {
     "data": {
      "text/html": [
       "<div>\n",
       "<style scoped>\n",
       "    .dataframe tbody tr th:only-of-type {\n",
       "        vertical-align: middle;\n",
       "    }\n",
       "\n",
       "    .dataframe tbody tr th {\n",
       "        vertical-align: top;\n",
       "    }\n",
       "\n",
       "    .dataframe thead th {\n",
       "        text-align: right;\n",
       "    }\n",
       "</style>\n",
       "<table border=\"1\" class=\"dataframe\">\n",
       "  <thead>\n",
       "    <tr style=\"text-align: right;\">\n",
       "      <th></th>\n",
       "      <th>Clothing ID</th>\n",
       "      <th>Age</th>\n",
       "      <th>Title</th>\n",
       "      <th>Review Text</th>\n",
       "      <th>Rating</th>\n",
       "      <th>Recommended IND</th>\n",
       "      <th>Positive Feedback Count</th>\n",
       "      <th>Division Name</th>\n",
       "      <th>Department Name</th>\n",
       "      <th>Class Name</th>\n",
       "      <th>text_length</th>\n",
       "    </tr>\n",
       "  </thead>\n",
       "  <tbody>\n",
       "    <tr>\n",
       "      <th>0</th>\n",
       "      <td>767</td>\n",
       "      <td>33</td>\n",
       "      <td>NaN</td>\n",
       "      <td>Absolutely wonderful - silky and sexy and comf...</td>\n",
       "      <td>4</td>\n",
       "      <td>1</td>\n",
       "      <td>0</td>\n",
       "      <td>Initmates</td>\n",
       "      <td>Intimate</td>\n",
       "      <td>Intimates</td>\n",
       "      <td>53.0</td>\n",
       "    </tr>\n",
       "    <tr>\n",
       "      <th>1</th>\n",
       "      <td>1080</td>\n",
       "      <td>34</td>\n",
       "      <td>NaN</td>\n",
       "      <td>Love this dress!  it's sooo pretty.  i happene...</td>\n",
       "      <td>5</td>\n",
       "      <td>1</td>\n",
       "      <td>4</td>\n",
       "      <td>General</td>\n",
       "      <td>Dresses</td>\n",
       "      <td>Dresses</td>\n",
       "      <td>303.0</td>\n",
       "    </tr>\n",
       "    <tr>\n",
       "      <th>2</th>\n",
       "      <td>1077</td>\n",
       "      <td>60</td>\n",
       "      <td>Some major design flaws</td>\n",
       "      <td>I had such high hopes for this dress and reall...</td>\n",
       "      <td>3</td>\n",
       "      <td>0</td>\n",
       "      <td>0</td>\n",
       "      <td>General</td>\n",
       "      <td>Dresses</td>\n",
       "      <td>Dresses</td>\n",
       "      <td>500.0</td>\n",
       "    </tr>\n",
       "    <tr>\n",
       "      <th>3</th>\n",
       "      <td>1049</td>\n",
       "      <td>50</td>\n",
       "      <td>My favorite buy!</td>\n",
       "      <td>I love, love, love this jumpsuit. it's fun, fl...</td>\n",
       "      <td>5</td>\n",
       "      <td>1</td>\n",
       "      <td>0</td>\n",
       "      <td>General Petite</td>\n",
       "      <td>Bottoms</td>\n",
       "      <td>Pants</td>\n",
       "      <td>124.0</td>\n",
       "    </tr>\n",
       "    <tr>\n",
       "      <th>4</th>\n",
       "      <td>847</td>\n",
       "      <td>47</td>\n",
       "      <td>Flattering shirt</td>\n",
       "      <td>This shirt is very flattering to all due to th...</td>\n",
       "      <td>5</td>\n",
       "      <td>1</td>\n",
       "      <td>6</td>\n",
       "      <td>General</td>\n",
       "      <td>Tops</td>\n",
       "      <td>Blouses</td>\n",
       "      <td>192.0</td>\n",
       "    </tr>\n",
       "  </tbody>\n",
       "</table>\n",
       "</div>"
      ],
      "text/plain": [
       "   Clothing ID  Age                    Title  \\\n",
       "0          767   33                      NaN   \n",
       "1         1080   34                      NaN   \n",
       "2         1077   60  Some major design flaws   \n",
       "3         1049   50         My favorite buy!   \n",
       "4          847   47         Flattering shirt   \n",
       "\n",
       "                                         Review Text  Rating  Recommended IND  \\\n",
       "0  Absolutely wonderful - silky and sexy and comf...       4                1   \n",
       "1  Love this dress!  it's sooo pretty.  i happene...       5                1   \n",
       "2  I had such high hopes for this dress and reall...       3                0   \n",
       "3  I love, love, love this jumpsuit. it's fun, fl...       5                1   \n",
       "4  This shirt is very flattering to all due to th...       5                1   \n",
       "\n",
       "   Positive Feedback Count   Division Name Department Name Class Name  \\\n",
       "0                        0       Initmates        Intimate  Intimates   \n",
       "1                        4         General         Dresses    Dresses   \n",
       "2                        0         General         Dresses    Dresses   \n",
       "3                        0  General Petite         Bottoms      Pants   \n",
       "4                        6         General            Tops    Blouses   \n",
       "\n",
       "   text_length  \n",
       "0         53.0  \n",
       "1        303.0  \n",
       "2        500.0  \n",
       "3        124.0  \n",
       "4        192.0  "
      ]
     },
     "execution_count": 499,
     "metadata": {},
     "output_type": "execute_result"
    }
   ],
   "source": [
    "#Here, a new dataframe has been created to include ratings between 1 to 5 only in the new dataframe\n",
    "\n",
    "New_DF = df[(df.Rating==1) | (df.Rating==5)]\n",
    "df.head()"
   ]
  },
  {
   "cell_type": "code",
   "execution_count": 613,
   "id": "629a603e-472f-43de-86d0-06a14a9d0f86",
   "metadata": {},
   "outputs": [],
   "source": [
    "#Here, I've created two objects X and y, where X will be the review text column and y will be the rating column\n",
    "\n",
    "X = New_DF['Review Text']\n",
    "y = New_DF['Rating']\n"
   ]
  },
  {
   "cell_type": "code",
   "execution_count": 609,
   "id": "2712ec38-57fa-4b16-8e97-2e046849e67f",
   "metadata": {},
   "outputs": [],
   "source": [
    "#Now here, I'm importing the countvectorizer to convert my sentences into tokens of words for ease of analysis\n",
    "\n",
    "from sklearn.feature_extraction.text import CountVectorizer\n",
    "cv = CountVectorizer(max_features= 5000)"
   ]
  },
  {
   "cell_type": "code",
   "execution_count": 610,
   "id": "b6343808-cd89-47c8-af78-8c10681b8945",
   "metadata": {},
   "outputs": [
    {
     "name": "stdout",
     "output_type": "stream",
     "text": [
      "['00', '00p', '0p', '0petite', '10', '100', '100lbs', '102', '102lbs', '103', '103lbs', '104', '105', '105lbs', '106', '107', '107lbs', '108', '109', '109lbs', '10p', '11', '110', '110lbs', '111', '112', '112lbs', '113', '114', '115', '115lbs', '116', '117', '117lbs', '118', '118lbs', '119', '12', '120', '120lb', '120lbs', '122', '123', '123lbs', '124', '125', '125lb', '125lbs', '126', '127', '127lbs', '128', '128lbs', '12p', '130', '130lb', '130lbs', '132', '133', '134', '135', '135lb', '135lbs', '136', '137', '138', '138lbs', '14', '140', '140lb', '140lbs', '142', '143', '144', '145', '145lb', '145lbs', '146', '146lbs', '148', '148lbs', '15', '150', '150lbs', '155', '155lbs', '16', '160', '160lb', '160lbs', '165', '17', '170', '170lbs', '175', '18', '180', '185', '19', '1960s', '1970', '1st', '20', '200', '2015', '20s', '21', '24', '24p', '25', '25p', '26', '26p', '27', '27p', '28', '29', '2nd', '2p', '30', '300', '30d', '30dd', '30f', '30s', '31', '32', '32a', '32b', '32c', '32d', '32dd', '32ddd', '32e', '32f', '32g', '32h', '33', '34', '34a', '34aa', '34b', '34c', '34d', '34dd', '34ddd', '34f', '35', '35a', '36', '36a', '36b', '36c', '36d', '36dd', '36ddd', '36g', '37', '37ish', '38', '38c', '38dd', '39', '3rd', '3x', '40', '40s', '41', '42', '44', '45', '48', '4ft', '4p', '4r', '4th', '50', '50s', '51', '55', '57', '58', '5ft', '5ft2in', '60', '60s', '66', '68', '6ft', '6p', '70', '70s', '78', '80', '80s', '8in', '8p', '90', '95', '95lbs', '97', '98', '99', '____________', 'aa', 'abby', 'abdomen', 'ability', 'able', 'about', 'above', 'absolute', 'absolutely', 'absolutley', 'abstract', 'absurd', 'abt', 'ac', 'accent', 'accents', 'accentuate', 'accentuated', 'accentuates', 'accentuating', 'acceptable', 'accessories', 'accessorize', 'accessorized', 'accessorizing', 'accessory', 'accident', 'accidental', 'accidentally', 'accommodate', 'accommodates', 'accomodate', 'according', 'accordingly', 'account', 'accurate', 'accurately', 'achieve', 'across', 'acrylic', 'act', 'action', 'active', 'activewear', 'actual', 'actuality', 'actually', 'ad', 'ada', 'add', 'added', 'addicted', 'adding', 'addition', 'additional', 'additionally', 'adds', 'adequate', 'adjust', 'adjustable', 'adjusted', 'adjusting', 'adjustment', 'adjustments', 'admired', 'admiring', 'admit', 'admittedly', 'adn', 'adorable', 'adore', 'adored', 'ads', 'adult', 'advantage', 'advertised', 'advice', 'advise', 'advised', 'aesthetic', 'aesthetically', 'aesthetics', 'affair', 'affect', 'afford', 'affordable', 'afraid', 'after', 'afternoon', 'afterward', 'afterwards', 'ag', 'again', 'against', 'age', 'aged', 'ages', 'ago', 'agree', 'agreed', 'ags', 'ah', 'ahd', 'ahead', 'ahve', 'air', 'airplanes', 'airport', 'airy', 'aka', 'al', 'alas', 'alaska', 'albeit', 'alexandria', 'aligned', 'alike', 'aline', 'all', 'allow', 'allowed', 'allowing', 'allows', 'alluring', 'almost', 'alone', 'along', 'alot', 'alpaca', 'already', 'alright', 'also', 'alter', 'alteration', 'alterations', 'altered', 'altering', 'alternative', 'although', 'always', 'am', 'amadi', 'amazed', 'amazing', 'amazingly', 'amd', 'american', 'among', 'amount', 'amp', 'ample', 'an', 'and', 'angel', 'angle', 'angled', 'animal', 'animals', 'ankle', 'ankles', 'anniversary', 'annoying', 'another', 'answer', 'antho', 'anticipate', 'anticipated', 'anticipating', 'antique', 'antrho', 'antro', 'anxious', 'any', 'anyhow', 'anymore', 'anyone', 'anything', 'anytime', 'anyway', 'anyways', 'anywhere', 'apart', 'apparel', 'apparent', 'apparently', 'appeal', 'appealed', 'appealing', 'appear', 'appearance', 'appeared', 'appearing', 'appears', 'apple', 'applied', 'appliquã', 'apply', 'appreciate', 'appreciated', 'apprehensive', 'approach', 'approaching', 'appropriate', 'appropriately', 'approx', 'april', 'apt', 'aqua', 'ar', 'are', 'area', 'areas', 'aren', 'arm', 'armhole', 'armholes', 'armpit', 'armpits', 'arms', 'army', 'around', 'arrival', 'arrive', 'arrived', 'arrives', 'art', 'article', 'artist', 'artistic', 'artsy', 'arty', 'as', 'asap', 'asia', 'aside', 'ask', 'asked', 'asking', 'aspect', 'aspects', 'assets', 'associate', 'associates', 'assume', 'assumed', 'assuming', 'assured', 'asymmetric', 'asymmetrical', 'asymmetry', 'at', 'athletic', 'atlanta', 'attached', 'attachment', 'attempt', 'attend', 'attended', 'attending', 'attention', 'attire', 'attitude', 'attracted', 'attractive', 'audrey', 'august', 'australian', 'autumn', 'availability', 'available', 'average', 'avoid', 'avoided', 'avoids', 'awaiting', 'aware', 'away', 'awesome', 'awful', 'awhile', 'awkward', 'awkwardly', 'babies', 'baby', 'back', 'background', 'backorder', 'backordered', 'backside', 'bad', 'badly', 'baffled', 'bag', 'baggier', 'bagging', 'baggy', 'bags', 'bailey', 'balance', 'balanced', 'balances', 'ball', 'ballet', 'balloon', 'balloons', 'balls', 'band', 'bandeau', 'banded', 'banding', 'bar', 'bare', 'barefoot', 'barely', 'bargain', 'base', 'baseball', 'based', 'basic', 'basically', 'basics', 'basis', 'basket', 'basketweave', 'bat', 'batch', 'bathing', 'bathrobe', 'bay', 'bbq', 'bc', 'be', 'beach', 'beachy', 'bead', 'beaded', 'beading', 'beads', 'beadwork', 'bear', 'beat', 'beauties', 'beautiful', 'beautifully', 'beauty', 'became', 'becasue', 'because', 'become', 'becomes', 'becoming', 'bed', 'bee', 'been', 'bees', 'before', 'beforehand', 'began', 'begin', 'beginning', 'begins', 'behind', 'behold', 'beige', 'being', 'believe', 'bell', 'bells', 'belly', 'beloved', 'below', 'belt', 'belted', 'belting', 'belts', 'bend', 'bending', 'beneath', 'benefit', 'bent', 'berry', 'bes', 'besides', 'best', 'bet', 'better', 'betty', 'between', 'beware', 'beyond', 'bi', 'bias', 'biased', 'bib', 'biceps', 'big', 'bigger', 'biggest', 'biggie', 'bikini', 'bill', 'billow', 'billowed', 'billowy', 'bind', 'binding', 'bingo', 'bird', 'birds', 'birkenstocks', 'birthday', 'bit', 'bits', 'bizarre', 'black', 'blah', 'bland', 'blanket', 'blazer', 'blazers', 'bleach', 'bleed', 'blend', 'blends', 'blessed', 'blk', 'bloated', 'block', 'blocking', 'blonde', 'blouse', 'blouses', 'blousey', 'blousy', 'blown', 'blue', 'blues', 'bluish', 'blush', 'bo', 'board', 'boat', 'boatneck', 'bod', 'bodice', 'bodies', 'body', 'bodysuit', 'bohemian', 'boho', 'boiled', 'bold', 'bomb', 'bomber', 'bone', 'boned', 'boning', 'bonus', 'boo', 'boob', 'boobs', 'book', 'boot', 'bootcut', 'bootie', 'booties', 'boots', 'booty', 'bordeaux', 'border', 'borderline', 'boring', 'born', 'borrow', 'bosom', 'boston', 'both', 'bother', 'bothered', 'bothers', 'bothersome', 'bottom', 'bottoms', 'boucle', 'bough', 'bought', 'bounce', 'bow', 'bows', 'box', 'boxes', 'boxier', 'boxy', 'boy', 'boyfriend', 'boyfriends', 'boys', 'bra', 'bracelet', 'braided', 'brainer', 'braless', 'bralette', 'branch', 'brand', 'brands', 'bras', 'brass', 'break', 'breaker', 'breaks', 'breast', 'breasted', 'breastfeeding', 'breasts', 'breath', 'breathable', 'breathe', 'breathes', 'breathing', 'breathtaking', 'breeze', 'breezy', 'brick', 'bridal', 'bride', 'bridesmaids', 'bright', 'brighten', 'brightens', 'brighter', 'brightness', 'brilliant', 'bring', 'bringing', 'brings', 'broad', 'broader', 'brocade', 'broke', 'broken', 'bronze', 'brother', 'brought', 'brown', 'brownish', 'browns', 'browsing', 'brunch', 'brushed', 'btw', 'bu', 'bubble', 'buckle', 'buckled', 'buckles', 'bucks', 'budget', 'bug', 'build', 'built', 'bulge', 'bulges', 'bulk', 'bulkier', 'bulky', 'bullet', 'bum', 'bummed', 'bummer', 'bump', 'bumps', 'bunch', 'bunched', 'bunching', 'bunchy', 'burgundy', 'burnout', 'burnt', 'bus', 'business', 'bust', 'busted', 'bustier', 'bustline', 'busts', 'busty', 'busy', 'but', 'butt', 'butter', 'butterflies', 'buttery', 'button', 'buttondown', 'buttoned', 'buttonholes', 'buttoning', 'buttons', 'buy', 'buyers', 'buyi', 'buying', 'by', 'byron', 'ca', 'cable', 'caftan', 'cage', 'cake', 'cal', 'calf', 'california', 'call', 'called', 'calling', 'calves', 'came', 'camel', 'cami', 'camis', 'camisole', 'camo', 'camouflage', 'camouflages', 'can', 'cancer', 'cannot', 'cant', 'canvas', 'cap', 'cape', 'capri', 'capris', 'capsule', 'car', 'caramel', 'carbon', 'card', 'cardi', 'cardigan', 'cardigans', 'cardio', 'care', 'carefree', 'careful', 'carefully', 'cargo', 'cargos', 'caribbean', 'carpet', 'carried', 'carries', 'carry', 'carrying', 'cart', 'cartonnier', 'cascade', 'case', 'cases', 'cashmere', 'casual', 'casually', 'cat', 'catalog', 'catalogue', 'catch', 'catching', 'category', 'cats', 'caught', 'causal', 'cause', 'caused', 'causing', 'caution', 'cautious', 'caveat', 'caved', 'cedar', 'celebration', 'center', 'centered', 'ceremony', 'certain', 'certainly', 'ch', 'challenge', 'challenged', 'challenging', 'chambray', 'chameleon', 'champagne', 'chance', 'chanel', 'change', 'changed', 'changes', 'changing', 'character', 'charcoal', 'charlie', 'charm', 'charming', 'chart', 'chartreuse', 'chasing', 'cheap', 'cheaper', 'cheaply', 'check', 'checked', 'checking', 'checkout', 'cheerful', 'cheery', 'chemical', 'chemise', 'cherry', 'chest', 'chested', 'chests', 'chesty', 'chevron', 'chic', 'chicago', 'chiffon', 'child', 'childhood', 'childish', 'children', 'chill', 'chillier', 'chilly', 'chino', 'chinos', 'chocolate', 'choice', 'choices', 'choking', 'choose', 'choosing', 'chopped', 'chose', 'christmas', 'chubby', 'chunky', 'church', 'cinch', 'cinched', 'cinches', 'cinching', 'circle', 'circles', 'citizens', 'city', 'claimed', 'clasp', 'clasps', 'class', 'classes', 'classic', 'classical', 'classics', 'classier', 'classy', 'clean', 'cleaned', 'cleaner', 'cleaners', 'cleaning', 'clear', 'clearance', 'clearly', 'cleavage', 'clerk', 'clerks', 'clever', 'cleverly', 'climate', 'climates', 'cling', 'clinging', 'clings', 'clingy', 'clip', 'clipped', 'clogs', 'close', 'closed', 'closely', 'closer', 'closes', 'closet', 'closing', 'closure', 'closures', 'cloth', 'clothes', 'clothing', 'cloud', 'clown', 'club', 'co', 'coast', 'coat', 'coated', 'coats', 'cobalt', 'cocktail', 'cocktails', 'cocoon', 'code', 'coffee', 'cognac', 'coh', 'cold', 'colder', 'collar', 'collared', 'collected', 'collection', 'college', 'colo', 'color', 'colored', 'colorful', 'coloring', 'colors', 'colorway', 'colour', 'colours', 'colros', 'com', 'combination', 'combinations', 'combine', 'combined', 'combines', 'combo', 'combos', 'come', 'comes', 'comf', 'comfort', 'comfortable', 'comfortably', 'comfy', 'coming', 'comment', 'commented', 'comments', 'common', 'company', 'comparable', 'compare', 'compared', 'comparison', 'compelled', 'complain', 'complained', 'complaint', 'complaints', 'complement', 'complementary', 'complements', 'complete', 'completely', 'complexion', 'complexions', 'compliment', 'complimentary', 'complimented', 'complimenting', 'compliments', 'compromise', 'compromising', 'computer', 'con', 'conceal', 'conceals', 'concept', 'concern', 'concerned', 'concerns', 'concert', 'condition', 'conditioning', 'confidence', 'confident', 'conform', 'conforms', 'confortable', 'confused', 'confusing', 'cons', 'conscious', 'conservative', 'consider', 'considered', 'considering', 'consistency', 'consistent', 'consistently', 'constant', 'constantly', 'constricted', 'constricting', 'constrictive', 'constructed', 'construction', 'contact', 'contains', 'contemplating', 'contemporary', 'content', 'continue', 'continues', 'continuous', 'contrary', 'contrast', 'contrasting', 'contrasts', 'control', 'convenient', 'conversation', 'converse', 'convert', 'convinced', 'cool', 'cooler', 'cooling', 'cools', 'coordinate', 'coordinating', 'copper', 'coppery', 'coral', 'cord', 'cords', 'corduroy', 'cornflower', 'correct', 'corrected', 'correctly', 'corset', 'cost', 'costume', 'cotton', 'cottony', 'couch', 'could', 'couldn', 'count', 'counter', 'countless', 'country', 'counts', 'couple', 'coupon', 'course', 'couture', 'cover', 'coverage', 'covered', 'covering', 'covers', 'coverup', 'coveting', 'cowboy', 'cowl', 'cowled', 'cowlneck', 'coworkers', 'coz', 'cozy', 'crafted', 'craftsmanship', 'cranberry', 'crazy', 'cream', 'creamy', 'crease', 'creases', 'create', 'created', 'creates', 'creating', 'creation', 'creative', 'credit', 'creme', 'crepe', 'crew', 'crimson', 'crisp', 'criss', 'crisscross', 'criteria', 'criticism', 'crochet', 'crocheted', 'crooked', 'crop', 'cropped', 'crops', 'cross', 'crossed', 'crosses', 'crossing', 'crossover', 'crotch', 'crowd', 'crown', 'cruise', 'crumpled', 'crushed', 'cry', 'cuddly', 'cuff', 'cuffed', 'cuffs', 'culottes', 'cup', 'cups', 'cure', 'curiosity', 'curious', 'current', 'currently', 'curve', 'curved', 'curves', 'curvey', 'curvier', 'curvy', 'custom', 'customer', 'customers', 'cut', 'cute', 'cuteness', 'cuter', 'cutest', 'cutout', 'cutouts', 'cuts', 'cutting', 'cuz', 'cycle', 'daily', 'dainty', 'dallas', 'damage', 'damp', 'dance', 'dancing', 'dangling', 'dangly', 'dara', 'dark', 'darker', 'darling', 'darn', 'darts', 'date', 'daughter', 'daughters', 'day', 'days', 'daytime', 'dc', 'dd', 'ddd', 'dead', 'deal', 'dear', 'death', 'debated', 'debating', 'deceiving', 'december', 'decent', 'decide', 'decided', 'deciding', 'decision', 'decorative', 'deep', 'deeper', 'deeply', 'def', 'defect', 'defective', 'defiantly', 'definately', 'define', 'defined', 'definite', 'definitely', 'definition', 'degree', 'degrees', 'deletta', 'delicate', 'delicately', 'delicious', 'deliciously', 'delight', 'delighted', 'delightful', 'delightfully', 'deliver', 'delivered', 'delivers', 'delivery', 'demin', 'denim', 'denimy', 'dense', 'department', 'depending', 'depends', 'depicted', 'depicts', 'depth', 'derby', 'derriere', 'describe', 'described', 'describes', 'description', 'desert', 'deserves', 'design', 'designed', 'designer', 'designers', 'designs', 'desire', 'desired', 'desperate', 'despite', 'destroyed', 'detachable', 'detached', 'detail', 'detailed', 'detailing', 'details', 'deter', 'detergent', 'deterrent', 'detracts', 'devastated', 'develop', 'developed', 'di', 'diagonal', 'diamond', 'did', 'didn', 'didnt', 'die', 'diego', 'difference', 'differences', 'different', 'differently', 'difficult', 'difficulty', 'dig', 'dimension', 'dimples', 'dind', 'dinner', 'dinners', 'dip', 'dipped', 'dips', 'direction', 'directions', 'directly', 'dirty', 'disagree', 'disappear', 'disappoint', 'disappointed', 'disappointing', 'disappointment', 'disappoints', 'disaster', 'discomfort', 'discount', 'discover', 'discovered', 'disguise', 'disguises', 'dislike', 'display', 'displayed', 'distinct', 'distinctive', 'distracting', 'distressed', 'distressing', 'distribution', 'divine', 'do', 'doe', 'does', 'doesn', 'doesnt', 'dog', 'doing', 'dolan', 'doll', 'dollars', 'dolman', 'dominate', 'don', 'done', 'dont', 'door', 'dot', 'dots', 'dotted', 'double', 'doubled', 'doubt', 'doubts', 'dowdy', 'down', 'downfall', 'downs', 'downside', 'downsides', 'downsize', 'downton', 'dozen', 'dozens', 'dr', 'drab', 'drag', 'dragging', 'drama', 'dramatic', 'drape', 'draped', 'drapery', 'drapes', 'drapey', 'draping', 'draw', 'drawback', 'drawn', 'draws', 'drawstring', 'drawstrings', 'dreaded', 'dream', 'dreaming', 'dreamy', 'dres', 'dress', 'dresse', 'dressed', 'dresses', 'dressier', 'dressing', 'dressmaker', 'dressy', 'drew', 'dried', 'dries', 'drink', 'drinks', 'drip', 'drive', 'driving', 'droop', 'droopy', 'drop', 'dropped', 'dropping', 'drops', 'drove', 'drowning', 'dry', 'dryel', 'dryer', 'drying', 'due', 'dull', 'dumpy', 'durability', 'durable', 'during', 'dust', 'duster', 'dusty', 'duty', 'dye', 'dyed', 'dying', 'each', 'earlier', 'early', 'earrings', 'earth', 'earthy', 'ease', 'easier', 'easily', 'east', 'easter', 'easy', 'eat', 'eating', 'echo', 'eclectic', 'ecru', 'edge', 'edges', 'edgier', 'edging', 'edgy', 'effect', 'effects', 'effort', 'effortless', 'effortlessly', 'eight', 'either', 'elastic', 'elasticity', 'elasticized', 'elbow', 'elbows', 'elegance', 'elegant', 'elegantly', 'element', 'elements', 'elevate', 'elevates', 'elevenses', 'eliminates', 'elongate', 'elongating', 'else', 'elsewhere', 'em', 'email', 'embarrassing', 'embellishment', 'embellishments', 'embroidered', 'embroidery', 'emerald', 'emerson', 'emphasize', 'emphasized', 'emphasizes', 'emphasizing', 'empire', 'employee', 'employees', 'end', 'ended', 'endless', 'endowed', 'ends', 'engagement', 'england', 'enhance', 'enhances', 'enhancing', 'enjoy', 'enjoyed', 'enjoying', 'enormous', 'enough', 'ensemble', 'ensure', 'entire', 'entirely', 'environment', 'envisioned', 'epitome', 'equally', 'equivalent', 'errand', 'errands', 'esp', 'espadrilles', 'especially', 'essential', 'essentially', 'etc', 'ethereal', 'europe', 'european', 'eva', 'eve', 'even', 'evening', 'evenings', 'evenly', 'event', 'events', 'eventually', 'ever', 'every', 'everybody', 'everyday', 'everyone', 'everything', 'everytime', 'everywhere', 'ex', 'exact', 'exactly', 'exaggerated', 'example', 'exceeded', 'exceeds', 'excellent', 'except', 'exception', 'exceptional', 'exceptionally', 'excess', 'excessive', 'exchange', 'exchanged', 'exchanging', 'excited', 'exciting', 'exclusive', 'exclusively', 'executed', 'execution', 'exist', 'existed', 'expand', 'expect', 'expectation', 'expectations', 'expected', 'expecting', 'expensive', 'experience', 'experienced', 'explain', 'expose', 'exposed', 'exposes', 'exposing', 'exposure', 'express', 'exquisite', 'extended', 'extends', 'exterior', 'extra', 'extreme', 'extremely', 'exudes', 'eye', 'eyed', 'eyeing', 'eyelash', 'eyelet', 'eyelets', 'eyes', 'fa', 'fab', 'fabric', 'fabrics', 'fabulous', 'fabulously', 'face', 'faces', 'fact', 'factor', 'factory', 'fade', 'faded', 'fading', 'fail', 'fair', 'fairly', 'fairy', 'fake', 'fall', 'fallen', 'falling', 'falls', 'falttering', 'family', 'fan', 'fancier', 'fancy', 'fans', 'fantastic', 'far', 'fashion', 'fashionable', 'fashioned', 'fast', 'fasten', 'fastened', 'fasteners', 'fastening', 'fat', 'fault', 'faux', 'fav', 'fave', 'faves', 'favor', 'favorite', 'favorites', 'favors', 'favs', 'fe', 'fear', 'feast', 'feather', 'feature', 'featured', 'features', 'fee', 'feed', 'feedback', 'feel', 'feeling', 'feels', 'feet', 'fell', 'felt', 'felted', 'female', 'feminine', 'femininity', 'fence', 'festival', 'festive', 'few', 'fi', 'fiance', 'fiber', 'fibers', 'fight', 'figure', 'figured', 'figures', 'figuring', 'fill', 'filled', 'final', 'finally', 'find', 'finding', 'finds', 'fine', 'finely', 'fingers', 'finish', 'finished', 'finishes', 'finishing', 'fir', 'firm', 'first', 'fish', 'fisher', 'fit', 'fits', 'fitted', 'fitting', 'five', 'fix', 'fixed', 'fl', 'flair', 'flairs', 'flannel', 'flap', 'flaps', 'flare', 'flared', 'flares', 'flashy', 'flat', 'flatering', 'flats', 'flatter', 'flattered', 'flattering', 'flatteringly', 'flatters', 'flaw', 'flawless', 'flaws', 'flecks', 'fleece', 'flesh', 'flexibility', 'flexible', 'flight', 'flimsy', 'flip', 'flipped', 'flirty', 'float', 'floating', 'floats', 'floaty', 'floor', 'floored', 'floppy', 'flops', 'flora', 'floral', 'florals', 'floreat', 'florida', 'flounce', 'flouncy', 'flow', 'flowed', 'flower', 'flowered', 'flowers', 'flowey', 'flowing', 'flowly', 'flows', 'flowy', 'fluctuate', 'fluffy', 'fluid', 'flutter', 'fluttery', 'fly', 'flying', 'fo', 'foam', 'focal', 'focus', 'fold', 'folded', 'folding', 'folds', 'folk', 'followed', 'following', 'follows', 'fond', 'food', 'fooled', 'foot', 'football', 'footwear', 'for', 'forearms', 'forest', 'forever', 'forget', 'forgiving', 'forgot', 'form', 'formal', 'formally', 'former', 'formfitting', 'forth', 'fortunate', 'fortunately', 'forward', 'found', 'four', 'fourth', 'fox', 'fragile', 'frame', 'framed', 'frames', 'francisco', 'franco', 'fray', 'frayed', 'fraying', 'free', 'freeze', 'freezing', 'french', 'frequently', 'fresh', 'friday', 'fridays', 'friend', 'friendly', 'friends', 'frilly', 'fringe', 'fringed', 'from', 'front', 'frontal', 'frumpy', 'frustrated', 'ft', 'full', 'fuller', 'fullness', 'fully', 'fun', 'function', 'functional', 'functions', 'funeral', 'funky', 'funny', 'fur', 'furry', 'further', 'fuss', 'fussy', 'future', 'fuzz', 'fuzzy', 'fyi', 'gain', 'gained', 'gal', 'gala', 'gallery', 'galore', 'gals', 'gamble', 'game', 'gap', 'gape', 'gapes', 'gaping', 'gapped', 'gapping', 'gaps', 'garden', 'garish', 'garment', 'garments', 'garnered', 'gather', 'gathered', 'gathering', 'gathers', 'gaudy', 'gauge', 'gauze', 'gauzy', 'gave', 'gem', 'general', 'generally', 'generous', 'generously', 'genius', 'gentle', 'gently', 'geometric', 'get', 'gets', 'getting', 'giant', 'giddy', 'gift', 'gifted', 'gifts', 'gigantic', 'gill', 'gingham', 'ginormous', 'girl', 'girlfriend', 'girlfriends', 'girlie', 'girls', 'girly', 'give', 'given', 'gives', 'giving', 'glad', 'gladiator', 'gladiators', 'gladly', 'glam', 'glamorous', 'glance', 'glass', 'glide', 'glitter', 'glove', 'glow', 'go', 'goal', 'god', 'goddess', 'goes', 'going', 'gold', 'golden', 'goldenrod', 'gone', 'gonna', 'good', 'goodness', 'gorgeous', 'gorgeously', 'gosh', 'got', 'gotta', 'gotten', 'gown', 'grab', 'grabbed', 'grabbing', 'grace', 'graceful', 'gracefully', 'graduation', 'grandma', 'grandmother', 'granted', 'graphic', 'grateful', 'gravitate', 'gray', 'grayish', 'graze', 'gre', 'grease', 'great', 'greatest', 'green', 'greener', 'greenish', 'greens', 'grey', 'grid', 'grip', 'gripe', 'grocery', 'grommets', 'grosgrain', 'ground', 'grow', 'growing', 'guess', 'guessing', 'guest', 'guide', 'guys', 'gym', 'ha', 'had', 'hadn', 'haha', 'hair', 'half', 'halfway', 'hall', 'halter', 'hand', 'handful', 'handkerchief', 'handle', 'hands', 'handwash', 'handy', 'hang', 'hanger', 'hanging', 'hangs', 'happen', 'happened', 'happening', 'happens', 'happier', 'happily', 'happy', 'hard', 'harder', 'hardly', 'has', 'hasn', 'hassle', 'hat', 'hate', 'hated', 'have', 'haven', 'having', 'hawaii', 'hd', 'he', 'head', 'headed', 'heading', 'heads', 'heals', 'heard', 'heart', 'heartbeat', 'heartbroken', 'heat', 'heather', 'heathered', 'heaven', 'heavenly', 'heavier', 'heavily', 'heavy', 'heck', 'heel', 'heeled', 'heels', 'heft', 'hefty', 'hei', 'height', 'heights', 'held', 'help', 'helped', 'helpful', 'helping', 'helps', 'hem', 'hemline', 'hemmed', 'hemming', 'hems', 'hence', 'henley', 'hepburn', 'her', 'here', 'herringbone', 'herself', 'hesitant', 'hesitate', 'hesitated', 'hesitating', 'hesitation', 'hey', 'hi', 'hid', 'hidden', 'hide', 'hideous', 'hides', 'hiding', 'high', 'higher', 'highest', 'highlight', 'highlighted', 'highlighting', 'highlights', 'highly', 'hiking', 'hills', 'him', 'hint', 'hints', 'hip', 'hippie', 'hippy', 'hips', 'his', 'historically', 'hit', 'hits', 'hitting', 'hoffman', 'hold', 'holding', 'holds', 'hole', 'holes', 'holiday', 'holidays', 'holly', 'home', 'honest', 'honestly', 'honey', 'honeymoon', 'honolulu', 'hood', 'hooded', 'hoodie', 'hook', 'hooked', 'hooks', 'hope', 'hoped', 'hopeful', 'hopefully', 'hopes', 'hoping', 'horizontal', 'horrible', 'horribly', 'horse', 'horses', 'hot', 'hotel', 'hottest', 'hour', 'hourglass', 'hours', 'house', 'houston', 'hover', 'how', 'however', 'hoxton', 'hte', 'htis', 'hubby', 'hue', 'hues', 'hug', 'huge', 'hugged', 'hugging', 'hugs', 'humanity', 'humid', 'humidity', 'hundred', 'hung', 'hunt', 'hunter', 'hunting', 'hurry', 'husband', 'hybrid', 'hyphen', 'hyphens', 'ia', 'ice', 'id', 'idea', 'ideal', 'ideas', 'identical', 'if', 'iffy', 'ignore', 'ignored', 'ii', 'ill', 'illusion', 'im', 'image', 'images', 'imaginable', 'imagine', 'imagined', 'imho', 'immediately', 'immensely', 'immodest', 'imo', 'impact', 'impeccable', 'imperfect', 'imperfections', 'important', 'importantly', 'impossible', 'impressed', 'impression', 'impressive', 'improve', 'impulse', 'in', 'inappropriate', 'inch', 'inches', 'include', 'included', 'including', 'inconsistent', 'incorporate', 'incredible', 'incredibly', 'indeed', 'indian', 'indicate', 'indicated', 'indicates', 'indigo', 'individual', 'indoors', 'inexpensive', 'infinity', 'info', 'informal', 'information', 'initial', 'initially', 'inner', 'insanely', 'inseam', 'insecurities', 'insert', 'inset', 'insets', 'inside', 'inspired', 'inspires', 'instagram', 'instance', 'instant', 'instantly', 'instead', 'instincts', 'instructions', 'intact', 'intend', 'intended', 'intending', 'intense', 'intention', 'intentional', 'interest', 'interested', 'interesting', 'interior', 'internet', 'interview', 'into', 'intricate', 'intrigued', 'inverted', 'investment', 'invisible', 'inviting', 'iridescent', 'irl', 'iron', 'ironed', 'ironing', 'irresistible', 'irritating', 'is', 'ish', 'isn', 'isnt', 'issue', 'issues', 'it', 'italy', 'itch', 'itches', 'itching', 'itchy', 'item', 'items', 'its', 'itself', 'ive', 'ivory', 'jacket', 'jackets', 'jackpot', 'jacquard', 'jade', 'jammies', 'january', 'jazzed', 'jean', 'jeans', 'jeggings', 'jersey', 'jewel', 'jeweled', 'jewelry', 'job', 'jogger', 'joggers', 'joke', 'joy', 'jsut', 'july', 'jump', 'jumped', 'jumper', 'jumpers', 'jumpsuit', 'jumpsuits', 'june', 'just', 'justice', 'justify', 'juts', 'juvenile', 'juxtaposition', 'kangaroo', 'keep', 'keeper', 'keepers', 'keeping', 'keeps', 'kelly', 'kentucky', 'kept', 'key', 'keyhole', 'khaki', 'khakis', 'kick', 'kicking', 'kicks', 'kicky', 'kid', 'kidding', 'kids', 'killer', 'kimono', 'kimonos', 'kind', 'kinda', 'kinds', 'kitten', 'kn', 'knee', 'knees', 'knew', 'knit', 'knits', 'knitted', 'knitting', 'knock', 'knocks', 'knot', 'knotted', 'know', 'knowing', 'known', 'knows', 'kudos', 'la', 'label', 'labeled', 'lace', 'laces', 'lacework', 'lacing', 'lack', 'lacy', 'ladder', 'ladies', 'lady', 'ladylike', 'laid', 'lake', 'lambswool', 'lanky', 'lapel', 'lapels', 'lar', 'large', 'largely', 'larger', 'larges', 'largest', 'largish', 'lars', 'laser', 'last', 'lastly', 'lasts', 'late', 'lately', 'later', 'lattice', 'laugh', 'laughing', 'launder', 'laundered', 'laundering', 'launders', 'laundry', 'lavender', 'law', 'lay', 'layer', 'layered', 'layering', 'layers', 'laying', 'lays', 'lazy', 'lb', 'lbd', 'lbs', 'le', 'lead', 'lean', 'leaning', 'leap', 'learned', 'least', 'leather', 'leave', 'leaves', 'leaving', 'led', 'leery', 'left', 'leftover', 'leg', 'legged', 'legging', 'leggings', 'leggy', 'legs', 'lend', 'lends', 'length', 'lengths', 'less', 'let', 'lets', 'level', 'levels', 'lg', 'li', 'lie', 'lies', 'life', 'lifestyle', 'lifetime', 'lift', 'lifted', 'light', 'lighter', 'lighting', 'lightly', 'lights', 'lightweight', 'lik', 'like', 'liked', 'likely', 'likes', 'liking', 'lil', 'lilac', 'limbs', 'limit', 'limited', 'line', 'lined', 'linen', 'liner', 'lines', 'lingerie', 'lining', 'lint', 'lipstick', 'list', 'listed', 'listen', 'listened', 'listening', 'literally', 'little', 'live', 'lived', 'lives', 'living', 'll', 'lo', 'load', 'loads', 'loafers', 'local', 'location', 'lol', 'lola', 'lon', 'london', 'long', 'longer', 'longest', 'loo', 'look', 'looked', 'looking', 'lookout', 'looks', 'loom', 'loop', 'loops', 'loose', 'loosely', 'loosen', 'loosened', 'looseness', 'looser', 'lose', 'losing', 'loss', 'lost', 'lot', 'lots', 'loud', 'lounge', 'loungewear', 'lounging', 'love', 'loved', 'lovely', 'lover', 'loves', 'loving', 'low', 'lower', 'loyal', 'luck', 'lucked', 'luckily', 'lucky', 'lump', 'lumps', 'lunch', 'luncheon', 'lush', 'luv', 'luxe', 'luxurious', 'luxuriously', 'luxury', 'lying', 'ma', 'machine', 'macrame', 'mad', 'made', 'madly', 'maeve', 'magenta', 'magic', 'magical', 'magnificent', 'mail', 'mailbox', 'main', 'mainly', 'maintain', 'maintained', 'maintaining', 'maintains', 'maintenance', 'major', 'majority', 'make', 'maker', 'makes', 'makeup', 'making', 'mall', 'mama', 'man', 'manage', 'managed', 'manages', 'mango', 'mannequin', 'manner', 'manufacturer', 'many', 'mara', 'mark', 'marked', 'market', 'marks', 'marled', 'maroon', 'marrakech', 'marriage', 'masculine', 'mask', 'massive', 'match', 'matched', 'matches', 'matching', 'mater', 'material', 'materials', 'maternity', 'matronly', 'matte', 'matter', 'matters', 'mature', 'mauve', 'maxi', 'maxis', 'may', 'maybe', 'me', 'meadow', 'mean', 'meaning', 'means', 'meant', 'measure', 'measured', 'measurement', 'measurements', 'measures', 'med', 'medium', 'mediums', 'meet', 'meeting', 'meetings', 'meets', 'meh', 'member', 'members', 'men', 'mention', 'mentioned', 'mentioning', 'mentions', 'merino', 'mesh', 'mess', 'met', 'metal', 'metallic', 'mexico', 'micro', 'mid', 'middle', 'midi', 'midline', 'midriff', 'midsection', 'midway', 'midwest', 'might', 'mild', 'milder', 'mile', 'mileage', 'miles', 'military', 'million', 'mind', 'mindful', 'mine', 'mini', 'minimal', 'minimizes', 'minnesota', 'minor', 'mint', 'minus', 'minute', 'minutes', 'miracle', 'miraculously', 'mirror', 'mislabeled', 'misleading', 'mismatched', 'miss', 'missed', 'misses', 'missing', 'missoni', 'mistake', 'mistaken', 'mix', 'mixed', 'mixing', 'mixture', 'mo', 'mock', 'mod', 'modal', 'model', 'modeled', 'models', 'moderate', 'modern', 'modest', 'modesty', 'modified', 'mohair', 'molded', 'molds', 'mom', 'moment', 'mommy', 'moms', 'money', 'monitor', 'month', 'months', 'moo', 'mood', 'moon', 'more', 'morning', 'mornings', 'moss', 'mossy', 'most', 'mostly', 'moth', 'mother', 'mothers', 'motif', 'motifs', 'moto', 'motorcycle', 'moulinette', 'move', 'moveable', 'moved', 'movement', 'movements', 'moves', 'movie', 'moving', 'mp', 'much', 'muddy', 'muffin', 'multi', 'multiple', 'multitude', 'muscle', 'muscles', 'muscular', 'museum', 'music', 'must', 'mustard', 'muted', 'my', 'myriad', 'myself', 'name', 'named', 'nan', 'narrow', 'narrower', 'natori', 'natural', 'nature', 'nautical', 'navel', 'navy', 'near', 'nearly', 'neat', 'neath', 'neatly', 'necessarily', 'necessary', 'neck', 'necklace', 'necklaces', 'neckline', 'necks', 'need', 'needed', 'needing', 'needless', 'needs', 'negative', 'negatives', 'neira', 'neither', 'neon', 'neoprene', 'nervous', 'ness', 'net', 'netting', 'neutral', 'neutrals', 'never', 'nevertheless', 'new', 'news', 'next', 'nice', 'nicely', 'nicer', 'nicest', 'niece', 'night', 'nightgown', 'nightie', 'nights', 'nip', 'nipped', 'nips', 'no', 'non', 'none', 'nonetheless', 'nope', 'nor', 'norm', 'normal', 'normally', 'north', 'northeast', 'northern', 'not', 'notch', 'note', 'noted', 'nothing', 'notice', 'noticeable', 'noticeably', 'noticed', 'november', 'now', 'nowadays', 'nowhere', 'nubby', 'nude', 'number', 'numbers', 'numerous', 'nursing', 'nyc', 'nylon', 'oatmeal', 'obsessed', 'obvious', 'obviously', 'occasion', 'occasional', 'occasionally', 'occasions', 'ocean', 'ochre', 'october', 'odd', 'oddly', 'of', 'off', 'offer', 'offered', 'offering', 'offerings', 'offers', 'office', 'offices', 'offs', 'offset', 'offsets', 'often', 'oh', 'ok', 'okay', 'old', 'older', 'olive', 'ombrã', 'omg', 'on', 'once', 'one', 'ones', 'online', 'only', 'ons', 'onto', 'opaque', 'open', 'opened', 'opening', 'openings', 'opens', 'opera', 'opinion', 'opportunities', 'opportunity', 'opposed', 'opposite', 'opt', 'opted', 'option', 'optional', 'options', 'or', 'orange', 'orangey', 'orde', 'order', 'ordered', 'ordering', 'ordinary', 'organic', 'original', 'originally', 'orleans', 'ot', 'other', 'others', 'otherwise', 'our', 'out', 'outdoor', 'outdoors', 'outer', 'outerwear', 'outfit', 'outfits', 'outings', 'outline', 'outs', 'outside', 'outstanding', 'over', 'overall', 'overalls', 'overdone', 'overlap', 'overlay', 'overlook', 'overlooked', 'overly', 'overpowering', 'overpriced', 'oversize', 'oversized', 'overweight', 'overwhelm', 'overwhelmed', 'overwhelming', 'own', 'owned', 'pack', 'package', 'packaging', 'packed', 'packing', 'packs', 'padded', 'padding', 'pads', 'page', 'paid', 'paige', 'pain', 'paint', 'painting', 'pair', 'paired', 'pairing', 'pairs', 'paisley', 'pajama', 'pajamas', 'palazzo', 'pale', 'palette', 'palm', 'panel', 'panels', 'pant', 'panties', 'pants', 'panty', 'paper', 'par', 'parachute', 'paring', 'paris', 'park', 'part', 'partial', 'partially', 'particular', 'particularly', 'parties', 'parts', 'partum', 'party', 'pass', 'passed', 'past', 'pastel', 'pastels', 'patch', 'patches', 'patchwork', 'patience', 'patiently', 'pattern', 'patterned', 'patterns', 'pay', 'paying', 'pds', 'pe', 'pea', 'peach', 'peachy', 'peak', 'peaking', 'pear', 'pearls', 'peasant', 'pedal', 'peek', 'peekaboo', 'peeks', 'peep', 'pencil', 'pendant', 'penny', 'people', 'peplum', 'peplums', 'per', 'percent', 'percentage', 'perf', 'perfect', 'perfection', 'perfectly', 'perhaps', 'period', 'periwinkle', 'perky', 'person', 'personal', 'personality', 'personally', 'pet', 'petit', 'petite', 'petites', 'petitie', 'phenomenal', 'phone', 'photo', 'photograph', 'photographed', 'photographs', 'photos', 'pic', 'pick', 'picked', 'picking', 'picks', 'picky', 'picnic', 'pics', 'picture', 'pictured', 'pictures', 'pie', 'piece', 'pieced', 'pieces', 'pilates', 'pilco', 'pilcro', 'pilcros', 'pile', 'piling', 'pill', 'pilled', 'pilling', 'pills', 'pin', 'pinch', 'pineapple', 'pink', 'pinkish', 'pinks', 'pinky', 'pinned', 'pins', 'piping', 'pit', 'pizzazz', 'pj', 'pjs', 'pl', 'place', 'placed', 'placement', 'places', 'placket', 'plaid', 'plain', 'plan', 'plane', 'planned', 'planning', 'plans', 'plastic', 'platform', 'platforms', 'play', 'played', 'playful', 'playing', 'pleasant', 'pleasantly', 'please', 'pleased', 'pleasing', 'pleasure', 'pleat', 'pleated', 'pleating', 'pleats', 'plenty', 'plum', 'plunge', 'plunging', 'plus', 'plush', 'pm', 'pocket', 'pockets', 'point', 'pointed', 'pointelle', 'points', 'poking', 'polish', 'polished', 'polka', 'poly', 'polyester', 'pom', 'poms', 'poncho', 'ponchos', 'ponte', 'pooch', 'poof', 'poofs', 'poofy', 'pool', 'poor', 'poorly', 'pop', 'poplin', 'popped', 'popping', 'poppy', 'pops', 'popular', 'portion', 'portions', 'portland', 'portrayed', 'position', 'positioned', 'positive', 'positively', 'possibilities', 'possibility', 'possible', 'possibly', 'post', 'posted', 'poster', 'postpartum', 'potato', 'potential', 'potentially', 'pouch', 'poufy', 'pound', 'pounds', 'powder', 'power', 'practical', 'practically', 'praise', 'pre', 'precious', 'prefect', 'prefer', 'preference', 'preferred', 'pregnancy', 'pregnant', 'premium', 'prepared', 'preppy', 'present', 'presentation', 'pressed', 'prettier', 'prettiest', 'pretty', 'prevent', 'prevents', 'previous', 'previously', 'price', 'priced', 'prices', 'pricey', 'pricier', 'pricy', 'princess', 'print', 'printed', 'prints', 'prior', 'prob', 'probably', 'problem', 'problematic', 'problems', 'process', 'product', 'products', 'professional', 'profile', 'prominent', 'promise', 'promo', 'promotion', 'prompted', 'promptly', 'prone', 'pronounced', 'proper', 'properly', 'proportion', 'proportional', 'proportionate', 'proportioned', 'proportions', 'pros', 'protection', 'protruding', 'provide', 'provided', 'provides', 'providing', 'ps', 'pu', 'public', 'puckering', 'puff', 'puffer', 'puffy', 'pull', 'pulled', 'pulling', 'pullover', 'pulls', 'pumps', 'punch', 'puppy', 'pur', 'purchas', 'purchase', 'purchased', 'purchases', 'purchasing', 'pure', 'purely', 'purple', 'purpose', 'purposes', 'purse', 'push', 'pushed', 'put', 'puts', 'putting', 'pxs', 'pxxs', 'quality', 'quarter', 'queen', 'quest', 'question', 'questioned', 'questions', 'quibble', 'quick', 'quickly', 'quilted', 'quilting', 'quirky', 'quite', 'quot', 'quote', 'race', 'racer', 'racerback', 'rack', 'raglan', 'rail', 'rain', 'rainy', 'raise', 'raised', 'ran', 'random', 'randomly', 'range', 'ranna', 'rare', 'rarely', 'raspberry', 'rate', 'rated', 'rather', 'rating', 'ratio', 'ratty', 'rave', 'raves', 'raving', 'raw', 'rayon', 're', 'reach', 'reached', 'reaches', 'reaching', 'read', 'reading', 'reads', 'ready', 'real', 'reality', 'realize', 'realized', 'realizing', 'really', 'rear', 'reason', 'reasonable', 'reasonably', 'reasons', 'rec', 'reccomend', 'receive', 'received', 'receiving', 'recent', 'recently', 'recieved', 'recommend', 'recommendation', 'recommendations', 'recommended', 'red', 'reddish', 'redhead', 'reds', 'reese', 'ref', 'reference', 'refined', 'refreshing', 'reg', 'regard', 'regarding', 'regardless', 'regret', 'regrets', 'regretted', 'regretting', 'regualr', 'regular', 'regularly', 'rehearsal', 'reinforce', 'reinforced', 'relationship', 'relatively', 'relax', 'relaxed', 'relaxing', 'reluctant', 'rely', 'remain', 'remained', 'remaining', 'remarked', 'remember', 'remind', 'reminded', 'reminds', 'reminiscent', 'remotely', 'removable', 'remove', 'removed', 'remover', 'rendition', 'reorder', 'reordered', 'repeat', 'repeated', 'replace', 'replaced', 'replacement', 'replacing', 'report', 'representative', 'represented', 'represents', 'require', 'required', 'requires', 'resembles', 'reservation', 'reserve', 'resist', 'resistant', 'rest', 'restaurant', 'restock', 'restocked', 'restricted', 'restricting', 'restrictive', 'result', 'results', 'retail', 'retailer', 'retailerpolgie', 'retailers', 'retain', 'retained', 'retains', 'retro', 'return', 'returned', 'returning', 'returns', 'reunion', 'reveal', 'revealing', 'reveals', 'reversible', 'review', 'reviewed', 'reviewer', 'reviewers', 'reviews', 'rhinestones', 'rib', 'ribbed', 'ribbing', 'ribbon', 'ribbons', 'ribcage', 'ribs', 'rich', 'richer', 'richly', 'rid', 'ride', 'rides', 'ridiculous', 'ridiculously', 'riding', 'right', 'rinse', 'rip', 'ripped', 'ripping', 'rise', 'rises', 'risk', 'risky', 'robe', 'robes', 'rock', 'rocking', 'role', 'roll', 'rolled', 'rolling', 'rolls', 'romantic', 'romper', 'rompers', 'room', 'roomier', 'roominess', 'roomy', 'rope', 'rose', 'roses', 'rosie', 'rotation', 'rouching', 'rough', 'roughly', 'round', 'rounded', 'rounder', 'row', 'rows', 'royal', 'rubs', 'ruched', 'ruching', 'rue', 'ruffle', 'ruffled', 'ruffles', 'ruin', 'ruined', 'rule', 'run', 'running', 'runs', 'runway', 'rushed', 'rust', 'rustic', 'rusty', 'sa', 'sack', 'sacrificing', 'sad', 'sadly', 'safe', 'safely', 'safety', 'sag', 'sage', 'sagging', 'saggy', 'said', 'sale', 'sales', 'salesgirl', 'salesperson', 'salmon', 'same', 'san', 'sanctuary', 'sand', 'sandal', 'sandals', 'sandels', 'sandles', 'sapphire', 'sash', 'sassy', 'sat', 'satin', 'satiny', 'satisfied', 'saturated', 'saturday', 'sausage', 'save', 'saved', 'saving', 'saw', 'say', 'saying', 'says', 'scallop', 'scalloped', 'scared', 'scarf', 'scarves', 'scene', 'scheme', 'school', 'scissors', 'scoop', 'scooped', 'score', 'scored', 'scratchy', 'scream', 'screams', 'screen', 'script', 'se', 'sea', 'seafolly', 'seam', 'seaming', 'seamless', 'seamlessly', 'seams', 'seamstress', 'search', 'searched', 'searching', 'season', 'seasonal', 'seasonless', 'seasons', 'seat', 'seater', 'seattle', 'second', 'secondly', 'seconds', 'section', 'sections', 'secure', 'secured', 'see', 'seea', 'seeing', 'seem', 'seemed', 'seems', 'seen', 'sees', 'seldom', 'selection', 'self', 'sell', 'selling', 'sells', 'semi', 'send', 'sending', 'sense', 'sensitive', 'sent', 'separate', 'september', 'sequence', 'sequin', 'sequins', 'serif', 'serious', 'seriously', 'serve', 'service', 'set', 'sets', 'setting', 'settle', 'settled', 'several', 'sew', 'sewed', 'sewing', 'sewn', 'sexier', 'sexiness', 'sexy', 'sh', 'shade', 'shades', 'shading', 'shall', 'shame', 'shape', 'shaped', 'shapeless', 'shapely', 'shapes', 'shaping', 'share', 'sharp', 'shawl', 'she', 'shear', 'shearling', 'sheath', 'shed', 'shedding', 'sheds', 'sheen', 'sheep', 'sheer', 'sheerness', 'sheet', 'shelf', 'shell', 'shells', 'sherpa', 'shift', 'shimmer', 'shimmering', 'shimmery', 'shine', 'shiny', 'ship', 'shipped', 'shipping', 'shirt', 'shirtdress', 'shirts', 'shock', 'shocked', 'shocking', 'shoe', 'shoes', 'shoot', 'shooties', 'shop', 'shopper', 'shoppers', 'shopping', 'short', 'shorten', 'shortened', 'shortening', 'shorter', 'shortest', 'shortness', 'shorts', 'shorty', 'shot', 'shots', 'should', 'shoulder', 'shouldered', 'shoulders', 'shouldn', 'show', 'showed', 'shower', 'showing', 'shown', 'shows', 'showstopper', 'showy', 'shrank', 'shrink', 'shrinkage', 'shrinking', 'shrinks', 'shrug', 'shrunk', 'shut', 'shy', 'si', 'sick', 'side', 'sides', 'sight', 'sign', 'signature', 'significant', 'significantly', 'silhouette', 'silhouettes', 'silk', 'silky', 'silly', 'silver', 'silvery', 'similar', 'similarly', 'simple', 'simplicity', 'simplistic', 'simply', 'since', 'single', 'sipping', 'sister', 'sit', 'site', 'sites', 'sits', 'sitting', 'situation', 'six', 'siz', 'size', 'sized', 'sizes', 'sizing', 'skeptical', 'ski', 'skim', 'skimmed', 'skimming', 'skimpy', 'skims', 'skin', 'skinnier', 'skinnies', 'skinny', 'skinnys', 'skintone', 'skip', 'skirt', 'skirts', 'skort', 'skorts', 'sky', 'slacks', 'slant', 'slash', 'slate', 'sleek', 'sleep', 'sleeping', 'sleepwear', 'sleeve', 'sleeved', 'sleeveless', 'sleeves', 'slender', 'slept', 'slide', 'slides', 'sliding', 'slight', 'slightest', 'slightly', 'slim', 'slimmer', 'slimming', 'slims', 'slinky', 'slip', 'slipped', 'slipping', 'slips', 'slit', 'slits', 'sloppy', 'slouch', 'slouchy', 'slub', 'sm', 'small', 'smaller', 'smallest', 'smallish', 'smalls', 'smell', 'smelled', 'smells', 'smidge', 'smile', 'smitten', 'smock', 'smocking', 'smoky', 'smooth', 'smoothly', 'smooths', 'smudge', 'snag', 'snagged', 'snagging', 'snags', 'snails', 'snap', 'snapped', 'snaps', 'snatch', 'snatched', 'sneakers', 'snow', 'snug', 'snugger', 'snuggly', 'snugly', 'so', 'socal', 'social', 'sock', 'socks', 'soeurs', 'soft', 'soften', 'softer', 'softest', 'softly', 'softness', 'sold', 'solid', 'solids', 'solo', 'solution', 'solve', 'solved', 'solves', 'som', 'some', 'somehow', 'someone', 'something', 'sometime', 'sometimes', 'somewhat', 'somewhere', 'son', 'soo', 'soon', 'sooner', 'sooo', 'soooo', 'sooooo', 'soooooo', 'sophisticated', 'sophistication', 'sorbet', 'sorry', 'sort', 'sorts', 'south', 'southeast', 'southern', 'sp', 'space', 'spaced', 'spaghetti', 'spandex', 'spanx', 'spare', 'sparkle', 'sparkly', 'sparrow', 'speak', 'speaking', 'speaks', 'special', 'specific', 'specifically', 'spectacular', 'spend', 'spending', 'spent', 'spice', 'spilled', 'spilling', 'spin', 'spirit', 'split', 'splotches', 'splurge', 'splurged', 'spoke', 'sport', 'sports', 'sporty', 'spot', 'spots', 'spotted', 'spring', 'springtime', 'springy', 'square', 'squeeze', 'squeezing', 'st', 'stack', 'staff', 'stain', 'stained', 'stains', 'stalked', 'stalking', 'stand', 'standard', 'standards', 'standing', 'standout', 'stands', 'staple', 'staples', 'star', 'stars', 'start', 'started', 'starting', 'starts', 'stash', 'state', 'stated', 'statement', 'states', 'static', 'stating', 'stats', 'stature', 'stay', 'stayed', 'staying', 'stays', 'steal', 'steam', 'steamed', 'steamer', 'steaming', 'steel', 'steep', 'stellar', 'step', 'stepped', 'stepping', 'stet', 'stevie', 'stevies', 'sti', 'stick', 'sticker', 'sticking', 'sticks', 'sticky', 'stiff', 'stiffer', 'stiffness', 'stil', 'still', 'stink', 'stitch', 'stitched', 'stitches', 'stitching', 'stock', 'stocking', 'stoked', 'stomach', 'stone', 'stones', 'stood', 'stop', 'stopped', 'stopper', 'stops', 'store', 'stores', 'story', 'straight', 'straighter', 'straining', 'strange', 'strangely', 'stranger', 'strangers', 'strangest', 'strap', 'strapless', 'strappy', 'straps', 'streamlined', 'street', 'stress', 'stretch', 'stretched', 'stretches', 'stretchiness', 'stretching', 'stretchy', 'strikes', 'striking', 'string', 'strings', 'strip', 'stripe', 'striped', 'stripes', 'striping', 'strips', 'stroll', 'strong', 'strongly', 'struck', 'structure', 'structured', 'struggle', 'struggled', 'struggling', 'stuck', 'student', 'studio', 'stuff', 'stuffed', 'stumble', 'stumbled', 'stunned', 'stunner', 'stunning', 'sturdy', 'style', 'styled', 'styles', 'styling', 'stylish', 'stylist', 'stylists', 'subdued', 'substance', 'substantial', 'substitute', 'subtle', 'subtly', 'success', 'successfully', 'such', 'suck', 'sucker', 'suddenly', 'suede', 'suggest', 'suggested', 'suggestion', 'suggests', 'suit', 'suitable', 'suitcase', 'suited', 'suits', 'summer', 'summers', 'summertime', 'summery', 'sun', 'sunday', 'sunny', 'sunshine', 'super', 'superb', 'superior', 'supima', 'supple', 'support', 'supported', 'supportive', 'supports', 'suppose', 'supposed', 'sure', 'surely', 'surpassed', 'surprise', 'surprised', 'surprises', 'surprising', 'surprisingly', 'suspect', 'suspected', 'svelte', 'swallow', 'swallowed', 'swear', 'sweat', 'sweater', 'sweatercoat', 'sweaters', 'sweatpants', 'sweats', 'sweatshirt', 'sweatshirts', 'sweet', 'sweetheart', 'swept', 'swim', 'swimming', 'swimsuit', 'swimsuits', 'swimwear', 'swing', 'swings', 'swingy', 'swishes', 'swiss', 'switch', 'switched', 'swtr', 'symmetrical', 'synthetic', 'sz', 'tab', 'table', 'tablecloth', 'tack', 'tacked', 'tacky', 'tad', 'tag', 'tags', 'tail', 'tailor', 'tailored', 'tailoring', 'tailors', 'take', 'taken', 'takes', 'taking', 'talk', 'talked', 'talking', 'tall', 'taller', 'tan', 'tangerine', 'tank', 'tankini', 'tanks', 'tape', 'taper', 'tapered', 'tapering', 'tapestry', 'tassel', 'tassels', 'taste', 'tasteful', 'tastefully', 'taupe', 'te', 'tea', 'teach', 'teacher', 'teaching', 'teal', 'team', 'tear', 'tearing', 'tears', 'technically', 'tee', 'teenage', 'teeny', 'tees', 'tegan', 'teh', 'tell', 'telling', 'temperature', 'temperatures', 'temps', 'tempted', 'ten', 'tencel', 'tend', 'tendency', 'tends', 'tennis', 'tent', 'tenty', 'terms', 'terrible', 'terribly', 'terrific', 'territory', 'terry', 'test', 'tested', 'texas', 'textile', 'textiles', 'texture', 'textured', 'textures', 'th', 'tha', 'than', 'thank', 'thankful', 'thankfully', 'thanks', 'thanksgiving', 'that', 'thats', 'the', 'their', 'them', 'theme', 'themselves', 'then', 'there', 'therefore', 'these', 'they', 'thi', 'thick', 'thicker', 'thickness', 'thigh', 'thighs', 'thin', 'thing', 'things', 'think', 'thinking', 'thinks', 'thinner', 'thinnest', 'third', 'this', 'tho', 'thong', 'thoroughly', 'those', 'though', 'thought', 'thoughts', 'thread', 'threads', 'three', 'threw', 'thrilled', 'throu', 'through', 'throughout', 'throw', 'throwback', 'throwing', 'thrown', 'thru', 'thumb', 'thumbs', 'thus', 'ti', 'ticket', 'tie', 'tied', 'tier', 'tiered', 'tiers', 'ties', 'tight', 'tighten', 'tightened', 'tighter', 'tightly', 'tightness', 'tights', 'till', 'time', 'timeless', 'times', 'tinge', 'tiniest', 'tint', 'tiny', 'tip', 'tired', 'tissue', 'title', 'tla', 'to', 'toasty', 'today', 'toe', 'together', 'told', 'tomorrow', 'ton', 'tone', 'toned', 'tones', 'tonight', 'tons', 'too', 'took', 'top', 'topped', 'topper', 'tops', 'torn', 'torso', 'torsos', 'total', 'totally', 'touch', 'touched', 'touches', 'touching', 'tough', 'toward', 'towards', 'town', 'tr', 'track', 'tracy', 'traditional', 'trainers', 'transition', 'transitional', 'transitioning', 'transitions', 'translated', 'transparency', 'transparent', 'trapeze', 'travel', 'traveling', 'travels', 'treasure', 'treat', 'treated', 'tree', 'trench', 'trend', 'trendy', 'triangle', 'trick', 'tricky', 'tried', 'trigger', 'trim', 'trimester', 'trimmed', 'trip', 'trips', 'tropical', 'trouble', 'trouser', 'trousers', 'true', 'truly', 'trunk', 'trust', 'truth', 'truthfully', 'try', 'trying', 'tshirt', 'tts', 'tuck', 'tucked', 'tucking', 'tucks', 'tug', 'tulle', 'tumble', 'tummy', 'tunic', 'tunics', 'turn', 'turned', 'turning', 'turns', 'turquoise', 'turtle', 'turtleneck', 'turtlenecks', 'tush', 'tutu', 'tuxedo', 'tweed', 'twice', 'twill', 'twirl', 'twirling', 'twirls', 'twist', 'twisted', 'two', 'tying', 'type', 'types', 'typical', 'typically', 'uber', 'ugh', 'ugly', 'uh', 'uk', 'ultimately', 'ultra', 'umbrella', 'umbrellas', 'un', 'unable', 'unattractive', 'unbelievably', 'unbelted', 'unbutton', 'unbuttoned', 'unbuttoning', 'uncertain', 'uncomfortable', 'uncomfortably', 'uncuff', 'und', 'undecided', 'under', 'underarm', 'underarms', 'undergarments', 'underlay', 'underlayer', 'underlying', 'underneath', 'undershirt', 'underside', 'underskirt', 'understand', 'understated', 'understood', 'undertone', 'undertones', 'underwear', 'underwire', 'undies', 'undo', 'undone', 'uneven', 'unexpected', 'unexpectedly', 'unfinished', 'unflattering', 'unflatteringly', 'unforgiving', 'unfortunate', 'unfortunately', 'unhappy', 'uniform', 'unique', 'uniquely', 'uniqueness', 'universally', 'unless', 'unlike', 'unlined', 'unnecessary', 'unravel', 'unraveled', 'unroll', 'unrolled', 'unstructured', 'unsure', 'untied', 'until', 'untucked', 'unusual', 'unusually', 'unwanted', 'unwearable', 'unzip', 'unzipped', 'up', 'upcoming', 'update', 'updated', 'upgrade', 'upon', 'upper', 'ups', 'upscale', 'upset', 'upside', 'us', 'usa', 'use', 'used', 'useful', 'uses', 'using', 'usual', 'usually', 'utility', 'utterly', 'va', 'vacation', 'vacationing', 'vacations', 'valentine', 'value', 'vanity', 'vans', 'variation', 'variations', 'varied', 'varies', 'variety', 'various', 'vary', 'varying', 've', 'vegan', 'velvet', 'velvety', 'vent', 'verdict', 'verdugo', 'versatile', 'versatility', 'version', 'versions', 'versitile', 'versus', 'vertical', 'vertically', 'very', 'vest', 'vests', 'vey', 'vibe', 'vibrant', 'victorian', 'video', 'view', 'vintage', 'violet', 'virtually', 'viscose', 'visible', 'visit', 'visited', 'visiting', 'visual', 'visually', 'vivid', 'voila', 'volume', 'voluminous', 'vpl', 'vs', 'wa', 'waffle', 'waist', 'waistband', 'waisted', 'waistline', 'waists', 'wait', 'waited', 'waiting', 'walk', 'walked', 'walking', 'walks', 'wallet', 'want', 'wanted', 'wanting', 'wants', 'wardrobe', 'warm', 'warmed', 'warmer', 'warmers', 'warming', 'warms', 'warmth', 'warn', 'warned', 'warning', 'warrants', 'wary', 'was', 'wash', 'washable', 'washed', 'washer', 'washes', 'washing', 'washings', 'wasit', 'wasn', 'waste', 'wasted', 'watch', 'watched', 'watching', 'water', 'watercolor', 'wavering', 'waves', 'way', 'ways', 'we', 'wea', 'wear', 'wearability', 'wearable', 'wearer', 'wearing', 'wearings', 'wears', 'weather', 'weave', 'web', 'website', 'wedding', 'weddings', 'wedge', 'wedges', 'wee', 'week', 'weekend', 'weekends', 'weekly', 'weeks', 'weigh', 'weighing', 'weighs', 'weight', 'weighted', 'weightless', 'weighty', 'weird', 'wel', 'welcome', 'well', 'went', 'were', 'weren', 'west', 'western', 'wet', 'wh', 'what', 'whatever', 'whatsoever', 'when', 'whenever', 'where', 'whereas', 'wherever', 'whether', 'whic', 'which', 'while', 'whim', 'whimsical', 'whimsy', 'whiskering', 'white', 'who', 'whole', 'why', 'wi', 'wide', 'widely', 'widening', 'wider', 'widest', 'width', 'wife', 'wiggle', 'wil', 'wildest', 'will', 'willing', 'win', 'wind', 'window', 'windowpane', 'windy', 'wine', 'wings', 'winner', 'winning', 'winter', 'winters', 'wise', 'wish', 'wished', 'wishing', 'wit', 'with', 'within', 'without', 'withstand', 'wld', 'wo', 'woman', 'women', 'won', 'wonder', 'wondered', 'wonderful', 'wonderfully', 'wondering', 'wonders', 'wool', 'word', 'words', 'wore', 'work', 'workable', 'worked', 'workers', 'working', 'workmanship', 'workout', 'works', 'world', 'worlds', 'worn', 'worried', 'worries', 'worry', 'worrying', 'worse', 'worst', 'worth', 'worthwhile', 'worthy', 'woul', 'would', 'wouldn', 'wouldnt', 'wound', 'woven', 'wow', 'wrap', 'wrapped', 'wraps', 'wrinkle', 'wrinkled', 'wrinkles', 'wrinkling', 'wrinkly', 'wrist', 'wrists', 'write', 'writing', 'written', 'wrong', 'wrote', 'xl', 'xls', 'xs', 'xsmall', 'xsp', 'xspetite', 'xtra', 'xx', 'xxs', 'xxsmall', 'xxsp', 'yarn', 'yay', 'yeah', 'year', 'years', 'yellow', 'yes', 'yesterday', 'yet', 'yikes', 'yo', 'yoga', 'yoke', 'york', 'you', 'young', 'younger', 'your', 'youre', 'yourself', 'youthful', 'yr', 'yuck', 'yummy', 'zero', 'zip', 'zipped', 'zipper', 'zippered', 'zippers', 'zipping', 'zips', 'zone', 'zoom']\n"
     ]
    }
   ],
   "source": [
    "#Here, I've used the fit.transform method to fit text values in the X column.\n",
    "\n",
    "X = cv.fit_transform(X.values.astype('U'))\n",
    "print(cv.get_feature_names())"
   ]
  },
  {
   "cell_type": "code",
   "execution_count": 611,
   "id": "9dfc56fe-4bcf-492b-b775-4770b0f55ddc",
   "metadata": {},
   "outputs": [
    {
     "data": {
      "text/plain": [
       "(13973, 5000)"
      ]
     },
     "execution_count": 611,
     "metadata": {},
     "output_type": "execute_result"
    }
   ],
   "source": [
    "X.shape"
   ]
  },
  {
   "cell_type": "markdown",
   "id": "f149b28b-4258-483f-be2f-407302d933d3",
   "metadata": {},
   "source": [
    "### Train, Test and Split Using ML Models"
   ]
  },
  {
   "cell_type": "markdown",
   "id": "a1bb4c54-92ac-4676-aec4-3431b45916e0",
   "metadata": {},
   "source": [
    "### Using the Multinomial Naive Bayes Model first Analysis"
   ]
  },
  {
   "cell_type": "code",
   "execution_count": 612,
   "id": "59ea204e-c788-4f85-918a-9535748cd63f",
   "metadata": {},
   "outputs": [],
   "source": [
    "from sklearn.model_selection import train_test_split\n",
    "X_train, X_test, y_train, y_test = train_test_split(X, y, test_size=0.25, random_state=0)"
   ]
  },
  {
   "cell_type": "code",
   "execution_count": 514,
   "id": "f63ada25-8dcc-4b20-9811-90331875e7fe",
   "metadata": {},
   "outputs": [],
   "source": [
    "# Fitting classifier to the Training set\n",
    "from sklearn.naive_bayes import MultinomialNB\n",
    "classifier = MultinomialNB().fit(X_train, y_train)"
   ]
  },
  {
   "cell_type": "code",
   "execution_count": 515,
   "id": "769cfabc-7dd6-4ebe-a915-d404250f9478",
   "metadata": {},
   "outputs": [],
   "source": [
    "# Predicting the Test set results \n",
    "y_pred = classifier.predict(X_test)"
   ]
  },
  {
   "cell_type": "code",
   "execution_count": 516,
   "id": "6ae690df-be70-4182-b35b-c056c5df516d",
   "metadata": {},
   "outputs": [
    {
     "name": "stdout",
     "output_type": "stream",
     "text": [
      "[[ 144   65]\n",
      " [  53 3232]]\n"
     ]
    }
   ],
   "source": [
    "# Make the Confusion Matrix\n",
    "from sklearn.metrics import confusion_matrix\n",
    "confusion_m = confusion_matrix(y_test, y_pred)\n",
    "print(confusion_m)"
   ]
  },
  {
   "cell_type": "code",
   "execution_count": 517,
   "id": "0ba7cacc-c115-41f5-b098-af7d4c0d42a2",
   "metadata": {},
   "outputs": [
    {
     "name": "stdout",
     "output_type": "stream",
     "text": [
      "0.9662278191184889\n"
     ]
    }
   ],
   "source": [
    "# Evaluate the results\n",
    "from sklearn.metrics import accuracy_score\n",
    "accuracy = accuracy_score(y_test, y_pred)\n",
    "print(accuracy)"
   ]
  },
  {
   "cell_type": "code",
   "execution_count": 518,
   "id": "dfea98ab-2283-48ff-88f6-301088a66808",
   "metadata": {},
   "outputs": [],
   "source": [
    "from sklearn.metrics import precision_score\n",
    "from sklearn.metrics import recall_score\n",
    "from sklearn.metrics import f1_score\n",
    "prec_score = precision_score(y_test,y_pred)\n",
    "recall_score= recall_score(y_test,y_pred)\n",
    "f1 = f1_score(y_test,y_pred)"
   ]
  },
  {
   "cell_type": "code",
   "execution_count": 519,
   "id": "5160b4cc-0fa4-4cf0-a70f-16ff42372f83",
   "metadata": {},
   "outputs": [
    {
     "name": "stdout",
     "output_type": "stream",
     "text": [
      "Precision Score 0.7309644670050761\n",
      "Recall Score 0.6889952153110048\n",
      "F1 Score 0.7093596059113301\n"
     ]
    }
   ],
   "source": [
    "print('Precision Score', prec_score)\n",
    "print('Recall Score', recall_score)\n",
    "print('F1 Score', f1)"
   ]
  },
  {
   "cell_type": "markdown",
   "id": "124c84cc-ac9d-46c5-8ed3-9d2c1b526e16",
   "metadata": {},
   "source": [
    "### Using the KNN Model"
   ]
  },
  {
   "cell_type": "code",
   "execution_count": 520,
   "id": "bdaf4e67-297a-4dd3-bd7a-9c2062a3ca42",
   "metadata": {},
   "outputs": [],
   "source": [
    "# Splitting the dataset into the Training set and Test set\n",
    "import sklearn.metrics as metrics\n",
    "from sklearn.model_selection import train_test_split\n",
    "x_train, x_test, y_train, y_test = train_test_split(X, y, test_size=0.25, random_state=0)"
   ]
  },
  {
   "cell_type": "code",
   "execution_count": 521,
   "id": "bcbb4139-aca5-42ff-bccf-e095de7d5013",
   "metadata": {},
   "outputs": [],
   "source": [
    "from sklearn.neighbors import KNeighborsClassifier"
   ]
  },
  {
   "cell_type": "code",
   "execution_count": 522,
   "id": "abfaa1ef-03ae-409b-824b-05ebe8fbd65c",
   "metadata": {},
   "outputs": [],
   "source": [
    "knn = KNeighborsClassifier(n_neighbors=3).fit(x_train, y_train)"
   ]
  },
  {
   "cell_type": "code",
   "execution_count": 523,
   "id": "01edb7c0-fa95-4151-9810-2508dcb5c08b",
   "metadata": {},
   "outputs": [],
   "source": [
    "y_pred = knn.predict(x_test)"
   ]
  },
  {
   "cell_type": "code",
   "execution_count": 524,
   "id": "d406f904-7b53-408f-b128-dc63a8c9458b",
   "metadata": {},
   "outputs": [
    {
     "name": "stdout",
     "output_type": "stream",
     "text": [
      "[[  10  199]\n",
      " [  29 3256]]\n"
     ]
    }
   ],
   "source": [
    "# Make the Confusion Matrix\n",
    "confusion_m = confusion_matrix(y_test, y_pred)\n",
    "print(confusion_m)"
   ]
  },
  {
   "cell_type": "code",
   "execution_count": 525,
   "id": "65434d18-5e5f-437a-8449-358e2c2b58de",
   "metadata": {},
   "outputs": [
    {
     "name": "stdout",
     "output_type": "stream",
     "text": [
      "0.934745277618775\n"
     ]
    }
   ],
   "source": [
    "# Evaluate the results\n",
    "accuracy = accuracy_score(y_test, y_pred)\n",
    "print(accuracy)"
   ]
  },
  {
   "cell_type": "code",
   "execution_count": 526,
   "id": "36917ea7-f8c0-46c4-80c9-145393773b55",
   "metadata": {},
   "outputs": [],
   "source": [
    "prec_score = precision_score(y_test,y_pred)\n",
    "rec= metrics.recall_score(y_test,y_pred)\n",
    "f1 = f1_score(y_test,y_pred)"
   ]
  },
  {
   "cell_type": "code",
   "execution_count": 527,
   "id": "edca9d85-ca9e-492a-a602-3222f029f4d7",
   "metadata": {},
   "outputs": [
    {
     "name": "stdout",
     "output_type": "stream",
     "text": [
      "Precision Score 0.2564102564102564\n",
      "Recall Score 0.6889952153110048\n",
      "F1 Score 0.08064516129032258\n"
     ]
    }
   ],
   "source": [
    "print('Precision Score', prec_score)\n",
    "print('Recall Score', recall_score)\n",
    "print('F1 Score', f1)"
   ]
  },
  {
   "cell_type": "markdown",
   "id": "c2b43fc0-0382-4fe4-901f-d8b1896afc04",
   "metadata": {},
   "source": [
    "### Using the SVM Model"
   ]
  },
  {
   "cell_type": "code",
   "execution_count": 528,
   "id": "3c374f9f-41a3-4bd1-9bbe-669d764d16ee",
   "metadata": {},
   "outputs": [],
   "source": [
    "from sklearn.svm import SVC\n",
    "x_train, x_test, y_train, y_test = train_test_split(X, y, test_size=0.25, random_state=0)"
   ]
  },
  {
   "cell_type": "code",
   "execution_count": 529,
   "id": "9bd56ace-426c-4d4f-b6ed-69a8f6a9a51d",
   "metadata": {},
   "outputs": [],
   "source": [
    "clf = SVC(kernel='linear').fit(x_train, y_train)"
   ]
  },
  {
   "cell_type": "code",
   "execution_count": 530,
   "id": "d78080fb-c60c-4ba4-8ef3-31b9c7f82ea6",
   "metadata": {},
   "outputs": [],
   "source": [
    "# Predicting the Test set results \n",
    "y_pred = clf.predict(x_test)"
   ]
  },
  {
   "cell_type": "code",
   "execution_count": 531,
   "id": "a9491c5b-cd20-41c9-bdb9-c206bb5ed1ee",
   "metadata": {},
   "outputs": [
    {
     "name": "stdout",
     "output_type": "stream",
     "text": [
      "[[ 134   75]\n",
      " [  66 3219]]\n"
     ]
    }
   ],
   "source": [
    "confusion_m = confusion_matrix(y_test, y_pred)\n",
    "print(confusion_m)"
   ]
  },
  {
   "cell_type": "code",
   "execution_count": 532,
   "id": "0cf8c56e-9c89-44a2-aae0-6acef363539a",
   "metadata": {},
   "outputs": [
    {
     "name": "stdout",
     "output_type": "stream",
     "text": [
      "0.9596451058958214\n"
     ]
    }
   ],
   "source": [
    "# Evaluate the results\n",
    "accuracy = accuracy_score(y_test, y_pred)\n",
    "print(accuracy)"
   ]
  },
  {
   "cell_type": "code",
   "execution_count": 533,
   "id": "23bf9672-883d-44bf-8e3f-4eed489157d3",
   "metadata": {},
   "outputs": [],
   "source": [
    "prec_score = precision_score(y_test,y_pred)\n",
    "rec= metrics.recall_score(y_test,y_pred)\n",
    "f1 = f1_score(y_test,y_pred)"
   ]
  },
  {
   "cell_type": "code",
   "execution_count": 534,
   "id": "42e8ed65-5136-4a50-9ddc-c9ba9da86600",
   "metadata": {},
   "outputs": [
    {
     "name": "stdout",
     "output_type": "stream",
     "text": [
      "Precision Score 0.67\n",
      "Recall Score 0.6889952153110048\n",
      "F1 Score 0.6552567237163816\n"
     ]
    }
   ],
   "source": [
    "print('Precision Score', prec_score)\n",
    "print('Recall Score', recall_score)\n",
    "print('F1 Score', f1)"
   ]
  },
  {
   "cell_type": "markdown",
   "id": "8bf2dbe4-812a-4ad0-8460-42b58fdee790",
   "metadata": {},
   "source": [
    "### Using the Decision Tree Model"
   ]
  },
  {
   "cell_type": "code",
   "execution_count": 535,
   "id": "76519e7c-a54f-477e-80c9-8ab678ee84c1",
   "metadata": {},
   "outputs": [],
   "source": [
    "x_train, x_test, y_train, y_test = train_test_split(X, y, test_size=0.25, random_state=0)"
   ]
  },
  {
   "cell_type": "code",
   "execution_count": 536,
   "id": "546e69f9-b7f2-4aec-8a6c-76dd006c107e",
   "metadata": {},
   "outputs": [],
   "source": [
    " from sklearn.tree import DecisionTreeClassifier\n",
    "decision_tree = DecisionTreeClassifier(random_state=0).fit(x_train, y_train)"
   ]
  },
  {
   "cell_type": "code",
   "execution_count": 537,
   "id": "60e8b61e-1656-4691-a835-4bc5e4f3a732",
   "metadata": {},
   "outputs": [],
   "source": [
    "# Predicting the Test set results \n",
    "y_pred = decision_tree.predict(x_test)"
   ]
  },
  {
   "cell_type": "code",
   "execution_count": 538,
   "id": "1ef64765-33f7-4a7d-9ab7-534df5c1f5f4",
   "metadata": {},
   "outputs": [
    {
     "name": "stdout",
     "output_type": "stream",
     "text": [
      "[[  82  127]\n",
      " [ 110 3175]]\n"
     ]
    }
   ],
   "source": [
    "confusion_m = confusion_matrix(y_test, y_pred)\n",
    "print(confusion_m)"
   ]
  },
  {
   "cell_type": "code",
   "execution_count": 539,
   "id": "bd8e6823-4daa-40fc-bb92-0c227f064dad",
   "metadata": {},
   "outputs": [
    {
     "name": "stdout",
     "output_type": "stream",
     "text": [
      "0.9321694333142531\n"
     ]
    }
   ],
   "source": [
    "# Evaluate the results\n",
    "accuracy = accuracy_score(y_test, y_pred)\n",
    "print(accuracy)"
   ]
  },
  {
   "cell_type": "code",
   "execution_count": 540,
   "id": "788e2c93-1531-4666-b223-85755170546d",
   "metadata": {},
   "outputs": [],
   "source": [
    "prec_score = precision_score(y_test,y_pred)\n",
    "rec= metrics.recall_score(y_test,y_pred)\n",
    "f1 = f1_score(y_test,y_pred)"
   ]
  },
  {
   "cell_type": "code",
   "execution_count": 541,
   "id": "93fc503e-06dd-4ab3-b88d-6af89e519ce7",
   "metadata": {},
   "outputs": [
    {
     "name": "stdout",
     "output_type": "stream",
     "text": [
      "Precision Score 0.4270833333333333\n",
      "Recall Score 0.6889952153110048\n",
      "F1 Score 0.4089775561097257\n"
     ]
    }
   ],
   "source": [
    "print('Precision Score', prec_score)\n",
    "print('Recall Score', recall_score)\n",
    "print('F1 Score', f1)"
   ]
  },
  {
   "cell_type": "markdown",
   "id": "d3821cc3-9307-45c6-8e90-fc3b48ceb5a7",
   "metadata": {},
   "source": [
    "### Using the Random Forest Model"
   ]
  },
  {
   "cell_type": "code",
   "execution_count": 542,
   "id": "b64c6eac-664a-4bcd-8d50-1831cd451ece",
   "metadata": {},
   "outputs": [],
   "source": [
    "# Splitting the dataset into the Training set and Test set\n",
    "from sklearn.model_selection import train_test_split\n",
    "x_train, x_test, y_train, y_test = train_test_split(X, y, test_size=0.25, random_state=0)"
   ]
  },
  {
   "cell_type": "code",
   "execution_count": 543,
   "id": "8baa1b9d-4c3a-4153-a2d4-442bb68b86a5",
   "metadata": {},
   "outputs": [],
   "source": [
    "from sklearn.ensemble import RandomForestClassifier\n",
    "\n",
    "rf = RandomForestClassifier().fit(X_train, y_train)"
   ]
  },
  {
   "cell_type": "code",
   "execution_count": 544,
   "id": "175dfae1-d274-42d2-bf01-a54839030895",
   "metadata": {},
   "outputs": [],
   "source": [
    "# Predicting the Test set results \n",
    "y_pred = rf.predict(x_test)"
   ]
  },
  {
   "cell_type": "code",
   "execution_count": 545,
   "id": "3a734cce-e2b2-4f02-bd17-389192d04b6e",
   "metadata": {},
   "outputs": [
    {
     "name": "stdout",
     "output_type": "stream",
     "text": [
      "[[  22  187]\n",
      " [   3 3282]]\n"
     ]
    }
   ],
   "source": [
    "confusion_m = confusion_matrix(y_test, y_pred)\n",
    "print(confusion_m)"
   ]
  },
  {
   "cell_type": "code",
   "execution_count": 546,
   "id": "448c3dd3-dfec-4529-a256-bece3f29ea38",
   "metadata": {},
   "outputs": [
    {
     "name": "stdout",
     "output_type": "stream",
     "text": [
      "0.9456210646823126\n"
     ]
    }
   ],
   "source": [
    "# Evaluate the results\n",
    "accuracy = accuracy_score(y_test, y_pred)\n",
    "print(accuracy)"
   ]
  },
  {
   "cell_type": "code",
   "execution_count": 547,
   "id": "424c742d-34f1-45ef-be65-b27374a45246",
   "metadata": {},
   "outputs": [],
   "source": [
    "prec_score = precision_score(y_test,y_pred)\n",
    "rec= metrics.recall_score(y_test,y_pred)\n",
    "f1 = f1_score(y_test,y_pred)"
   ]
  },
  {
   "cell_type": "code",
   "execution_count": 548,
   "id": "782a1425-00c1-49b3-b1df-936036525760",
   "metadata": {},
   "outputs": [
    {
     "name": "stdout",
     "output_type": "stream",
     "text": [
      "Precision Score 0.88\n",
      "Recall Score 0.6889952153110048\n",
      "F1 Score 0.188034188034188\n"
     ]
    }
   ],
   "source": [
    "print('Precision Score', prec_score)\n",
    "print('Recall Score', recall_score)\n",
    "print('F1 Score', f1)"
   ]
  },
  {
   "cell_type": "markdown",
   "id": "9ad14dfc-31eb-4ade-9052-d118708f17db",
   "metadata": {},
   "source": [
    "### Using the SVM Model"
   ]
  },
  {
   "cell_type": "code",
   "execution_count": 549,
   "id": "36a68fb3-3845-4d86-8c50-b46ab970d3e0",
   "metadata": {},
   "outputs": [],
   "source": [
    "from sklearn.svm import SVC\n",
    "x_train, x_test, y_train, y_test = train_test_split(X, y, test_size=0.25, random_state=0)"
   ]
  },
  {
   "cell_type": "code",
   "execution_count": 550,
   "id": "e40426f4-f272-464e-b5c3-16400d48f05e",
   "metadata": {},
   "outputs": [],
   "source": [
    "clf = SVC(kernel='linear').fit(x_train, y_train)"
   ]
  },
  {
   "cell_type": "code",
   "execution_count": 551,
   "id": "531f9655-308f-4af8-8513-071958f75ac9",
   "metadata": {},
   "outputs": [],
   "source": [
    "# Predicting the Test set results \n",
    "y_pred = clf.predict(x_test)"
   ]
  },
  {
   "cell_type": "code",
   "execution_count": 552,
   "id": "f05ac104-9a68-4320-831b-3ecfcf6d400a",
   "metadata": {},
   "outputs": [
    {
     "name": "stdout",
     "output_type": "stream",
     "text": [
      "[[ 134   75]\n",
      " [  66 3219]]\n"
     ]
    }
   ],
   "source": [
    "confusion_m = confusion_matrix(y_test, y_pred)\n",
    "print(confusion_m)"
   ]
  },
  {
   "cell_type": "code",
   "execution_count": 553,
   "id": "104bdc77-a315-4e5b-9251-d4c34acdcdfb",
   "metadata": {},
   "outputs": [
    {
     "name": "stdout",
     "output_type": "stream",
     "text": [
      "0.9596451058958214\n"
     ]
    }
   ],
   "source": [
    "# Evaluate the results\n",
    "accuracy = accuracy_score(y_test, y_pred)\n",
    "print(accuracy)"
   ]
  },
  {
   "cell_type": "code",
   "execution_count": 554,
   "id": "782d57cb-d7a8-467d-88ab-7adbdc67ec0b",
   "metadata": {},
   "outputs": [],
   "source": [
    "prec_score = precision_score(y_test,y_pred)\n",
    "rec= metrics.recall_score(y_test,y_pred)\n",
    "f1 = f1_score(y_test,y_pred)"
   ]
  },
  {
   "cell_type": "code",
   "execution_count": 555,
   "id": "3bf74f4c-81d4-462d-89b9-5fb578d187ca",
   "metadata": {},
   "outputs": [
    {
     "name": "stdout",
     "output_type": "stream",
     "text": [
      "Precision Score 0.67\n",
      "Recall Score 0.6889952153110048\n",
      "F1 Score 0.6552567237163816\n"
     ]
    }
   ],
   "source": [
    "print('Precision Score', prec_score)\n",
    "print('Recall Score', recall_score)\n",
    "print('F1 Score', f1)"
   ]
  },
  {
   "cell_type": "markdown",
   "id": "08ed7c68-6469-42c1-93b4-72824d27b0a8",
   "metadata": {},
   "source": [
    "### TF IDF Model"
   ]
  },
  {
   "cell_type": "code",
   "execution_count": 556,
   "id": "b7ae4742-3ee4-450b-9573-27ac02d8e60f",
   "metadata": {},
   "outputs": [],
   "source": [
    "from sklearn.feature_extraction.text import TfidfVectorizer\n",
    "\n",
    "tv = TfidfVectorizer (max_features=5000, min_df=7, max_df=0.8, stop_words=stopwords.words('english'))"
   ]
  },
  {
   "cell_type": "code",
   "execution_count": 560,
   "id": "4f187ede-0f51-4c22-ae72-ad20cb09e907",
   "metadata": {},
   "outputs": [
    {
     "name": "stdout",
     "output_type": "stream",
     "text": [
      "['00', '00p', '0p', '10', '100', '103', '104', '105', '108', '10p', '11', '110', '110lbs', '112', '115', '115lbs', '116', '117', '118', '119', '12', '120', '120lb', '120lbs', '122', '123', '123lbs', '124', '125', '125lbs', '126', '127', '128', '128lbs', '130', '130lbs', '132', '134', '135', '135lbs', '136', '137', '138', '14', '140', '140lbs', '142', '145', '145lbs', '15', '150', '150lbs', '155', '16', '160', '170', '18', '20', '200', '24', '25', '25p', '26', '27', '28', '29', '2nd', '2p', '30', '30d', '30dd', '31', '32', '32b', '32c', '32d', '32dd', '32ddd', '33', '34', '34a', '34b', '34c', '34d', '34dd', '34ddd', '34f', '35', '36', '36a', '36b', '36c', '36d', '36dd', '36ddd', '37', '38', '38c', '39', '3rd', '40', '44', '4p', '4th', '50', '55', '5ft', '60', '60s', '6ft', '6p', '70', '70s', '80', '8p', '90', '95', '99', 'ability', 'able', 'absolute', 'absolutely', 'abt', 'accent', 'accents', 'accentuate', 'accentuated', 'accentuates', 'acceptable', 'accessories', 'accessorize', 'accidentally', 'accommodate', 'according', 'accurate', 'accurately', 'achieve', 'across', 'acrylic', 'act', 'active', 'actual', 'actually', 'add', 'added', 'adding', 'addition', 'additional', 'adds', 'adequate', 'adjust', 'adjustable', 'adjusted', 'adjusting', 'adjustment', 'admit', 'admittedly', 'adn', 'adorable', 'adore', 'advantage', 'advertised', 'advice', 'advised', 'aesthetic', 'affordable', 'afraid', 'afternoon', 'ag', 'age', 'ages', 'ago', 'agree', 'agreed', 'ahead', 'air', 'airy', 'aka', 'alas', 'allow', 'allowing', 'allows', 'almost', 'alone', 'along', 'alot', 'already', 'also', 'alteration', 'alterations', 'altered', 'alternative', 'although', 'always', 'amazed', 'amazing', 'amazingly', 'amount', 'amp', 'ample', 'angel', 'ankle', 'ankles', 'anniversary', 'annoying', 'another', 'antho', 'anticipate', 'anticipated', 'antro', 'anymore', 'anyone', 'anything', 'anytime', 'anyway', 'anyways', 'anywhere', 'apart', 'apparent', 'apparently', 'appeal', 'appealing', 'appear', 'appearance', 'appeared', 'appears', 'apple', 'appreciate', 'appreciated', 'apprehensive', 'appropriate', 'appropriately', 'aqua', 'area', 'areas', 'arm', 'armhole', 'armholes', 'armpit', 'armpits', 'arms', 'army', 'around', 'arrival', 'arrive', 'arrived', 'art', 'artistic', 'asap', 'aside', 'ask', 'asked', 'asking', 'aspect', 'associate', 'assumed', 'asymmetric', 'asymmetrical', 'athletic', 'attached', 'attend', 'attention', 'attire', 'attitude', 'attracted', 'attractive', 'august', 'autumn', 'available', 'average', 'avoid', 'aware', 'away', 'awesome', 'awful', 'awhile', 'awkward', 'awkwardly', 'baby', 'back', 'background', 'backside', 'bad', 'badly', 'bag', 'baggier', 'baggy', 'bailey', 'balance', 'balances', 'ball', 'ballet', 'band', 'bandeau', 'banded', 'bare', 'barely', 'bargain', 'base', 'based', 'basic', 'basically', 'basics', 'basket', 'bathing', 'bc', 'beach', 'beachy', 'beaded', 'beading', 'beads', 'beat', 'beautiful', 'beautifully', 'beauty', 'became', 'become', 'becomes', 'becoming', 'bed', 'begin', 'beginning', 'begins', 'behind', 'beige', 'believe', 'bell', 'belly', 'belt', 'belted', 'bend', 'bending', 'beneath', 'besides', 'best', 'bet', 'better', 'beware', 'beyond', 'bias', 'bib', 'big', 'bigger', 'biggest', 'bikini', 'bill', 'billowy', 'bird', 'birds', 'birthday', 'bit', 'bizarre', 'black', 'blanket', 'blazer', 'blazers', 'blend', 'block', 'blonde', 'blouse', 'blouses', 'blousy', 'blue', 'blues', 'bluish', 'blush', 'board', 'boat', 'bodice', 'body', 'bohemian', 'boho', 'boiled', 'bold', 'bomber', 'bone', 'bonus', 'boo', 'boobs', 'book', 'boot', 'bootie', 'booties', 'boots', 'booty', 'bordeaux', 'boring', 'bother', 'bottom', 'bottoms', 'bought', 'bow', 'bows', 'box', 'boxes', 'boxier', 'boxy', 'boy', 'boyfriend', 'bra', 'brainer', 'braless', 'bralette', 'brand', 'brands', 'bras', 'break', 'breaker', 'breast', 'breasted', 'breasts', 'breathable', 'breathe', 'breathes', 'breathing', 'breathtaking', 'breeze', 'breezy', 'bridal', 'bright', 'brighter', 'brilliant', 'bring', 'bringing', 'brings', 'broad', 'broader', 'brocade', 'broke', 'broken', 'bronze', 'brought', 'brown', 'brownish', 'brunch', 'btw', 'bu', 'bubble', 'bucks', 'build', 'built', 'bulge', 'bulges', 'bulk', 'bulky', 'bum', 'bummed', 'bummer', 'bump', 'bumps', 'bunch', 'bunched', 'bunching', 'burgundy', 'burnt', 'business', 'bust', 'busted', 'bustier', 'busty', 'busy', 'butt', 'butter', 'buttery', 'button', 'buttondown', 'buttoned', 'buttoning', 'buttons', 'buy', 'buying', 'byron', 'ca', 'cable', 'cage', 'cal', 'calf', 'california', 'call', 'called', 'calves', 'came', 'camel', 'cami', 'camisole', 'camouflage', 'cannot', 'cant', 'canvas', 'cap', 'cape', 'capri', 'capris', 'car', 'carbon', 'card', 'cardi', 'cardigan', 'cardigans', 'care', 'careful', 'carefully', 'carried', 'carries', 'carry', 'carrying', 'cart', 'cartonnier', 'case', 'cashmere', 'casual', 'casually', 'cat', 'catalog', 'catch', 'catching', 'caught', 'causal', 'cause', 'caused', 'causing', 'caution', 'caveat', 'center', 'certain', 'certainly', 'challenge', 'chambray', 'chance', 'change', 'changed', 'changing', 'character', 'charcoal', 'charlie', 'charm', 'charming', 'chart', 'cheap', 'cheaply', 'check', 'checked', 'cheerful', 'chemise', 'chest', 'chested', 'chesty', 'chic', 'chiffon', 'child', 'children', 'chilly', 'chino', 'chinos', 'chocolate', 'choice', 'choose', 'chose', 'christmas', 'chunky', 'church', 'cinch', 'cinched', 'cinches', 'circle', 'citizens', 'city', 'clasp', 'class', 'classic', 'classy', 'clean', 'cleaned', 'cleaner', 'cleaning', 'clear', 'clearance', 'clearly', 'cleavage', 'climate', 'climates', 'cling', 'clinging', 'clings', 'clingy', 'clogs', 'close', 'closed', 'closely', 'closer', 'closet', 'closure', 'closures', 'cloth', 'clothes', 'clothing', 'co', 'coat', 'coats', 'cobalt', 'cocktail', 'cocoon', 'code', 'coffee', 'cold', 'colder', 'collar', 'collection', 'college', 'color', 'colored', 'colorful', 'coloring', 'colors', 'colorway', 'colour', 'combination', 'combinations', 'combined', 'combo', 'come', 'comes', 'comfort', 'comfortable', 'comfortably', 'comfy', 'coming', 'comment', 'commented', 'comments', 'common', 'company', 'compare', 'compared', 'comparison', 'compelled', 'complain', 'complaint', 'complaints', 'complement', 'complements', 'complete', 'completely', 'complexion', 'compliment', 'complimentary', 'complimented', 'compliments', 'computer', 'con', 'concern', 'concerned', 'concert', 'confident', 'confused', 'confusing', 'cons', 'conscious', 'conservative', 'consider', 'considered', 'considering', 'consistent', 'consistently', 'constant', 'constantly', 'constricted', 'constricting', 'constructed', 'construction', 'contemplating', 'contemporary', 'content', 'continue', 'contrary', 'contrast', 'contrasting', 'control', 'convinced', 'cool', 'cooler', 'cools', 'copper', 'coral', 'cords', 'corduroy', 'correct', 'correctly', 'cost', 'cotton', 'could', 'count', 'country', 'couple', 'coupon', 'course', 'cover', 'coverage', 'covered', 'covering', 'covers', 'coverup', 'cowboy', 'cowl', 'cozy', 'craftsmanship', 'crazy', 'cream', 'creamy', 'create', 'created', 'creates', 'creating', 'creative', 'crepe', 'crisp', 'criticism', 'crochet', 'crocheted', 'crooked', 'crop', 'cropped', 'crops', 'cross', 'crossed', 'crotch', 'cuddly', 'cuff', 'cuffed', 'cuffs', 'culottes', 'cup', 'cups', 'curious', 'current', 'currently', 'curve', 'curves', 'curvier', 'curvy', 'customer', 'customers', 'cut', 'cute', 'cuter', 'cutest', 'cutout', 'cutouts', 'cuts', 'cutting', 'cycle', 'daily', 'dance', 'dancing', 'dark', 'darker', 'darling', 'darn', 'darts', 'date', 'daughter', 'day', 'days', 'daytime', 'dd', 'ddd', 'deal', 'death', 'debated', 'debating', 'decent', 'decide', 'decided', 'deciding', 'decision', 'deep', 'deeper', 'def', 'defective', 'defined', 'definite', 'definitely', 'definition', 'degree', 'degrees', 'deletta', 'delicate', 'delicious', 'delight', 'delighted', 'delightful', 'delivered', 'denim', 'depending', 'depends', 'depicted', 'depicts', 'depth', 'describe', 'described', 'description', 'design', 'designed', 'designer', 'designs', 'desire', 'desired', 'despite', 'detachable', 'detail', 'detailed', 'detailing', 'details', 'developed', 'didnt', 'die', 'difference', 'different', 'differently', 'difficult', 'dimension', 'dinner', 'dinners', 'dip', 'dips', 'directions', 'disagree', 'disappoint', 'disappointed', 'disappointing', 'disappointment', 'disaster', 'discount', 'discovered', 'dislike', 'display', 'displayed', 'distinctive', 'distressed', 'distressing', 'divine', 'doesnt', 'dog', 'dolan', 'doll', 'dollars', 'dolman', 'done', 'dont', 'door', 'dot', 'dots', 'double', 'doubt', 'dowdy', 'downs', 'downside', 'dr', 'drab', 'drag', 'dramatic', 'drape', 'draped', 'drapes', 'drapey', 'draping', 'draw', 'drawback', 'drawn', 'drawstring', 'dreaded', 'dream', 'dreamy', 'dress', 'dressed', 'dresses', 'dressier', 'dressing', 'dressy', 'drew', 'dried', 'drinks', 'drop', 'dry', 'dryer', 'drying', 'due', 'dull', 'durability', 'durable', 'duster', 'dusty', 'dye', 'earlier', 'early', 'earrings', 'ease', 'easier', 'easily', 'easter', 'easy', 'eat', 'edge', 'edges', 'edging', 'edgy', 'effect', 'effort', 'effortless', 'effortlessly', 'either', 'elastic', 'elasticized', 'elbow', 'elbows', 'elegance', 'elegant', 'element', 'elevate', 'elevates', 'elevenses', 'else', 'elsewhere', 'email', 'embellishment', 'embroidered', 'embroidery', 'emerald', 'emphasize', 'emphasizes', 'empire', 'employee', 'end', 'ended', 'endless', 'endowed', 'ends', 'engagement', 'england', 'enhance', 'enhances', 'enjoy', 'enjoyed', 'enjoying', 'enormous', 'enough', 'ensure', 'entire', 'entirely', 'environment', 'equally', 'errands', 'espadrilles', 'especially', 'essential', 'etc', 'europe', 'eve', 'even', 'evening', 'evenings', 'event', 'events', 'eventually', 'ever', 'every', 'everyday', 'everyone', 'everything', 'everywhere', 'exact', 'exactly', 'example', 'exceeded', 'excellent', 'except', 'exception', 'exceptional', 'exceptionally', 'excess', 'excessive', 'exchange', 'exchanged', 'exchanging', 'excited', 'exclusive', 'expect', 'expectations', 'expected', 'expecting', 'expensive', 'experience', 'explain', 'exposed', 'exquisite', 'extra', 'extreme', 'extremely', 'eye', 'eyeing', 'eyelet', 'eyes', 'fab', 'fabric', 'fabrics', 'fabulous', 'face', 'fact', 'factor', 'fade', 'faded', 'fading', 'fair', 'fairly', 'fall', 'falling', 'falls', 'family', 'fan', 'fancier', 'fancy', 'fantastic', 'far', 'fashion', 'fashionable', 'fast', 'fat', 'fault', 'faux', 'fav', 'fave', 'favorite', 'favorites', 'fear', 'feature', 'featured', 'features', 'feel', 'feeling', 'feels', 'feet', 'fell', 'felt', 'feminine', 'fence', 'festive', 'fiber', 'fibers', 'figure', 'figured', 'figures', 'fill', 'finally', 'find', 'finding', 'fine', 'fingers', 'finish', 'finished', 'finishing', 'fir', 'first', 'fit', 'fits', 'fitted', 'fitting', 'five', 'fix', 'fixed', 'fl', 'flair', 'flannel', 'flare', 'flared', 'flares', 'flat', 'flats', 'flatter', 'flattering', 'flatters', 'flaw', 'flawless', 'flaws', 'flecks', 'fleece', 'flexible', 'flimsy', 'flip', 'flirty', 'floaty', 'floor', 'floppy', 'flops', 'floral', 'floreat', 'florida', 'flounce', 'flow', 'flowed', 'flower', 'flowers', 'flowey', 'flowing', 'flows', 'flowy', 'fluffy', 'fluid', 'flutter', 'fluttery', 'fly', 'flying', 'fo', 'fold', 'folded', 'followed', 'following', 'follows', 'foot', 'forest', 'forever', 'forgiving', 'form', 'formal', 'forth', 'fortunately', 'forward', 'found', 'four', 'fragile', 'frame', 'framed', 'fray', 'frayed', 'free', 'freezing', 'frequently', 'fresh', 'friday', 'fridays', 'friend', 'friendly', 'friends', 'frilly', 'fringe', 'fringed', 'front', 'frumpy', 'ft', 'full', 'fuller', 'fullness', 'fully', 'fun', 'function', 'functional', 'funky', 'funny', 'fur', 'fuss', 'fussy', 'future', 'fuzzy', 'fyi', 'gained', 'gal', 'gals', 'game', 'gap', 'gape', 'gaping', 'gapping', 'garment', 'garments', 'gathered', 'gathering', 'gathers', 'gauze', 'gauzy', 'gave', 'gem', 'general', 'generally', 'generous', 'generously', 'gentle', 'gently', 'get', 'gets', 'getting', 'giant', 'gift', 'girl', 'girls', 'girly', 'give', 'given', 'gives', 'giving', 'glad', 'glamorous', 'glass', 'glove', 'go', 'goddess', 'goes', 'going', 'gold', 'golden', 'gone', 'good', 'goodness', 'gorgeous', 'gorgeously', 'got', 'gotten', 'gown', 'grab', 'grabbed', 'grabbing', 'graceful', 'gracefully', 'graduation', 'grandma', 'graphic', 'gravitate', 'gray', 'great', 'green', 'greenish', 'grey', 'gripe', 'ground', 'growing', 'guess', 'guessing', 'gym', 'ha', 'hair', 'half', 'halfway', 'halter', 'hand', 'handle', 'hands', 'handy', 'hang', 'hanger', 'hanging', 'hangs', 'happen', 'happened', 'happens', 'happier', 'happily', 'happy', 'hard', 'hardly', 'hat', 'hate', 'hawaii', 'hd', 'head', 'heads', 'heals', 'heart', 'heartbeat', 'heat', 'heather', 'heathered', 'heaven', 'heavenly', 'heavier', 'heavy', 'heck', 'heel', 'heeled', 'heels', 'heft', 'hei', 'height', 'held', 'help', 'helped', 'helpful', 'helps', 'hem', 'hemline', 'hemmed', 'hemming', 'hems', 'hence', 'henley', 'hesitant', 'hesitate', 'hesitated', 'hesitation', 'hi', 'hidden', 'hide', 'hides', 'hiding', 'high', 'higher', 'highly', 'hint', 'hip', 'hippie', 'hippy', 'hips', 'hit', 'hits', 'hitting', 'hoffman', 'hold', 'holding', 'holds', 'hole', 'holes', 'holiday', 'holidays', 'holly', 'home', 'honest', 'honestly', 'honey', 'hood', 'hoodie', 'hook', 'hooked', 'hooks', 'hope', 'hoped', 'hopefully', 'hopes', 'hoping', 'horizontal', 'horrible', 'horribly', 'horses', 'hot', 'hour', 'hourglass', 'hours', 'house', 'however', 'hte', 'hubby', 'hue', 'hug', 'huge', 'hugged', 'hugging', 'hugs', 'humid', 'hung', 'hunt', 'husband', 'hyphen', 'idea', 'ideal', 'ill', 'illusion', 'im', 'image', 'images', 'imagine', 'imagined', 'immediately', 'imo', 'impeccable', 'imperfections', 'important', 'importantly', 'impossible', 'impressed', 'impulse', 'inch', 'inches', 'included', 'including', 'incredible', 'incredibly', 'indeed', 'indigo', 'indoors', 'initially', 'inner', 'insanely', 'inseam', 'inset', 'inside', 'inspired', 'instagram', 'instant', 'instantly', 'instead', 'instructions', 'intend', 'intended', 'intention', 'interest', 'interested', 'interesting', 'interior', 'intricate', 'intrigued', 'investment', 'irl', 'iron', 'ironed', 'ironing', 'irritating', 'ish', 'issue', 'issues', 'italy', 'itch', 'itching', 'itchy', 'item', 'items', 'ive', 'ivory', 'jacket', 'jackets', 'jean', 'jeans', 'jeggings', 'jersey', 'jewel', 'jewelry', 'job', 'joggers', 'jsut', 'july', 'jumped', 'jumper', 'jumpsuit', 'jumpsuits', 'june', 'justice', 'justify', 'keep', 'keeper', 'keeping', 'keeps', 'kelly', 'kept', 'key', 'keyhole', 'khaki', 'kick', 'kid', 'kidding', 'kids', 'kimono', 'kimonos', 'kind', 'kinda', 'knee', 'knees', 'knew', 'knit', 'knits', 'knitted', 'knot', 'knotted', 'know', 'knowing', 'known', 'knows', 'la', 'label', 'lace', 'laces', 'lack', 'lacy', 'ladies', 'lady', 'laid', 'lapels', 'large', 'larger', 'lars', 'last', 'lastly', 'late', 'lately', 'later', 'lavender', 'law', 'lay', 'layer', 'layered', 'layering', 'layers', 'lays', 'lazy', 'lb', 'lbd', 'lbs', 'lean', 'least', 'leather', 'leave', 'leaves', 'leaving', 'left', 'leg', 'legged', 'legging', 'leggings', 'legs', 'lends', 'length', 'less', 'let', 'lets', 'level', 'li', 'lie', 'life', 'lift', 'light', 'lighter', 'lightly', 'lightweight', 'like', 'liked', 'likely', 'likes', 'liking', 'lilac', 'line', 'lined', 'linen', 'liner', 'lines', 'lingerie', 'lining', 'lint', 'list', 'listed', 'listened', 'literally', 'little', 'live', 'lived', 'living', 'lo', 'loads', 'local', 'location', 'lol', 'long', 'longer', 'look', 'looked', 'looking', 'lookout', 'looks', 'loop', 'loops', 'loose', 'loosely', 'loosen', 'looseness', 'looser', 'lose', 'losing', 'lost', 'lot', 'lots', 'lounge', 'loungewear', 'lounging', 'love', 'loved', 'lovely', 'lover', 'loves', 'loving', 'low', 'lower', 'luck', 'luckily', 'lucky', 'lumps', 'lunch', 'lush', 'luxe', 'luxurious', 'machine', 'mad', 'made', 'maeve', 'magical', 'mail', 'main', 'mainly', 'major', 'make', 'makes', 'makeup', 'making', 'man', 'mango', 'many', 'mara', 'mark', 'marked', 'market', 'marks', 'maroon', 'massive', 'match', 'matched', 'matches', 'matching', 'material', 'materials', 'maternity', 'matronly', 'matter', 'mauve', 'maxi', 'may', 'maybe', 'meadow', 'mean', 'meaning', 'means', 'meant', 'measurements', 'med', 'medium', 'mediums', 'meet', 'meeting', 'meets', 'men', 'mention', 'mentioned', 'mesh', 'mess', 'metal', 'metallic', 'mid', 'middle', 'midi', 'midsection', 'might', 'mild', 'military', 'million', 'mind', 'mine', 'mini', 'minimal', 'minor', 'mint', 'minute', 'minutes', 'mirror', 'miss', 'missed', 'missing', 'mistake', 'mix', 'mixed', 'mock', 'model', 'models', 'modern', 'modest', 'modesty', 'mom', 'moment', 'money', 'monitor', 'month', 'months', 'mood', 'morning', 'mornings', 'moss', 'mostly', 'moth', 'mother', 'motif', 'moto', 'moulinette', 'move', 'movement', 'moves', 'movie', 'moving', 'mp', 'much', 'muffin', 'multi', 'multiple', 'muscular', 'must', 'mustard', 'muted', 'name', 'nan', 'narrow', 'natural', 'nature', 'navel', 'navy', 'near', 'nearly', 'neat', 'necessarily', 'necessary', 'neck', 'necklace', 'necklaces', 'neckline', 'need', 'needed', 'needing', 'needless', 'needs', 'negative', 'neither', 'neon', 'nervous', 'neutral', 'never', 'new', 'next', 'nice', 'nicely', 'nicer', 'niece', 'night', 'nightgown', 'nights', 'non', 'none', 'nonetheless', 'normal', 'normally', 'north', 'notch', 'note', 'noted', 'nothing', 'notice', 'noticeable', 'noticed', 'nude', 'number', 'numerous', 'nursing', 'nyc', 'nylon', 'oatmeal', 'obsessed', 'obvious', 'obviously', 'occasion', 'occasionally', 'occasions', 'odd', 'oddly', 'offer', 'offered', 'offers', 'office', 'often', 'oh', 'ok', 'okay', 'old', 'older', 'olive', 'omg', 'one', 'ones', 'online', 'onto', 'opaque', 'open', 'opened', 'opening', 'openings', 'opinion', 'opportunity', 'opposed', 'opposite', 'opt', 'opted', 'option', 'options', 'orange', 'order', 'ordered', 'ordering', 'ordinary', 'original', 'originally', 'others', 'otherwise', 'outdoor', 'outer', 'outerwear', 'outfit', 'outfits', 'outings', 'outs', 'outside', 'outstanding', 'overall', 'overalls', 'overlay', 'overlook', 'overlooked', 'overly', 'overpriced', 'oversize', 'oversized', 'overwhelm', 'overwhelming', 'owned', 'pack', 'package', 'packaging', 'packing', 'padded', 'padding', 'paid', 'paige', 'pain', 'pair', 'paired', 'pairing', 'pairs', 'pajama', 'pajamas', 'pale', 'panel', 'panels', 'pant', 'pants', 'panty', 'paper', 'paris', 'park', 'part', 'partially', 'particular', 'particularly', 'parties', 'parts', 'party', 'pass', 'passed', 'past', 'pastel', 'patches', 'pattern', 'patterned', 'patterns', 'pay', 'paying', 'peach', 'peachy', 'pear', 'pearls', 'peasant', 'peek', 'pencil', 'penny', 'people', 'peplum', 'per', 'percent', 'perfect', 'perfection', 'perfectly', 'perhaps', 'periwinkle', 'person', 'personal', 'personality', 'personally', 'petite', 'petites', 'phone', 'photo', 'photographed', 'photos', 'pic', 'pick', 'picked', 'picks', 'picky', 'pics', 'picture', 'pictured', 'pictures', 'piece', 'pieced', 'pieces', 'pilco', 'pilcro', 'pilcros', 'pill', 'pilling', 'pin', 'pinch', 'pink', 'pinkish', 'pinks', 'pinned', 'pj', 'pjs', 'place', 'placed', 'placement', 'places', 'placket', 'plaid', 'plain', 'plan', 'plane', 'planned', 'planning', 'plastic', 'platform', 'play', 'playful', 'pleasant', 'pleasantly', 'please', 'pleased', 'pleasing', 'pleasure', 'pleat', 'pleated', 'pleating', 'pleats', 'plenty', 'plum', 'plunge', 'plus', 'pocket', 'pockets', 'point', 'pointed', 'polished', 'polka', 'poly', 'polyester', 'poms', 'poncho', 'pooch', 'poof', 'poofs', 'poofy', 'pool', 'poor', 'poorly', 'pop', 'popped', 'popping', 'pops', 'popular', 'portion', 'positive', 'possibilities', 'possible', 'possibly', 'post', 'posted', 'postpartum', 'potato', 'potential', 'pounds', 'practical', 'practically', 'pre', 'precious', 'prefect', 'prefer', 'preference', 'preferred', 'pregnancy', 'pregnant', 'prepared', 'present', 'pressed', 'prettier', 'pretty', 'prevent', 'previous', 'previously', 'price', 'priced', 'pricey', 'pricy', 'princess', 'print', 'printed', 'prints', 'prior', 'probably', 'problem', 'problems', 'product', 'products', 'professional', 'profile', 'promo', 'promotion', 'prone', 'pronounced', 'proper', 'properly', 'proportion', 'proportioned', 'proportions', 'pros', 'provide', 'provides', 'ps', 'public', 'puffy', 'pull', 'pulled', 'pulling', 'pullover', 'pulls', 'pumps', 'purchase', 'purchased', 'purchases', 'purchasing', 'pure', 'purple', 'purpose', 'purposes', 'push', 'pushed', 'put', 'puts', 'putting', 'pxs', 'quality', 'quarter', 'question', 'quick', 'quickly', 'quirky', 'quite', 'racer', 'rack', 'raise', 'raised', 'ran', 'random', 'range', 'rare', 'rarely', 'raspberry', 'rather', 'rating', 'raw', 'rayon', 'reach', 'reaches', 'reaching', 'read', 'reading', 'ready', 'real', 'reality', 'realize', 'realized', 'really', 'rear', 'reason', 'reasonable', 'reasons', 'receive', 'received', 'receiving', 'recent', 'recently', 'recommend', 'recommended', 'red', 'reddish', 'reds', 'reese', 'ref', 'reference', 'reg', 'regarding', 'regardless', 'regret', 'regualr', 'regular', 'rehearsal', 'relatively', 'relaxed', 'relaxing', 'remember', 'remind', 'reminded', 'reminds', 'removable', 'remove', 'removed', 'reordered', 'replace', 'represented', 'require', 'required', 'requires', 'resist', 'rest', 'restocked', 'restrictive', 'result', 'retailer', 'retro', 'return', 'returned', 'returning', 'returns', 'reveal', 'revealing', 'reversible', 'review', 'reviewed', 'reviewer', 'reviewers', 'reviews', 'rib', 'ribbed', 'ribbing', 'ribbon', 'ribcage', 'rich', 'richer', 'ride', 'ridiculous', 'ridiculously', 'riding', 'right', 'rip', 'ripped', 'rise', 'risk', 'robe', 'rock', 'roll', 'rolled', 'rolling', 'rolls', 'romantic', 'romper', 'rompers', 'room', 'roomier', 'roomy', 'rose', 'rotation', 'rough', 'round', 'rounded', 'royal', 'ruched', 'ruching', 'rue', 'ruffle', 'ruffled', 'ruffles', 'ruined', 'run', 'running', 'runs', 'rust', 'sa', 'sack', 'sad', 'sadly', 'sag', 'sagging', 'said', 'sale', 'sales', 'salesperson', 'salmon', 'san', 'sand', 'sandal', 'sandals', 'sat', 'satin', 'satisfied', 'saturated', 'saturday', 'save', 'saw', 'say', 'saying', 'says', 'scalloped', 'scared', 'scarf', 'scarves', 'scheme', 'school', 'scoop', 'scooped', 'score', 'scratchy', 'screen', 'sea', 'seam', 'seaming', 'seams', 'seamstress', 'search', 'searching', 'season', 'seasons', 'seat', 'second', 'section', 'secure', 'see', 'seeing', 'seem', 'seemed', 'seems', 'seen', 'self', 'sell', 'selling', 'sells', 'semi', 'send', 'sending', 'sense', 'sensitive', 'sent', 'september', 'sequins', 'serif', 'seriously', 'service', 'set', 'sets', 'setting', 'several', 'sew', 'sewing', 'sewn', 'sexy', 'shade', 'shades', 'shame', 'shape', 'shaped', 'shapeless', 'shapes', 'share', 'sharp', 'shear', 'sheath', 'shed', 'sheen', 'sheer', 'sheerness', 'shell', 'shift', 'shimmer', 'shimmery', 'shine', 'shiny', 'ship', 'shipped', 'shipping', 'shirt', 'shirtdress', 'shirts', 'shocked', 'shoe', 'shoes', 'shop', 'shopper', 'shopping', 'short', 'shorten', 'shortened', 'shorter', 'shorts', 'shot', 'shoulder', 'shouldered', 'shoulders', 'show', 'showed', 'shower', 'showing', 'shown', 'shows', 'shrank', 'shrink', 'shrinkage', 'shrinking', 'shrinks', 'shrug', 'shrunk', 'shy', 'side', 'sides', 'sight', 'significantly', 'silhouette', 'silk', 'silky', 'silly', 'silver', 'silvery', 'similar', 'simple', 'simplicity', 'simply', 'since', 'single', 'sister', 'sit', 'site', 'sits', 'sitting', 'six', 'size', 'sized', 'sizes', 'sizing', 'skeptical', 'ski', 'skimming', 'skims', 'skin', 'skinnies', 'skinny', 'skinnys', 'skip', 'skirt', 'skirts', 'skort', 'sky', 'slacks', 'slate', 'sleek', 'sleep', 'sleeping', 'sleepwear', 'sleeve', 'sleeved', 'sleeveless', 'sleeves', 'slender', 'slide', 'slight', 'slightly', 'slim', 'slimmer', 'slimming', 'slip', 'slipped', 'slips', 'slit', 'slits', 'sloppy', 'slouchy', 'sm', 'small', 'smaller', 'smallest', 'smalls', 'smell', 'smidge', 'smile', 'smooth', 'snag', 'snagged', 'snagging', 'snags', 'snap', 'snapped', 'snaps', 'snatched', 'sneakers', 'snow', 'snug', 'snugger', 'snuggly', 'snugly', 'socks', 'soft', 'softer', 'softest', 'softness', 'sold', 'solid', 'solved', 'somehow', 'someone', 'something', 'sometimes', 'somewhat', 'somewhere', 'son', 'soo', 'soon', 'sooo', 'soooo', 'sooooo', 'sophisticated', 'sorry', 'sort', 'south', 'southern', 'sp', 'space', 'spandex', 'spare', 'sparkle', 'sparkly', 'speak', 'special', 'specific', 'specifically', 'spectacular', 'spend', 'spending', 'spent', 'split', 'splurge', 'splurged', 'sports', 'spot', 'spots', 'spotted', 'spring', 'square', 'squeeze', 'stain', 'stained', 'stains', 'stalking', 'stand', 'standard', 'standing', 'stands', 'staple', 'star', 'stars', 'start', 'started', 'starting', 'starts', 'stated', 'statement', 'states', 'static', 'stating', 'stats', 'stay', 'stayed', 'stays', 'steal', 'step', 'stet', 'stevie', 'stevies', 'stick', 'sticking', 'sticks', 'stiff', 'still', 'stitch', 'stitched', 'stitching', 'stock', 'stomach', 'stone', 'stood', 'stop', 'stopped', 'stopper', 'store', 'stores', 'straight', 'strange', 'strangely', 'strangers', 'strap', 'strapless', 'strappy', 'straps', 'street', 'stretch', 'stretched', 'stretches', 'stretching', 'stretchy', 'striking', 'string', 'strings', 'stripe', 'striped', 'stripes', 'strong', 'strongly', 'struck', 'structure', 'structured', 'struggle', 'stuck', 'stuff', 'stumbled', 'stunner', 'stunning', 'sturdy', 'style', 'styled', 'styles', 'styling', 'stylish', 'stylist', 'substantial', 'subtle', 'subtly', 'sucker', 'suede', 'suggest', 'suggested', 'suggestion', 'suggests', 'suit', 'suitable', 'suitcase', 'suits', 'summer', 'summers', 'summertime', 'summery', 'sun', 'sunday', 'sunny', 'super', 'superb', 'superior', 'supple', 'support', 'supportive', 'suppose', 'supposed', 'sure', 'surely', 'surprise', 'surprised', 'surprises', 'surprising', 'surprisingly', 'suspect', 'swallow', 'swallowed', 'sweat', 'sweater', 'sweaters', 'sweatshirt', 'sweet', 'swim', 'swimming', 'swimsuit', 'swing', 'swings', 'swingy', 'synthetic', 'sz', 'table', 'tad', 'tag', 'tail', 'tailor', 'tailored', 'tailoring', 'take', 'taken', 'takes', 'taking', 'talking', 'tall', 'taller', 'tan', 'tangerine', 'tank', 'tanks', 'taper', 'tapered', 'tassels', 'taste', 'taupe', 'te', 'tea', 'teacher', 'teal', 'tear', 'tee', 'teeny', 'tees', 'teh', 'tell', 'temperatures', 'temps', 'tempted', 'ten', 'tend', 'tends', 'tent', 'terms', 'terrible', 'terribly', 'terrific', 'terry', 'texas', 'textile', 'texture', 'textured', 'textures', 'th', 'tha', 'thank', 'thankfully', 'thanks', 'thanksgiving', 'thats', 'therefore', 'thi', 'thick', 'thicker', 'thickness', 'thigh', 'thighs', 'thin', 'thing', 'things', 'think', 'thinking', 'thinner', 'third', 'tho', 'though', 'thought', 'thoughts', 'thread', 'threads', 'three', 'threw', 'thrilled', 'throughout', 'throw', 'throwing', 'thru', 'thus', 'ti', 'tie', 'tied', 'tiered', 'ties', 'tight', 'tighter', 'tightly', 'tights', 'till', 'time', 'timeless', 'times', 'tiny', 'tired', 'tissue', 'title', 'today', 'toe', 'together', 'told', 'tomorrow', 'ton', 'tone', 'toned', 'tones', 'tons', 'took', 'top', 'topper', 'tops', 'torn', 'torso', 'total', 'totally', 'touch', 'touched', 'touches', 'tough', 'toward', 'towards', 'town', 'tracy', 'traditional', 'transition', 'transitional', 'transitioning', 'transparent', 'trapeze', 'travel', 'traveling', 'travels', 'treasure', 'treat', 'trench', 'trend', 'trendy', 'triangle', 'trick', 'tricky', 'tried', 'trim', 'trip', 'trouble', 'trouser', 'trousers', 'true', 'truly', 'trust', 'try', 'trying', 'tshirt', 'tts', 'tuck', 'tucked', 'tucking', 'tulle', 'tummy', 'tunic', 'tunics', 'turn', 'turned', 'turns', 'turquoise', 'turtle', 'turtleneck', 'tweed', 'twice', 'twirling', 'twist', 'two', 'type', 'types', 'typical', 'typically', 'ugly', 'ultimately', 'ultra', 'umbrella', 'un', 'unattractive', 'unbelievably', 'unbutton', 'unbuttoned', 'unbuttoning', 'uncomfortable', 'underarm', 'undergarments', 'underneath', 'undershirt', 'understand', 'understated', 'underwear', 'underwire', 'undo', 'undone', 'uneven', 'unexpected', 'unfinished', 'unflattering', 'unfortunate', 'unfortunately', 'uniform', 'unique', 'uniqueness', 'unless', 'unlike', 'unlined', 'unrolled', 'unsure', 'untied', 'untucked', 'unusual', 'unwearable', 'unzipped', 'upcoming', 'upon', 'upper', 'us', 'usa', 'use', 'used', 'useful', 'uses', 'using', 'usual', 'usually', 'vacation', 'value', 'variation', 'variations', 'variety', 'various', 'vary', 'vegan', 'velvet', 'versatile', 'versatility', 'version', 'versions', 'versus', 'vertical', 'vertically', 'vest', 'vests', 'vibe', 'vibrant', 'view', 'vintage', 'virtually', 'viscose', 'visible', 'visit', 'visual', 'vivid', 'volume', 'voluminous', 'vs', 'waffle', 'waist', 'waistband', 'waisted', 'waistline', 'wait', 'waited', 'waiting', 'walk', 'walked', 'walking', 'want', 'wanted', 'wanting', 'wants', 'wardrobe', 'warm', 'warmer', 'warms', 'warmth', 'warn', 'warned', 'warning', 'wash', 'washable', 'washed', 'washer', 'washes', 'washing', 'waste', 'wasted', 'watch', 'watching', 'water', 'watercolor', 'way', 'ways', 'wear', 'wearable', 'wearer', 'wearing', 'wears', 'weather', 'weave', 'web', 'website', 'wedding', 'weddings', 'wedge', 'wedges', 'week', 'weekend', 'weekends', 'weeks', 'weigh', 'weight', 'weighty', 'weird', 'well', 'went', 'west', 'western', 'wet', 'whatever', 'whatsoever', 'whenever', 'whether', 'whim', 'whimsical', 'white', 'whole', 'wi', 'wide', 'wider', 'width', 'wiggle', 'willing', 'win', 'wind', 'window', 'windy', 'wine', 'winner', 'winter', 'winters', 'wise', 'wish', 'wished', 'within', 'without', 'wo', 'woman', 'women', 'wonder', 'wondered', 'wonderful', 'wonderfully', 'wondering', 'wool', 'word', 'words', 'wore', 'work', 'worked', 'working', 'workmanship', 'workout', 'works', 'world', 'worn', 'worried', 'worry', 'worse', 'worst', 'worth', 'worthy', 'would', 'wound', 'woven', 'wow', 'wrap', 'wrapped', 'wraps', 'wrinkle', 'wrinkled', 'wrinkles', 'wrinkly', 'wrist', 'wrists', 'write', 'writing', 'written', 'wrong', 'wrote', 'xl', 'xs', 'xsmall', 'xsp', 'xspetite', 'xxs', 'xxsp', 'yarn', 'yay', 'year', 'years', 'yellow', 'yes', 'yesterday', 'yet', 'yo', 'yoga', 'yoke', 'young', 'younger', 'zero', 'zip', 'zipped', 'zipper', 'zippers', 'zipping', 'zips']\n"
     ]
    }
   ],
   "source": [
    "#Here, I've used the fit.transform method to fit text values in the X column.\n",
    "\n",
    "\n",
    "X = New_DF['Review Text']\n",
    "y1 = New_DF['Rating']\n",
    "X1 = tv.fit_transform(X.values.astype('U'))\n",
    "print(tv.get_feature_names())"
   ]
  },
  {
   "cell_type": "markdown",
   "id": "0798a123-5da5-4388-82c9-613260d82bcb",
   "metadata": {},
   "source": [
    "### Modelling with Naive Bayes"
   ]
  },
  {
   "cell_type": "code",
   "execution_count": 561,
   "id": "f9c7ef8e-e47e-4aaa-889f-23e0dc3ff22e",
   "metadata": {},
   "outputs": [],
   "source": [
    "# Splitting the dataset into the Training set and Test set\n",
    "from sklearn.model_selection import train_test_split\n",
    "X_train, X_test, y_train, y_test = train_test_split(X1, y1, test_size=0.20, random_state=0)"
   ]
  },
  {
   "cell_type": "code",
   "execution_count": 562,
   "id": "7f285501-6d23-4e26-9ae8-ce2906441923",
   "metadata": {},
   "outputs": [],
   "source": [
    "# Fitting classifier to the Training set\n",
    "from sklearn.naive_bayes import MultinomialNB\n",
    "classifier = MultinomialNB().fit(X_train, y_train)"
   ]
  },
  {
   "cell_type": "code",
   "execution_count": 563,
   "id": "362429ac-206e-4bc2-bb0a-1f49017f1ece",
   "metadata": {},
   "outputs": [],
   "source": [
    "# Predicting the Test set results \n",
    "y_pred = classifier.predict(X_test)"
   ]
  },
  {
   "cell_type": "code",
   "execution_count": 564,
   "id": "b5f3801f-da1c-413f-8baf-ad9b920d5827",
   "metadata": {},
   "outputs": [
    {
     "name": "stdout",
     "output_type": "stream",
     "text": [
      "[[  19  145]\n",
      " [   2 2629]]\n"
     ]
    }
   ],
   "source": [
    "confusion_m = confusion_matrix(y_test, y_pred)\n",
    "print(confusion_m)"
   ]
  },
  {
   "cell_type": "code",
   "execution_count": 565,
   "id": "235a52fb-5912-489c-bfca-bf1c61458147",
   "metadata": {},
   "outputs": [
    {
     "name": "stdout",
     "output_type": "stream",
     "text": [
      "0.9474060822898033\n"
     ]
    }
   ],
   "source": [
    "accuracy = accuracy_score(y_test, y_pred)\n",
    "print(accuracy)"
   ]
  },
  {
   "cell_type": "code",
   "execution_count": 566,
   "id": "95a91c1a-8821-45a6-a6e8-0451906388d3",
   "metadata": {},
   "outputs": [],
   "source": [
    "prec_score = precision_score(y_test,y_pred)\n",
    "rec= metrics.recall_score(y_test,y_pred)\n",
    "f1 = f1_score(y_test,y_pred)"
   ]
  },
  {
   "cell_type": "code",
   "execution_count": 567,
   "id": "01b95dfc-9ac5-4438-bf2c-fef68fc8e0c3",
   "metadata": {},
   "outputs": [
    {
     "name": "stdout",
     "output_type": "stream",
     "text": [
      "Precision Score 0.9047619047619048\n",
      "Recall Score 0.6889952153110048\n",
      "F1 Score 0.20540540540540542\n"
     ]
    }
   ],
   "source": [
    "print('Precision Score', prec_score)\n",
    "print('Recall Score', recall_score)\n",
    "print('F1 Score', f1)"
   ]
  },
  {
   "cell_type": "markdown",
   "id": "e5d47348-78ed-4111-85d2-a3d73d64da27",
   "metadata": {},
   "source": [
    "### KNN Model"
   ]
  },
  {
   "cell_type": "code",
   "execution_count": 568,
   "id": "c8df6d8a-6ff8-4d81-99b5-f194f012bc2f",
   "metadata": {},
   "outputs": [],
   "source": [
    "# Splitting the dataset into the Training set and Test set\n",
    "from sklearn.model_selection import train_test_split\n",
    "x_train, x_test, y_train, y_test = train_test_split(X1, y1, test_size=0.25, random_state=0)"
   ]
  },
  {
   "cell_type": "code",
   "execution_count": 569,
   "id": "cbfe37fa-8666-4548-95a1-b57f3596ecbe",
   "metadata": {},
   "outputs": [],
   "source": [
    "knn = KNeighborsClassifier(n_neighbors=3).fit(x_train, y_train)"
   ]
  },
  {
   "cell_type": "code",
   "execution_count": 570,
   "id": "95b28d8c-2e7a-4de6-a2e1-61c1e5f51a9a",
   "metadata": {},
   "outputs": [],
   "source": [
    "# Predicting the Test set results \n",
    "y_pred = knn.predict(x_test)"
   ]
  },
  {
   "cell_type": "code",
   "execution_count": 571,
   "id": "ed924f5e-daad-49c9-a084-0ba8a20711c1",
   "metadata": {},
   "outputs": [
    {
     "name": "stdout",
     "output_type": "stream",
     "text": [
      "[[  47  162]\n",
      " [  11 3274]]\n"
     ]
    }
   ],
   "source": [
    "confusion_m = confusion_matrix(y_test, y_pred)\n",
    "print(confusion_m)"
   ]
  },
  {
   "cell_type": "code",
   "execution_count": 572,
   "id": "ec390a55-15a2-4ee7-9ae9-6cdf17f9c102",
   "metadata": {},
   "outputs": [
    {
     "name": "stdout",
     "output_type": "stream",
     "text": [
      "0.9504865483686319\n"
     ]
    }
   ],
   "source": [
    "accuracy = accuracy_score(y_test, y_pred)\n",
    "print(accuracy)"
   ]
  },
  {
   "cell_type": "code",
   "execution_count": 573,
   "id": "7016dfc2-231c-4bf4-beea-2d29f2f7190d",
   "metadata": {},
   "outputs": [],
   "source": [
    "prec_score = precision_score(y_test,y_pred)\n",
    "rec= metrics.recall_score(y_test,y_pred)\n",
    "f1 = f1_score(y_test,y_pred)"
   ]
  },
  {
   "cell_type": "code",
   "execution_count": 574,
   "id": "98c3f736-7b4a-46dc-acbe-4e5cc2aa0391",
   "metadata": {},
   "outputs": [
    {
     "name": "stdout",
     "output_type": "stream",
     "text": [
      "Precision Score 0.8103448275862069\n",
      "Recall Score 0.6889952153110048\n",
      "F1 Score 0.352059925093633\n"
     ]
    }
   ],
   "source": [
    "print('Precision Score', prec_score)\n",
    "print('Recall Score', recall_score)\n",
    "print('F1 Score', f1)"
   ]
  },
  {
   "cell_type": "markdown",
   "id": "92d9d1ee-523b-4912-b096-aa6749fabe7e",
   "metadata": {},
   "source": [
    "### SVM Model"
   ]
  },
  {
   "cell_type": "code",
   "execution_count": 575,
   "id": "2adb2ed9-9d87-44f2-999a-0dbf6f8e00c6",
   "metadata": {},
   "outputs": [],
   "source": [
    "from sklearn.svm import SVC\n",
    "x_train, x_test, y_train, y_test = train_test_split(X1, y1, test_size=0.25, random_state=0)"
   ]
  },
  {
   "cell_type": "code",
   "execution_count": 576,
   "id": "84fc2ff2-5a28-4f76-af11-e68d6e36ae9c",
   "metadata": {},
   "outputs": [],
   "source": [
    "clf = SVC(kernel='linear').fit(x_train, y_train)"
   ]
  },
  {
   "cell_type": "code",
   "execution_count": 577,
   "id": "c8c6e960-cd80-4024-bfcf-0edf2230f968",
   "metadata": {},
   "outputs": [],
   "source": [
    "# Predicting the Test set results \n",
    "y_pred = clf.predict(x_test)"
   ]
  },
  {
   "cell_type": "code",
   "execution_count": 578,
   "id": "66a66006-fb40-484c-bc60-c318fa8a9b22",
   "metadata": {},
   "outputs": [
    {
     "name": "stdout",
     "output_type": "stream",
     "text": [
      "[[ 111   98]\n",
      " [  16 3269]]\n"
     ]
    }
   ],
   "source": [
    "confusion_m = confusion_matrix(y_test, y_pred)\n",
    "print(confusion_m)"
   ]
  },
  {
   "cell_type": "code",
   "execution_count": 579,
   "id": "9cbe24d8-c52d-40d6-8391-979f5de0d22d",
   "metadata": {},
   "outputs": [
    {
     "name": "stdout",
     "output_type": "stream",
     "text": [
      "0.9673726388093875\n"
     ]
    }
   ],
   "source": [
    "# Evaluate the results\n",
    "accuracy = accuracy_score(y_test, y_pred)\n",
    "print(accuracy)"
   ]
  },
  {
   "cell_type": "code",
   "execution_count": 580,
   "id": "f85f8665-caeb-4375-9c75-38f247e94dfb",
   "metadata": {},
   "outputs": [],
   "source": [
    "prec_score = precision_score(y_test,y_pred)\n",
    "rec= metrics.recall_score(y_test,y_pred)\n",
    "f1 = f1_score(y_test,y_pred)"
   ]
  },
  {
   "cell_type": "code",
   "execution_count": 581,
   "id": "cd625c71-5742-4f82-b2ae-9d76584f8f22",
   "metadata": {},
   "outputs": [
    {
     "name": "stdout",
     "output_type": "stream",
     "text": [
      "Precision Score 0.8740157480314961\n",
      "Recall Score 0.6889952153110048\n",
      "F1 Score 0.6607142857142857\n"
     ]
    }
   ],
   "source": [
    "print('Precision Score', prec_score)\n",
    "print('Recall Score', recall_score)\n",
    "print('F1 Score', f1)"
   ]
  },
  {
   "cell_type": "markdown",
   "id": "e83ce51e-fe19-4372-a8cf-77293b658ecb",
   "metadata": {},
   "source": [
    "### Decision Tree Model"
   ]
  },
  {
   "cell_type": "code",
   "execution_count": 582,
   "id": "5d1c8e48-fedf-4f91-8d10-127714666890",
   "metadata": {},
   "outputs": [],
   "source": [
    "x_train, x_test, y_train, y_test = train_test_split(X1, y1, test_size=0.25, random_state=0)"
   ]
  },
  {
   "cell_type": "code",
   "execution_count": 583,
   "id": "b8ac3d83-cc06-4e16-ad4a-0311fc9411f6",
   "metadata": {},
   "outputs": [],
   "source": [
    "decision_tree = DecisionTreeClassifier(random_state=0).fit(x_train, y_train)"
   ]
  },
  {
   "cell_type": "code",
   "execution_count": 584,
   "id": "c8cb77de-2ef4-4477-8e18-21b1203df840",
   "metadata": {},
   "outputs": [],
   "source": [
    "# Predicting the Test set results \n",
    "y_pred = decision_tree.predict(x_test)"
   ]
  },
  {
   "cell_type": "code",
   "execution_count": 585,
   "id": "43be02d8-457f-4938-98f2-0a301ee53783",
   "metadata": {},
   "outputs": [
    {
     "name": "stdout",
     "output_type": "stream",
     "text": [
      "[[  81  128]\n",
      " [  82 3203]]\n"
     ]
    }
   ],
   "source": [
    "confusion_m = confusion_matrix(y_test, y_pred)\n",
    "print(confusion_m)"
   ]
  },
  {
   "cell_type": "code",
   "execution_count": 586,
   "id": "1990812e-b2a2-4c33-9aa3-27eed37237df",
   "metadata": {},
   "outputs": [
    {
     "name": "stdout",
     "output_type": "stream",
     "text": [
      "0.9398969662278192\n"
     ]
    }
   ],
   "source": [
    "# Evaluate the results\n",
    "accuracy = accuracy_score(y_test, y_pred)\n",
    "print(accuracy)"
   ]
  },
  {
   "cell_type": "code",
   "execution_count": 587,
   "id": "70ddda4c-ad99-4a12-b19c-afef6904a51c",
   "metadata": {},
   "outputs": [],
   "source": [
    "prec_score = precision_score(y_test,y_pred)\n",
    "rec= metrics.recall_score(y_test,y_pred)\n",
    "f1 = f1_score(y_test,y_pred)"
   ]
  },
  {
   "cell_type": "code",
   "execution_count": 588,
   "id": "da31b0f2-da65-45b4-b568-027f5db071af",
   "metadata": {},
   "outputs": [
    {
     "name": "stdout",
     "output_type": "stream",
     "text": [
      "Precision Score 0.49693251533742333\n",
      "Recall Score 0.6889952153110048\n",
      "F1 Score 0.43548387096774194\n"
     ]
    }
   ],
   "source": [
    "print('Precision Score', prec_score)\n",
    "print('Recall Score', recall_score)\n",
    "print('F1 Score', f1)"
   ]
  },
  {
   "cell_type": "markdown",
   "id": "6776b2f4-eee6-4040-aa00-36f63e239f25",
   "metadata": {},
   "source": [
    "### Random Forest Model"
   ]
  },
  {
   "cell_type": "code",
   "execution_count": 589,
   "id": "5b8626bf-7bfe-40f3-97fc-1cb86feee47b",
   "metadata": {},
   "outputs": [],
   "source": [
    "x_train, x_test, y_train, y_test = train_test_split(X1, y1, test_size=0.25, random_state=0)"
   ]
  },
  {
   "cell_type": "code",
   "execution_count": 590,
   "id": "42733065-26aa-4226-8961-d6fa3e38c5a1",
   "metadata": {},
   "outputs": [],
   "source": [
    "# Predicting the Test set results \n",
    "rf = RandomForestClassifier().fit(x_train, y_train)\n",
    "y_pred = rf.predict(x_test)"
   ]
  },
  {
   "cell_type": "code",
   "execution_count": 591,
   "id": "ed5bf4ce-6004-4af2-95fb-0231ec970a3d",
   "metadata": {},
   "outputs": [
    {
     "name": "stdout",
     "output_type": "stream",
     "text": [
      "[[  45  164]\n",
      " [   7 3278]]\n"
     ]
    }
   ],
   "source": [
    "confusion_m = confusion_matrix(y_test, y_pred)\n",
    "print(confusion_m)"
   ]
  },
  {
   "cell_type": "code",
   "execution_count": 592,
   "id": "507ede21-fcab-4b99-aede-a760423c2cd4",
   "metadata": {},
   "outputs": [
    {
     "name": "stdout",
     "output_type": "stream",
     "text": [
      "0.9510589582140813\n"
     ]
    }
   ],
   "source": [
    "# Evaluate the results\n",
    "accuracy = accuracy_score(y_test, y_pred)\n",
    "print(accuracy)"
   ]
  },
  {
   "cell_type": "code",
   "execution_count": 593,
   "id": "8e774e0d-a22e-4624-8fd3-55a50a77b2d9",
   "metadata": {},
   "outputs": [],
   "source": [
    "prec_score = precision_score(y_test,y_pred)\n",
    "rec= metrics.recall_score(y_test,y_pred)\n",
    "f1 = f1_score(y_test,y_pred)"
   ]
  },
  {
   "cell_type": "code",
   "execution_count": 594,
   "id": "251105df-1080-4a56-8846-4a4b0b919dd5",
   "metadata": {},
   "outputs": [
    {
     "name": "stdout",
     "output_type": "stream",
     "text": [
      "Precision Score 0.8653846153846154\n",
      "Recall Score 0.6889952153110048\n",
      "F1 Score 0.3448275862068966\n"
     ]
    }
   ],
   "source": [
    "print('Precision Score', prec_score)\n",
    "print('Recall Score', recall_score)\n",
    "print('F1 Score', f1)"
   ]
  },
  {
   "cell_type": "markdown",
   "id": "76753d5e-ae16-4d01-b444-95ffc7e9d9a2",
   "metadata": {},
   "source": [
    "### Which model predicts the best?"
   ]
  },
  {
   "cell_type": "markdown",
   "id": "a5f2e2fe-c554-41fb-aba8-1a52d08211de",
   "metadata": {},
   "source": [
    "|Name of the model| CountVectorizer | TF IDF(After Extraction) |\n",
    "| :-  | :-  | :- |\n",
    "|Naive Bayes Model| 0.9696 | 0.9474 |\n",
    "|KNN Model| 0.9347 | 0.9504 |\n",
    "|Support Vector Machine SVM Model| 0.9596 | 0.9673 |\n",
    "|Decision Tree Model| 0.9321 | 0.9398 |\n",
    "|Random Forest Model| 0.9456 | 0.9510 |"
   ]
  },
  {
   "cell_type": "markdown",
   "id": "943fbf72-0409-4f29-b5e3-bd31f12dc845",
   "metadata": {},
   "source": [
    "#### From the above accuracies table of the model performed on bag of words and using feature extraction TF-IDF, we can see which model which has highest accuracy.\n",
    "\n",
    "#### The Naive Bayes Model predict's 96.96 % accuracy here using bag of words model and 94.74% accuracy with TF-IDF evaluation.\n",
    "#### The SVM Model has the highest accuracy when it comes to TF IDF evaluation and is second in accuracy in bag of words model evaluation. So overall we can say that the SVM model is the best model here.\n",
    "\n",
    "#### Overall the TF IDF Vectorizer has the higher accuracy when looking at all the models."
   ]
  }
 ],
 "metadata": {
  "kernelspec": {
   "display_name": "Python 3 (ipykernel)",
   "language": "python",
   "name": "python3"
  },
  "language_info": {
   "codemirror_mode": {
    "name": "ipython",
    "version": 3
   },
   "file_extension": ".py",
   "mimetype": "text/x-python",
   "name": "python",
   "nbconvert_exporter": "python",
   "pygments_lexer": "ipython3",
   "version": "3.9.12"
  }
 },
 "nbformat": 4,
 "nbformat_minor": 5
}
