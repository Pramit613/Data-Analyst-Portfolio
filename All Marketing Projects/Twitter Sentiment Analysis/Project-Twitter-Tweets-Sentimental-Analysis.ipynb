{
 "cells": [
  {
   "cell_type": "markdown",
   "metadata": {},
   "source": [
    "# Twitter Tweets Sentiment Analysis "
   ]
  },
  {
   "cell_type": "code",
   "execution_count": 1,
   "metadata": {},
   "outputs": [],
   "source": [
    "import pandas as pd\n",
    "import numpy as np\n",
    "import re\n",
    "import nltk\n",
    "import matplotlib.pyplot as plt\n",
    "import seaborn as sns\n",
    "%matplotlib inline"
   ]
  },
  {
   "cell_type": "code",
   "execution_count": 2,
   "metadata": {},
   "outputs": [],
   "source": [
    "# Read the file\n",
    "df = pd.read_csv('tweets.csv')"
   ]
  },
  {
   "cell_type": "code",
   "execution_count": 3,
   "metadata": {},
   "outputs": [
    {
     "data": {
      "text/html": [
       "<div>\n",
       "<style scoped>\n",
       "    .dataframe tbody tr th:only-of-type {\n",
       "        vertical-align: middle;\n",
       "    }\n",
       "\n",
       "    .dataframe tbody tr th {\n",
       "        vertical-align: top;\n",
       "    }\n",
       "\n",
       "    .dataframe thead th {\n",
       "        text-align: right;\n",
       "    }\n",
       "</style>\n",
       "<table border=\"1\" class=\"dataframe\">\n",
       "  <thead>\n",
       "    <tr style=\"text-align: right;\">\n",
       "      <th></th>\n",
       "      <th>tweet_id</th>\n",
       "      <th>airline_sentiment</th>\n",
       "      <th>airline_sentiment_confidence</th>\n",
       "      <th>negativereason</th>\n",
       "      <th>negativereason_confidence</th>\n",
       "      <th>airline</th>\n",
       "      <th>airline_sentiment_gold</th>\n",
       "      <th>name</th>\n",
       "      <th>negativereason_gold</th>\n",
       "      <th>retweet_count</th>\n",
       "      <th>text</th>\n",
       "      <th>tweet_coord</th>\n",
       "      <th>tweet_created</th>\n",
       "      <th>tweet_location</th>\n",
       "      <th>user_timezone</th>\n",
       "    </tr>\n",
       "  </thead>\n",
       "  <tbody>\n",
       "    <tr>\n",
       "      <th>0</th>\n",
       "      <td>570306133677760513</td>\n",
       "      <td>neutral</td>\n",
       "      <td>1.0000</td>\n",
       "      <td>NaN</td>\n",
       "      <td>NaN</td>\n",
       "      <td>Virgin America</td>\n",
       "      <td>NaN</td>\n",
       "      <td>cairdin</td>\n",
       "      <td>NaN</td>\n",
       "      <td>0</td>\n",
       "      <td>@VirginAmerica What @dhepburn said.</td>\n",
       "      <td>NaN</td>\n",
       "      <td>2015-02-24 11:35:52 -0800</td>\n",
       "      <td>NaN</td>\n",
       "      <td>Eastern Time (US &amp; Canada)</td>\n",
       "    </tr>\n",
       "    <tr>\n",
       "      <th>1</th>\n",
       "      <td>570301130888122368</td>\n",
       "      <td>positive</td>\n",
       "      <td>0.3486</td>\n",
       "      <td>NaN</td>\n",
       "      <td>0.0000</td>\n",
       "      <td>Virgin America</td>\n",
       "      <td>NaN</td>\n",
       "      <td>jnardino</td>\n",
       "      <td>NaN</td>\n",
       "      <td>0</td>\n",
       "      <td>@VirginAmerica plus you've added commercials t...</td>\n",
       "      <td>NaN</td>\n",
       "      <td>2015-02-24 11:15:59 -0800</td>\n",
       "      <td>NaN</td>\n",
       "      <td>Pacific Time (US &amp; Canada)</td>\n",
       "    </tr>\n",
       "    <tr>\n",
       "      <th>2</th>\n",
       "      <td>570301083672813571</td>\n",
       "      <td>neutral</td>\n",
       "      <td>0.6837</td>\n",
       "      <td>NaN</td>\n",
       "      <td>NaN</td>\n",
       "      <td>Virgin America</td>\n",
       "      <td>NaN</td>\n",
       "      <td>yvonnalynn</td>\n",
       "      <td>NaN</td>\n",
       "      <td>0</td>\n",
       "      <td>@VirginAmerica I didn't today... Must mean I n...</td>\n",
       "      <td>NaN</td>\n",
       "      <td>2015-02-24 11:15:48 -0800</td>\n",
       "      <td>Lets Play</td>\n",
       "      <td>Central Time (US &amp; Canada)</td>\n",
       "    </tr>\n",
       "    <tr>\n",
       "      <th>3</th>\n",
       "      <td>570301031407624196</td>\n",
       "      <td>negative</td>\n",
       "      <td>1.0000</td>\n",
       "      <td>Bad Flight</td>\n",
       "      <td>0.7033</td>\n",
       "      <td>Virgin America</td>\n",
       "      <td>NaN</td>\n",
       "      <td>jnardino</td>\n",
       "      <td>NaN</td>\n",
       "      <td>0</td>\n",
       "      <td>@VirginAmerica it's really aggressive to blast...</td>\n",
       "      <td>NaN</td>\n",
       "      <td>2015-02-24 11:15:36 -0800</td>\n",
       "      <td>NaN</td>\n",
       "      <td>Pacific Time (US &amp; Canada)</td>\n",
       "    </tr>\n",
       "    <tr>\n",
       "      <th>4</th>\n",
       "      <td>570300817074462722</td>\n",
       "      <td>negative</td>\n",
       "      <td>1.0000</td>\n",
       "      <td>Can't Tell</td>\n",
       "      <td>1.0000</td>\n",
       "      <td>Virgin America</td>\n",
       "      <td>NaN</td>\n",
       "      <td>jnardino</td>\n",
       "      <td>NaN</td>\n",
       "      <td>0</td>\n",
       "      <td>@VirginAmerica and it's a really big bad thing...</td>\n",
       "      <td>NaN</td>\n",
       "      <td>2015-02-24 11:14:45 -0800</td>\n",
       "      <td>NaN</td>\n",
       "      <td>Pacific Time (US &amp; Canada)</td>\n",
       "    </tr>\n",
       "  </tbody>\n",
       "</table>\n",
       "</div>"
      ],
      "text/plain": [
       "             tweet_id airline_sentiment  airline_sentiment_confidence  \\\n",
       "0  570306133677760513           neutral                        1.0000   \n",
       "1  570301130888122368          positive                        0.3486   \n",
       "2  570301083672813571           neutral                        0.6837   \n",
       "3  570301031407624196          negative                        1.0000   \n",
       "4  570300817074462722          negative                        1.0000   \n",
       "\n",
       "  negativereason  negativereason_confidence         airline  \\\n",
       "0            NaN                        NaN  Virgin America   \n",
       "1            NaN                     0.0000  Virgin America   \n",
       "2            NaN                        NaN  Virgin America   \n",
       "3     Bad Flight                     0.7033  Virgin America   \n",
       "4     Can't Tell                     1.0000  Virgin America   \n",
       "\n",
       "  airline_sentiment_gold        name negativereason_gold  retweet_count  \\\n",
       "0                    NaN     cairdin                 NaN              0   \n",
       "1                    NaN    jnardino                 NaN              0   \n",
       "2                    NaN  yvonnalynn                 NaN              0   \n",
       "3                    NaN    jnardino                 NaN              0   \n",
       "4                    NaN    jnardino                 NaN              0   \n",
       "\n",
       "                                                text tweet_coord  \\\n",
       "0                @VirginAmerica What @dhepburn said.         NaN   \n",
       "1  @VirginAmerica plus you've added commercials t...         NaN   \n",
       "2  @VirginAmerica I didn't today... Must mean I n...         NaN   \n",
       "3  @VirginAmerica it's really aggressive to blast...         NaN   \n",
       "4  @VirginAmerica and it's a really big bad thing...         NaN   \n",
       "\n",
       "               tweet_created tweet_location               user_timezone  \n",
       "0  2015-02-24 11:35:52 -0800            NaN  Eastern Time (US & Canada)  \n",
       "1  2015-02-24 11:15:59 -0800            NaN  Pacific Time (US & Canada)  \n",
       "2  2015-02-24 11:15:48 -0800      Lets Play  Central Time (US & Canada)  \n",
       "3  2015-02-24 11:15:36 -0800            NaN  Pacific Time (US & Canada)  \n",
       "4  2015-02-24 11:14:45 -0800            NaN  Pacific Time (US & Canada)  "
      ]
     },
     "execution_count": 3,
     "metadata": {},
     "output_type": "execute_result"
    }
   ],
   "source": [
    "df.head()"
   ]
  },
  {
   "cell_type": "code",
   "execution_count": 4,
   "metadata": {},
   "outputs": [
    {
     "data": {
      "text/plain": [
       "(14640, 15)"
      ]
     },
     "execution_count": 4,
     "metadata": {},
     "output_type": "execute_result"
    }
   ],
   "source": [
    "# Find the shape\n",
    "df.shape"
   ]
  },
  {
   "cell_type": "code",
   "execution_count": 5,
   "metadata": {},
   "outputs": [],
   "source": [
    "# Have a quick look at the dataset"
   ]
  },
  {
   "cell_type": "markdown",
   "metadata": {},
   "source": [
    "## Perform Exploratory Analysis"
   ]
  },
  {
   "cell_type": "code",
   "execution_count": 6,
   "metadata": {},
   "outputs": [
    {
     "data": {
      "image/png": "[encoded data removed]",
      "text/plain": [
       "<Figure size 432x288 with 1 Axes>"
      ]
     },
     "metadata": {},
     "output_type": "display_data"
    }
   ],
   "source": [
    "# Create a pie chart by airline %\n",
    "\n",
    "# The slice names of a population distribution pie chart\n",
    "\n",
    "pieLabels              = 'US Airways', 'United', 'Virgin America', 'Delta', 'Southwest', 'America'\n",
    "\n",
    " \n",
    "\n",
    "# Population data\n",
    "\n",
    "populationShare     = [20, 26, 3, 15, 17, 19]\n",
    "\n",
    " \n",
    "\n",
    "figureObject, axesObject = plt.subplots()\n",
    "\n",
    " \n",
    "\n",
    "# Draw the pie chart\n",
    "\n",
    "axesObject.pie(populationShare,\n",
    "\n",
    "        labels=pieLabels,\n",
    "\n",
    "        autopct='%1.2f',\n",
    "\n",
    "        startangle=90)\n",
    "\n",
    " \n",
    "\n",
    "# Aspect ratio - equal means pie is a circle\n",
    "\n",
    "axesObject.axis('equal')\n",
    "\n",
    " \n",
    "\n",
    "plt.show()"
   ]
  },
  {
   "cell_type": "code",
   "execution_count": null,
   "metadata": {},
   "outputs": [],
   "source": []
  },
  {
   "cell_type": "code",
   "execution_count": 7,
   "metadata": {},
   "outputs": [
    {
     "data": {
      "image/png": "[encoded data removed]",
      "text/plain": [
       "<Figure size 432x288 with 1 Axes>"
      ]
     },
     "metadata": {},
     "output_type": "display_data"
    }
   ],
   "source": [
    "# Create a pie chart by airline sentiment\n",
    "# Create a pie chart by airline %\n",
    "\n",
    "# The slice names of a population distribution pie chart\n",
    "\n",
    "pieLabels              = 'Positive', 'Negative', 'Neutral'\n",
    "\n",
    " \n",
    "\n",
    "# Population data\n",
    "\n",
    "populationShare     = [63, 21, 16]\n",
    "\n",
    " \n",
    "\n",
    "figureObject, axesObject = plt.subplots()\n",
    "\n",
    " \n",
    "\n",
    "# Draw the pie chart\n",
    "\n",
    "axesObject.pie(populationShare,\n",
    "\n",
    "        labels=pieLabels,\n",
    "\n",
    "        autopct='%1.2f',\n",
    "\n",
    "        startangle=90)\n",
    "\n",
    " \n",
    "\n",
    "# Aspect ratio - equal means pie is a circle\n",
    "\n",
    "axesObject.axis('equal')\n",
    "\n",
    " \n",
    "\n",
    "plt.show()\n"
   ]
  },
  {
   "cell_type": "code",
   "execution_count": 8,
   "metadata": {},
   "outputs": [
    {
     "data": {
      "text/plain": [
       "<AxesSubplot:xlabel='airline'>"
      ]
     },
     "execution_count": 8,
     "metadata": {},
     "output_type": "execute_result"
    },
    {
     "data": {
      "image/png": "[encoded data removed]",
      "text/plain": [
       "<Figure size 432x288 with 1 Axes>"
      ]
     },
     "metadata": {
      "needs_background": "light"
     },
     "output_type": "display_data"
    }
   ],
   "source": [
    "# Create a bar chart by airline and airline sentiment\n",
    "\n",
    "airline_sentiment = df.groupby(['airline', 'airline_sentiment']).airline_sentiment.count().unstack()\n",
    "airline_sentiment.plot(kind='bar')\n",
    "\n"
   ]
  },
  {
   "cell_type": "code",
   "execution_count": 9,
   "metadata": {},
   "outputs": [
    {
     "data": {
      "text/plain": [
       "<AxesSubplot:xlabel='airline_sentiment', ylabel='airline_sentiment_confidence'>"
      ]
     },
     "execution_count": 9,
     "metadata": {},
     "output_type": "execute_result"
    },
    {
     "data": {
      "image/png": "[encoded data removed]",
      "text/plain": [
       "<Figure size 432x288 with 1 Axes>"
      ]
     },
     "metadata": {
      "needs_background": "light"
     },
     "output_type": "display_data"
    }
   ],
   "source": [
    "# Create a bar plot for airline sentiment and airline sentiment confidence\n",
    "\n",
    "sns.barplot(x='airline_sentiment', y='airline_sentiment_confidence' , data = df)\n"
   ]
  },
  {
   "cell_type": "code",
   "execution_count": 10,
   "metadata": {},
   "outputs": [],
   "source": [
    "# Create a new dataframe that will only have 2 relevant columns\n",
    "# Identify the 2 columns\n",
    "# For airline_sentiment I only want to see positive and negative sentiments\n",
    "# Remove the neutral sentiments from the dataframe\n",
    "columns = ['text','airline_sentiment']\n",
    "df2 = df[columns]\n",
    "df2 = df2[df2.airline_sentiment != 'neutral']\n",
    "\n",
    "\n"
   ]
  },
  {
   "cell_type": "code",
   "execution_count": 11,
   "metadata": {},
   "outputs": [
    {
     "data": {
      "text/html": [
       "<div>\n",
       "<style scoped>\n",
       "    .dataframe tbody tr th:only-of-type {\n",
       "        vertical-align: middle;\n",
       "    }\n",
       "\n",
       "    .dataframe tbody tr th {\n",
       "        vertical-align: top;\n",
       "    }\n",
       "\n",
       "    .dataframe thead th {\n",
       "        text-align: right;\n",
       "    }\n",
       "</style>\n",
       "<table border=\"1\" class=\"dataframe\">\n",
       "  <thead>\n",
       "    <tr style=\"text-align: right;\">\n",
       "      <th></th>\n",
       "      <th>text</th>\n",
       "      <th>airline_sentiment</th>\n",
       "    </tr>\n",
       "  </thead>\n",
       "  <tbody>\n",
       "    <tr>\n",
       "      <th>1</th>\n",
       "      <td>@VirginAmerica plus you've added commercials t...</td>\n",
       "      <td>positive</td>\n",
       "    </tr>\n",
       "    <tr>\n",
       "      <th>3</th>\n",
       "      <td>@VirginAmerica it's really aggressive to blast...</td>\n",
       "      <td>negative</td>\n",
       "    </tr>\n",
       "    <tr>\n",
       "      <th>4</th>\n",
       "      <td>@VirginAmerica and it's a really big bad thing...</td>\n",
       "      <td>negative</td>\n",
       "    </tr>\n",
       "    <tr>\n",
       "      <th>5</th>\n",
       "      <td>@VirginAmerica seriously would pay $30 a fligh...</td>\n",
       "      <td>negative</td>\n",
       "    </tr>\n",
       "    <tr>\n",
       "      <th>6</th>\n",
       "      <td>@VirginAmerica yes, nearly every time I fly VX...</td>\n",
       "      <td>positive</td>\n",
       "    </tr>\n",
       "  </tbody>\n",
       "</table>\n",
       "</div>"
      ],
      "text/plain": [
       "                                                text airline_sentiment\n",
       "1  @VirginAmerica plus you've added commercials t...          positive\n",
       "3  @VirginAmerica it's really aggressive to blast...          negative\n",
       "4  @VirginAmerica and it's a really big bad thing...          negative\n",
       "5  @VirginAmerica seriously would pay $30 a fligh...          negative\n",
       "6  @VirginAmerica yes, nearly every time I fly VX...          positive"
      ]
     },
     "execution_count": 11,
     "metadata": {},
     "output_type": "execute_result"
    }
   ],
   "source": [
    "#Your final dataframe should look like this\n",
    "df2.head()"
   ]
  },
  {
   "cell_type": "code",
   "execution_count": 12,
   "metadata": {},
   "outputs": [
    {
     "data": {
      "text/html": [
       "<div>\n",
       "<style scoped>\n",
       "    .dataframe tbody tr th:only-of-type {\n",
       "        vertical-align: middle;\n",
       "    }\n",
       "\n",
       "    .dataframe tbody tr th {\n",
       "        vertical-align: top;\n",
       "    }\n",
       "\n",
       "    .dataframe thead th {\n",
       "        text-align: right;\n",
       "    }\n",
       "</style>\n",
       "<table border=\"1\" class=\"dataframe\">\n",
       "  <thead>\n",
       "    <tr style=\"text-align: right;\">\n",
       "      <th></th>\n",
       "      <th>text</th>\n",
       "      <th>airline_sentiment</th>\n",
       "    </tr>\n",
       "  </thead>\n",
       "  <tbody>\n",
       "    <tr>\n",
       "      <th>14633</th>\n",
       "      <td>@AmericanAir my flight was Cancelled Flightled...</td>\n",
       "      <td>negative</td>\n",
       "    </tr>\n",
       "    <tr>\n",
       "      <th>14634</th>\n",
       "      <td>@AmericanAir right on cue with the delays👌</td>\n",
       "      <td>negative</td>\n",
       "    </tr>\n",
       "    <tr>\n",
       "      <th>14635</th>\n",
       "      <td>@AmericanAir thank you we got on a different f...</td>\n",
       "      <td>positive</td>\n",
       "    </tr>\n",
       "    <tr>\n",
       "      <th>14636</th>\n",
       "      <td>@AmericanAir leaving over 20 minutes Late Flig...</td>\n",
       "      <td>negative</td>\n",
       "    </tr>\n",
       "    <tr>\n",
       "      <th>14638</th>\n",
       "      <td>@AmericanAir you have my money, you change my ...</td>\n",
       "      <td>negative</td>\n",
       "    </tr>\n",
       "  </tbody>\n",
       "</table>\n",
       "</div>"
      ],
      "text/plain": [
       "                                                    text airline_sentiment\n",
       "14633  @AmericanAir my flight was Cancelled Flightled...          negative\n",
       "14634         @AmericanAir right on cue with the delays👌          negative\n",
       "14635  @AmericanAir thank you we got on a different f...          positive\n",
       "14636  @AmericanAir leaving over 20 minutes Late Flig...          negative\n",
       "14638  @AmericanAir you have my money, you change my ...          negative"
      ]
     },
     "execution_count": 12,
     "metadata": {},
     "output_type": "execute_result"
    }
   ],
   "source": [
    "df2.tail()"
   ]
  },
  {
   "cell_type": "code",
   "execution_count": 13,
   "metadata": {},
   "outputs": [
    {
     "name": "stderr",
     "output_type": "stream",
     "text": [
      "[nltk_data] Downloading package stopwords to\n",
      "[nltk_data]     C:\\Users\\devpa\\AppData\\Roaming\\nltk_data...\n",
      "[nltk_data]   Package stopwords is already up-to-date!\n"
     ]
    },
    {
     "data": {
      "text/plain": [
       "True"
      ]
     },
     "execution_count": 13,
     "metadata": {},
     "output_type": "execute_result"
    }
   ],
   "source": [
    "nltk.download('stopwords')"
   ]
  },
  {
   "cell_type": "code",
   "execution_count": 14,
   "metadata": {},
   "outputs": [],
   "source": [
    "\n",
    "from nltk.corpus import stopwords\n",
    "# Stemming means taking the root of the word such as love from loved or loving\n",
    "from nltk.stem.porter import PorterStemmer"
   ]
  },
  {
   "cell_type": "code",
   "execution_count": 15,
   "metadata": {},
   "outputs": [],
   "source": [
    "### Use this to create the corpus. Use the same steps from the last lab\n",
    "\n",
    "# Steps for cleaning the first review and apply for loop on all the reviews\n",
    "df['text'][0]\n",
    "text = re.sub('[^a-zA-Z]', ' ', df['text'][0]) # only keep the letters so what we dont want to remove\n",
    "text = text.lower() # make all letters as lowercase \n",
    "text = text.split()  # split the review into separate words to create a list of words\n",
    "#ps =PorterStemmer()\n",
    "text = [ word for word in text if not  word in set(stopwords.words('english'))] # use set for larger text\n",
    "text = ' '.join(text) # take the list of words back into the string\n",
    "\n"
   ]
  },
  {
   "cell_type": "code",
   "execution_count": 21,
   "metadata": {},
   "outputs": [
    {
     "data": {
      "text/plain": [
       "'usairways grades trip flight timeliness cancelled flightations customer service flight attendants'"
      ]
     },
     "execution_count": 21,
     "metadata": {},
     "output_type": "execute_result"
    }
   ],
   "source": [
    "text"
   ]
  },
  {
   "cell_type": "code",
   "execution_count": 22,
   "metadata": {},
   "outputs": [],
   "source": [
    "# Do the same steps for all the reviews in the dataset using the for loop\n",
    "corpus = [] # Build a new list for all the words from all the reviews\n",
    "# corpus is a collection of text and a common term used in NLP\n",
    "for i in range (0, 11541):\n",
    "    text = re.sub('[^a-zA-Z]', ' ', df['text'][i] )\n",
    "    text = text.lower()\n",
    "    text = text.split()\n",
    "    #ps =PorterStemmer()\n",
    "    text = [ word for word in text if not  word in set(stopwords.words('english'))]\n",
    "    text = ' '.join(text)\n",
    "    corpus.append(text)"
   ]
  },
  {
   "cell_type": "code",
   "execution_count": 23,
   "metadata": {
    "scrolled": false
   },
   "outputs": [
    {
     "data": {
      "text/plain": [
       "['virginamerica dhepburn said',\n",
       " 'virginamerica plus added commercials experience tacky',\n",
       " 'virginamerica today must mean need take another trip',\n",
       " 'virginamerica really aggressive blast obnoxious entertainment guests faces amp little recourse',\n",
       " 'virginamerica really big bad thing',\n",
       " 'virginamerica seriously would pay flight seats playing really bad thing flying va',\n",
       " 'virginamerica yes nearly every time fly vx ear worm go away',\n",
       " 'virginamerica really missed prime opportunity men without hats parody https co mwpg grezp',\n",
       " 'virginamerica well',\n",
       " 'virginamerica amazing arrived hour early good',\n",
       " 'virginamerica know suicide second leading cause death among teens',\n",
       " 'virginamerica lt pretty graphics much better minimal iconography',\n",
       " 'virginamerica great deal already thinking nd trip australia amp even gone st trip yet p',\n",
       " 'virginamerica virginmedia flying fabulous seductive skies u take stress away travel http co ahlxhhkiyn',\n",
       " 'virginamerica thanks',\n",
       " 'virginamerica sfo pdx schedule still mia',\n",
       " 'virginamerica excited first cross country flight lax mco heard nothing great things virgin america daystogo',\n",
       " 'virginamerica flew nyc sfo last week fully sit seat due two large gentleman either side help',\n",
       " 'flying virginamerica',\n",
       " 'virginamerica know would amazingly awesome bos fll please want fly',\n",
       " 'virginamerica first fares may three times carriers seats available select',\n",
       " 'virginamerica love graphic http co ut grrwaaa',\n",
       " 'virginamerica love hipster innovation feel good brand',\n",
       " 'virginamerica making bos gt las non stop permanently anytime soon',\n",
       " 'virginamerica guys messed seating reserved seating friends guys gave seat away want free internet',\n",
       " 'virginamerica status match program applied three weeks called emailed response',\n",
       " 'virginamerica happened ur vegan food options least say ur site know able eat anything next hrs fail',\n",
       " 'virginamerica miss worry together soon',\n",
       " 'virginamerica amazing get cold air vents vx noair worstflightever roasted sfotobos',\n",
       " 'virginamerica lax ewr middle seat red eye noob maneuver sendambien andchexmix',\n",
       " 'virginamerica hi bked cool birthday trip add elevate cause entered middle name flight booking problems',\n",
       " 'virginamerica hours operation club sfo posted online current',\n",
       " 'virginamerica help left expensive headphones flight iad lax today seat one answering l amp f number lax',\n",
       " 'virginamerica awaiting return phone call would prefer use online self service option',\n",
       " 'virginamerica great news america could start flights hawaii end year http co r p zy fe via pacificbiznews',\n",
       " 'nice rt virginamerica vibe moodlight takeoff touchdown moodlitmonday sciencebehindtheexperience http co unxtqp',\n",
       " 'virginamerica moodlighting way fly best experience ever cool calming moodlitmonday',\n",
       " 'virginamerica freddieawards done done best airline around hands',\n",
       " 'virginamerica book flight hawaii',\n",
       " 'virginamerica chat support working site http co vhp gtdwpk',\n",
       " 'virginamerica view downtown los angeles hollywood sign beyond rain mountains http co dw nf ibtr',\n",
       " 'virginamerica hey first time flyer next week excited hard time getting flights added elevate account help',\n",
       " 'virginamerica plz help win bid upgrade flight lax gt sea',\n",
       " 'virginamerica unused ticket moved new city fly fly expires travelhelp',\n",
       " 'virginamerica flights leaving dallas seattle time feb',\n",
       " 'virginamerica elevategold good reason rock',\n",
       " 'virginamerica dream http co oa drfaoq http co lwwdac khx',\n",
       " 'virginamerica wow blew mind',\n",
       " 'virginamerica ladygaga carrieunderwood last night tribute soundofmusic oscars ladygaga think carrieunderwood agree',\n",
       " 'virginamerica ladygaga carrieunderwood entertaining',\n",
       " 'virginamerica flight way supposed take minutes ago website still shows time flight thanks',\n",
       " 'virginamerica ladygaga carrieunderwood julie andrews way though ladygaga impressive carrieunderwood',\n",
       " 'virginamerica wish flew atlanta soon',\n",
       " 'virginamerica ladygaga carrieunderwood julie andrews hands',\n",
       " 'virginamerica flights leaving dallas la february th',\n",
       " 'virginamerica hi excited lga gt dal deal trying book since last week amp page never loads thx',\n",
       " 'virginamerica know need spotify stat guiltypleasures',\n",
       " 'virginamerica ladygaga carrieunderwood lady gaga amazing',\n",
       " 'virginamerica ladygaga carrieunderwood carrie',\n",
       " 'virginamerica new marketing song https co f lfulcbq let us know think',\n",
       " 'virginamerica ladygaga carrieunderwood julie andrews first lady gaga wow last night carrie meh',\n",
       " 'virginamerica called weeks ago adding flights elevate still shown help',\n",
       " 'virginamerica ladygaga carrieunderwood great go carrieunderwood',\n",
       " 'virginamerica ladygaga carrieunderwood sorry mary martin first',\n",
       " 'virginamerica ladygaga carrieunderwood love three really beat classics',\n",
       " 'virginamerica flight dal dca pm tried check could status please',\n",
       " 'virginamerica heyyyy guyyyys trying get hour someone call please',\n",
       " 'virginamerica hi virgin hold minutes earlier flights la nyc tonight earlier pm',\n",
       " 'virginamerica congrats winning travelzoo award best deals airline us http co kj iljaebv',\n",
       " 'virginamerica everything fine lost bag',\n",
       " 'virginamerica need change reservation virgin credit card need modify phone waive change fee online',\n",
       " 'virginamerica emailed customer service team let know need tracking number',\n",
       " 'virginamerica hi booked flight need add baggage',\n",
       " 'virginamerica airline awesome lax loft needs step game dirty tables floors http co hy vrfhjht',\n",
       " 'virginamerica worried great ride new plane great crew airlines like',\n",
       " 'virginamerica awesome flew yall sat morning way correct bill',\n",
       " 'virginamerica watch best student films country feet cmfat feet http co kek pdmgif',\n",
       " 'virginamerica first time flying different rate policy media bags thanks',\n",
       " 'virginamerica going customer service anyway speak human asap thank',\n",
       " 'virginamerica happened doom',\n",
       " 'virginamerica supp biz traveler like southwestair customer service like jetblue neverflyvirginforbusiness',\n",
       " 'virginamerica applied member inflight crew team im interested flightattendant dreampath g',\n",
       " 'virginamerica best whenever begrudgingly use airline delayed late flight',\n",
       " 'virginamerica interesting flying cancelled flight next four flights planned neverflyvirginforbusiness',\n",
       " 'virginamerica disappointing experience shared every business traveler meet neverflyvirgin',\n",
       " 'virginamerica trouble adding flight wife booked elevate account help http co px hqoks r',\n",
       " 'virginamerica bring reservation online using flight booking problems code',\n",
       " 'virginamerica random q distribution elevate avatars bet kitty disproportionate share http co aptzpurop',\n",
       " 'virginamerica lt flying va life happens trying change trip jperhi help va home page let',\n",
       " 'virginamerica site back',\n",
       " 'virginamerica rnp yeah know',\n",
       " 'virginamerica hi get points elevate account recent flight add flight points account',\n",
       " 'virginamerica like tv interesting video disappointed cancelled flightled flight flights went jfk saturday',\n",
       " 'virginamerica landed lax hour late flight bag check business travel friendly nomorevirgin',\n",
       " 'virginamerica flight redirected',\n",
       " 'virginamerica website btw new website great user experience time another redesign',\n",
       " 'virginamerica check add bag website working tried desktop mobile http co avyqdmpi',\n",
       " 'virginamerica let scanned passengers leave plane told someone remove bag st class bin uncomfortable',\n",
       " 'virginamerica phone number find call flight reservation',\n",
       " 'virginamerica anyone anything today website useless one answering phone',\n",
       " 'virginamerica trying add boy prince ressie sf thursday virginamerica lax http co gsb j c gm',\n",
       " 'virginamerica must traveler miss flight late flight check bag missed morning appointments lost business sfo lax',\n",
       " 'virginamerica check new music http co marcnocwzn',\n",
       " 'virginamerica direct flight fll gt sfo unexpected layover vegas fuel yet peeps next bought vegas flight sneaky',\n",
       " 'virginamerica late flight bag check lost business missed flight apt three people flight exp',\n",
       " 'virginamerica amazing customer service raeann sf best customerservice virginamerica flying',\n",
       " 'virginamerica called service line hung awesome sarcasm',\n",
       " 'virginamerica site tripping trying check getting plain text version reluctant enter card info',\n",
       " 'virginamerica scheduled sfo dal flight today changed th due weather looks like flight still',\n",
       " 'virginamerica getaway deals may one way lots cool cities http co tzzjhuibch cheapflights farecompare',\n",
       " 'virginamerica getaway deals may one way lots cool cities http co rpdbpx wnd cheapflights farecompare',\n",
       " 'virginamerica getaway deals may one way lots cool cities http co b xi yg cheapflights farecompare',\n",
       " 'virginamerica getaway deals may one way lots cool cities http co qdljhsloi cheapflights farecompare',\n",
       " 'virginamerica great week',\n",
       " 'virginamerica come back phl already need take us horrible cold pleasecomeback http co glxfwp nqh',\n",
       " 'virginamerica concerned fly plane needs delayed due tech stop',\n",
       " 'virginamerica best airline flown easy change reservation helpful representatives amp comfortable flying experience',\n",
       " 'virginamerica another rep kicked butt naelah represents team beautifully thank',\n",
       " 'virginamerica beautiful front end design right cool still book ticket b c back end secure',\n",
       " 'virginamerica love team running gate e las tonight waited delayed flight kept things entertaining',\n",
       " 'virginamerica use another browser amp brand reputation built tech response cross browser compatible website',\n",
       " 'virginamerica flight flight booking problems site totally folks problem',\n",
       " 'virginamerica like customer service min delay connecting passengers seems long va',\n",
       " 'virginamerica thanks outstanding nyc jfk crew moved mountains get home san francisco tonight',\n",
       " 'virginamerica absolute best team customer service ever every time fly delighted thank',\n",
       " 'virginamerica provide complimentary upgrades first class available seats',\n",
       " 'virginamerica need change flight thats scheduled hours min wait time phone im calling intern help',\n",
       " 'virginamerica completely awesome experience last month bos las nonstop thanks awesome flight depart time vabeatsjblue',\n",
       " 'virginamerica watch oscars jfk gt sfo flight',\n",
       " 'virginamerica flight cancelled flightled',\n",
       " 'virginamerica failing customers check process link tsa pre check',\n",
       " 'virginamerica fidifamilies us terrible airline gave us hotel hotline number said sorry',\n",
       " 'virginamerica flight number sfo cabo san lucas arrived yet',\n",
       " 'virginamerica chrysichrysic assistance yesterday u cancelled flightled flight give us hotel hotline shame',\n",
       " 'virginamerica another delayed flight likingyoulessandless',\n",
       " 'virginamerica need register service dog first class ticket sfo gt dulles phone queue hour longer pls advise',\n",
       " 'virginamerica rock making watch oscars flight redcarpet oscars oscars',\n",
       " 'virginamerica reallytallchris dropped track https co zv pt trk',\n",
       " 'virginamerica always xoxo',\n",
       " 'virginamerica book seats flights buy even check creates much anxiety frustrated',\n",
       " 'virginamerica think paying extra bucks rt luggage might afford hiring extra hand sfo lame',\n",
       " 'virginamerica best customer service rep world irmafromdallas takes cake',\n",
       " 'virginamerica find us flt lax sooner midnight monday would great customer service',\n",
       " 'virginamerica please provide status flight cant imagine time web indicates dude weather dallas',\n",
       " 'virginamerica amazing staff amp super helpful ran waltdisneyworld princesshalf spoiled comfort',\n",
       " 'virginamerica paid premium fly across country cancelled flight flight offer check fee upgrade love sad face',\n",
       " 'virginamerica question possible book seat infant giving option want seat',\n",
       " 'always together welcome rt virginamerica jessicajaymes welcome',\n",
       " 'virginamerica flight home dc sunset globe backtowinter back work refreshed http co vx vbctdlf',\n",
       " 'virginamerica understand need dm give answer damaged luggage policy',\n",
       " 'virginamerica mean policy destroyed luggage',\n",
       " 'virginamerica special assistance travel alone w kids infant priority boarding',\n",
       " 'virginamerica thank checking tickets purchased customer happy',\n",
       " 'virginamerica website ever coming back online',\n",
       " 'virginamerica flight love field sfo definitely cancelled flightled monday february',\n",
       " 'virginamerica flight lga dfw time',\n",
       " 'virginamerica drivers license expired little month fly friday morning using expired license',\n",
       " 'virginamerica problems flight booking problems web site keeps giving error contact phone phone minute wait',\n",
       " 'virginamerica reschedule cancelled flightled flights online change button greyed',\n",
       " 'virginamerica rang wait minutes book ticket vendor fix site',\n",
       " 'virginamerica got flight told today checked email tomorrow unacceptable',\n",
       " 'virginamerica flight lga cancelled flighted stuck dallas called reschedule told could get flight today',\n",
       " 'virginamerica pairings include red wine white offered redwineisbetter',\n",
       " 'virginamerica website',\n",
       " 'virginamerica site seems little wonked right may want look tried two browsers css http co qsqmm kf',\n",
       " 'virginamerica disappointed agent designated silver status check line dulles airport closed assist pasengers',\n",
       " 'virginamerica plans include austin dallas route topnews arab emirates http co aqzwecokk',\n",
       " 'virginamerica normal receive reply central baggage baggageissues smh',\n",
       " 'virginamerica logan airport waiting checkin flight checkin desk open',\n",
       " 'virginamerica jump dallas austin market dallas news http co ewwgi gdx',\n",
       " 'virginamerica beats eps views takes southwestair va luv investor business daily http co flwmgdahxu',\n",
       " 'virginamerica lister show monday',\n",
       " 'virginamerica begin dallas austin flights april ketr http co ssuvwwkyhh',\n",
       " 'virginamerica congrats got business ewr sfo lax fuck united fl sfo ewr clincher',\n",
       " 'virginamerica applied weeks ago heard back flying week disappointed',\n",
       " 'virginamerica love know policy damaged luggage',\n",
       " 'virginamerica thank follow',\n",
       " 'virginamerica many apologies r worse airlines even respond cudtomers',\n",
       " 'virginamerica shame va making people spend money stranded cities airlines landing jfk reimburse',\n",
       " 'virginamerica ttinac dm',\n",
       " 'virginamerica please flights sjc choice fly southwest vegas',\n",
       " 'virginamerica bad say takes days via confirmation email inquired weeks claim weeks',\n",
       " 'virginamerica flight bos gt las tomorrow cancelled flightled notification wait times hour rebook another airline',\n",
       " 'rt virginamerica met match got status another airline upgrade restr http co rhkamx vf http co pyalebgkjt',\n",
       " 'virginamerica way fly elevate gold',\n",
       " 'virginamerica guys flights cmh',\n",
       " 'virginamerica lot apologies thrown customers see sad thanks nothing worst airline ever',\n",
       " 'virginamerica flight stuff wrong nothing worst flight ever',\n",
       " 'virginamerica issue finding missing item plane help find airport plane headed next',\n",
       " 'virginamerica match americanairlines status cool',\n",
       " 'virginamerica met match got status another airline upgrade http co h rdktqy asarco es ar',\n",
       " 'virginamerica trying book flight guys website let lose business',\n",
       " 'virginamerica suck',\n",
       " 'virginamerica thanks',\n",
       " 'virginamerica dm issue persisting',\n",
       " 'virginamerica never rec cancelled flightlation notice left w options fly ps driving la red eye mon w kids',\n",
       " 'virginamerica trying book flight amp site',\n",
       " 'virginamerica flights flying boston tomorrow need home cancelled flightled flight anything',\n",
       " 'virginamerica stink flight cancelled flighted psp jfk notification ability rebook disappointed expected better',\n",
       " 'virginamerica love guy song dancing high school dance revue',\n",
       " 'virginamerica website trying check',\n",
       " 'virginamerica done thank quick response apparently faster sitting hold',\n",
       " 'virginamerica nervous flight dc lax getting cancelled flightled tomorrow sent dm help',\n",
       " 'virginamerica cool picture another virginamerica plane wing site http co b agfd c',\n",
       " 'virginamerica keep great work',\n",
       " 'virginamerica goodness people love field amazing pressure texas beatstheothers crisis please fly ny',\n",
       " 'virginamerica thanks great flight la boston pilots great job landing snow go back la seriously',\n",
       " 'virginamerica please get new york area monday afternoon',\n",
       " 'virginamerica thanks much awesome support guys rock',\n",
       " 'virginamerica seats row recline mention website soreback',\n",
       " 'virginamerica flight delayed hours la due mechanical problems handle like pros could tossed us free drink',\n",
       " 'virginamerica cancelled flight flights today precipitation scared',\n",
       " 'virginamerica twitter team guys killed rescheduling asap thank',\n",
       " 'virginamerica guys charged reschedule flight cancelled flighted refusing refund deal',\n",
       " 'virginamerica access website safari iphone seems work mac ipad need iphone add passbook',\n",
       " 'virginamerica ipad iphone clicking checkin link email received hrs flight',\n",
       " 'virginamerica mobile site broken shows header elevateuser numofpointsavailable number points let checkin',\n",
       " 'virginamerica really looking forward flight let know rescheduled diehardvirgin',\n",
       " 'virginamerica cancelled flight flight vx one sec delayed airport next cancelled flightled gonna email call reschedule',\n",
       " 'virginamerica problem link email check thanks',\n",
       " 'virginamerica change another airline get dc today united able land dc cost ugh',\n",
       " 'virginamerica looking forward first flight today cancelled flightled along subsequent one',\n",
       " 'virginamerica putting great deals pdx las las pdx show love http co eniqg buzj',\n",
       " 'virginamerica wish afford fly next friday going back home love everything airline',\n",
       " 'virginamerica gonna deal dallas dc deal dc dallas sad',\n",
       " 'virginamerica bug report guys',\n",
       " 'virginamerica hold times call center bit much',\n",
       " 'virginamerica like http co vpqem xuq',\n",
       " 'virginamerica site help',\n",
       " 'virginamerica best flight attendant ever http co pxdel nq l',\n",
       " 'awesome rt virginamerica watch nominated films feet meetthefleet oscars http co dnstitrzwy',\n",
       " 'virginamerica thanks much',\n",
       " 'virginamerica trying reset password email never arrives help',\n",
       " 'virginamerica airline based silicon valley disruption fcmostinnovative incubator fastcompany http co wu lbcncr',\n",
       " 'virginamerica nicely done',\n",
       " 'virginamerica looking forward watching oscars flight home tomorrow might even get something bubbly drink',\n",
       " 'virginamerica reason delay departure vx jfk afternoon',\n",
       " 'virginamerica todays flight palm springs ca jfk ny cancelled flightled',\n",
       " 'virginamerica hahaha virginamerica guys amazing love guys',\n",
       " 'virginamerica sounds like fun',\n",
       " 'virginamerica updates flight jfk gt lax',\n",
       " 'virginamerica spruce moose',\n",
       " 'virginamerica css site right please fix site unusable',\n",
       " 'virginamerica flight vegas boston today checked online bag count register fix somehow',\n",
       " 'virginamerica classiq luv virgin america greetingz',\n",
       " 'virginamerica hi trying check website working tried different browsers problem continues',\n",
       " 'virginamerica thanks great customer service today amp helping get travel sorted',\n",
       " 'virginamerica thanks guys sweet route rockies airplanemodewason',\n",
       " 'virginamerica love music blasting gate boston waiting flight sanfrancisco could get iced coffee',\n",
       " 'virginamerica passenger flt assaulted flown trust banned crew filed report faanews',\n",
       " 'virginamerica current bug website shows select departure city selecting destination city http co sllyibe vq',\n",
       " 'virginamerica luggage severely dented missing wheel coming baggage claim san luggage agent miranda think help',\n",
       " 'virginamerica thank easy itinerary shift impending weather quick painless amp free',\n",
       " 'virginamerica love see girls inspired become pilots rt free woaw event march abq http co rfxlv kgdh',\n",
       " 'virginamerica thanks good times back vodkatonics entire flight sfo',\n",
       " 'virginamerica beats expectations shares take santa cruz sentinel http co qm dqbai g',\n",
       " 'virginamerica plans start flying direct dal las',\n",
       " 'virginamerica big love gratitude mpower w http co agr kncpf werin oscars vipswagbags avalonhollywood http co ybmbgs dhn',\n",
       " 'virginamerica great job adding little luxuries aesthetics improve air travel experience thank keep',\n",
       " 'virginamerica requested window seat confirmed window got stuck middle seat good way treat silver member',\n",
       " 'virginamerica grand budapest hotel oscarscountdown',\n",
       " 'virginamerica missed newsvp next trip',\n",
       " 'virginamerica wtf paid direct flight purpose stop fuel exhausted frequent flier nothing inconvenience',\n",
       " 'virginamerica something wrong website safari iphone',\n",
       " 'virginamerica thanks gate checking baggage full flight dfw lax giving early boarding sweet',\n",
       " 'virginamerica already checked page expired x',\n",
       " 'virginamerica boo refunding seat upgrade fee want buy first place',\n",
       " 'virginamerica shares rise q financial results usa today http co lfs pefe',\n",
       " 'virginamerica adds pillows instead lie flat seats first class arms race http co rgywjbbhm',\n",
       " 'virginamerica see',\n",
       " 'virginamerica way take advantage mayweatherpacquiao',\n",
       " 'virginamerica know flying virgin fight mayweatherpacquiao',\n",
       " 'virginamerica inflight team makes experience amazing',\n",
       " 'virginamerica cutest salt pepper shaker ever think guys get better http co vc keulg j',\n",
       " 'virginamerica moved seat notice better seat cabin select behind row selected disappointed',\n",
       " 'virginamerica shares q results iol http co xz qeg nef',\n",
       " 'virginamerica fav airline',\n",
       " 'virginamerica hot female pilot sweet dca sfo',\n",
       " 'guys going start flying paris virginamerica lizautter welcome',\n",
       " 'virginamerica policy flying surgery still waiting answer tell doctor',\n",
       " 'virginamerica already contacted central baggage amp sent dm renttherunway charging dress lost suitcase help',\n",
       " 'virginamerica thank',\n",
       " 'virginamerica anything going website getting lot errors past minutes',\n",
       " 'virginamerica think left something plane yesterday call ah',\n",
       " 'virginamerica need follow back order dm',\n",
       " 'virginamerica need start flying kciairport',\n",
       " 'virginamerica told check airline regulation first contacted',\n",
       " 'virginamerica virginatlantic checked flight sfo lax amp told atlantic flying club gold get benefits',\n",
       " 'virginamerica husband ordered three drinks via screen never came awesome',\n",
       " 'virginamerica soooo guys going leave seatbelt light flight barely call turbulence',\n",
       " 'virginamerica policy flying surgery',\n",
       " 'virginamerica posts second consecutive full year net profit atwonline http co tvb zbzvhg',\n",
       " 'virginamerica funny story website broken missing javascript stylesheets checkin process dislike',\n",
       " 'virginamerica would love virgin like gopro',\n",
       " 'virginamerica results handily exceed forecasts nytimes http co gonmrwem',\n",
       " 'virginamerica applied position flylaxairport wondering guys received application',\n",
       " 'virginamerica achieves second year profitability despite revenue pressure capa aviation http co zsuztnaijq',\n",
       " 'virginamerica gives positive outlook sees increased competition reuters http co jeu od eyj',\n",
       " 'virginamerica trying check ct flight tmm desktop website working sort caching bug sos',\n",
       " 'virginamerica weather delays gt next weeks jfk bos dca',\n",
       " 'virginamerica madbee check website go airport',\n",
       " 'virginamerica guys know check links emails broken http co npxb obmr',\n",
       " 'virginamerica pilot says expect choppy landing nyc due gusty winds w temperature degrees amp w windchill',\n",
       " 'virginamerica loved wait monday return flight mostly watch inflight safety video sorrynotsorry',\n",
       " 'virginamerica lost luggage days ago flight vx lax iad amp calling every day response please give back stuff',\n",
       " 'virginamerica flight booking problems section website seems broken chrome might wanna look',\n",
       " 'virginamerica hi wanted see new routes planned year newark love flying guys hope',\n",
       " 'virginamerica mean probably inappropriate board',\n",
       " 'virginamerica happy spend day together let',\n",
       " 'virginamerica saving sanity right http co eltboljul',\n",
       " 'virginamerica missed flight standby work',\n",
       " 'virginamerica understanding helped thx comps',\n",
       " 'virginamerica brought way across country today see http co tkauygcpms',\n",
       " 'virginamerica thank absolutely',\n",
       " 'virginamerica looks like broken link assets https co oardjjgrrd',\n",
       " 'virginamerica ready let say together noooo turbulence today',\n",
       " 'virginamerica manage itinerary section website seems broken https co pujvcelng',\n",
       " 'virginamerica check site looks like every time loads http co kacy awdbw',\n",
       " 'virginamerica u help freyabevan fund needs urgent treatment old battling cancer could u help flights freyasfund',\n",
       " 'virginamerica may start service hawaii sanfrancisco year http co ypo nyprzl biztravel',\n",
       " 'virginamerica carriers less half price round trip fare stunned http co ukdjjijrow',\n",
       " 'virginamerica wtf happening pdx late flight march one way sfo',\n",
       " 'virginamerica add dtw sold',\n",
       " 'virginamerica free drinks flight back free promo',\n",
       " 'virginamerica ssal thanks',\n",
       " 'virginamerica momma made',\n",
       " 'virginamerica please contact portfolio left flight vx jfk sfo tonite seat need returned call',\n",
       " 'virginamerica help flight jkf tonight seat c left portfolio need back',\n",
       " 'virginamerica shrinerack seattle bound wifey got duffle vday keeper holla http co jloiblnair',\n",
       " 'virginamerica luggage gone filed paperwork promised call email still resolution response central luggage',\n",
       " 'virginamerica debbie baldwin gave rockstar performance safety demo evening vx las sfo bestcrew sherocks',\n",
       " 'virginamerica thanks',\n",
       " 'virginamerica thanks taking care suuperg flight rockstars travel',\n",
       " 'virginamerica thanks lovely soft views travel san sfo http co cnctl g ef',\n",
       " 'virginamerica requested mileage challenge status several weeks ago online heard back get help',\n",
       " 'virginamerica trying book tickets nyc facing super fun broken styling worry keep trying',\n",
       " 'virginamerica many thanks follow ourprincess freyasfund usa bandie looking help http co ujfs zi kd',\n",
       " 'virginamerica nice lofty view flylaxairport silverstatus http co f tp dawbd',\n",
       " 'virginamerica applied status match feb got confirmation email day still news though guys dropped ball late flightly',\n",
       " 'virginamerica new go airline',\n",
       " 'virginamerica virginatlantic gma americanair help ourprincess need help usa http co aztdaer',\n",
       " 'virginamerica adore looking forward flight austin two weeks',\n",
       " 'virginamerica glad mentioned took first virgin flight years back transformative experience',\n",
       " 'virginamerica flight booking problems flight uphold status match taxes ticket count earned status points statusmatch virginamerica',\n",
       " 'virginamerica trying check looks like site',\n",
       " 'virginamerica spending birthday night dal dca get home',\n",
       " 'virginamerica sent couple messages email provided avail try next year cheers',\n",
       " 'virginamerica first time flying virgin went sanfrancisco thanks smooth ride easily new fav airline',\n",
       " 'virginamerica seriously though direct flights sfo fll may',\n",
       " 'virginamerica fine already done purchase try go way go back',\n",
       " 'virginamerica really experience hoping ws forced check small carry w nothing empty cabin space board',\n",
       " 'virginamerica wjere luggage slow lax',\n",
       " 'virginamerica jump dallas austin market http co szr pioa',\n",
       " 'virginamerica spoke representative offered solution loyal customer flies virginatlantic well',\n",
       " 'virginamerica deeply disappointed birthday promo applied trip booked mere days received email',\n",
       " 'virginamerica happened direct flights sfo fll looking may see connecting help dontdothistome',\n",
       " 'virginamerica help left blazer kooples jacket bag rd row second seat right gate lax flight sfo',\n",
       " 'virginamerica partners visa checkout mobile payment method help boost mobile conversion rates etailwest payments visa',\n",
       " 'virginamerica promoting product problem southwest recommend noneother best http co tfanxbh cf',\n",
       " 'virginamerica love guys pls get direct routes las aus',\n",
       " 'virginamerica would like help flights please',\n",
       " 'bruh virginamerica giannilee turn vxsafetydance',\n",
       " 'virginamerica course work virginatlantic obsessed entire virgin family',\n",
       " 'virginamerica ok first time flying tonight',\n",
       " 'virginamerica digging swanky pink mood lighting flight nyc sfo needs cabaret singer think',\n",
       " 'virginamerica done need receipt asap could please help',\n",
       " 'virginamerica embossed badges patches superior ones currently using http co fq xelbon',\n",
       " 'virginamerica vx jfk la dirty plane standards',\n",
       " 'virginamerica flight vx headed la jfk dirtiest va plane ever sad great airline',\n",
       " 'virginamerica got squared away someone picked soon tweeted tweeted sooner',\n",
       " 'virginamerica avis rental continue button work website book car tried times phone sucks',\n",
       " 'virginamerica delayed',\n",
       " 'virginamerica currently minute hold cust service need anything add lap child reservation',\n",
       " 'virginamerica adds pillows instead lie flat seats first class arms race http co sfjduahx z skift',\n",
       " 'virginamerica karinslee course fun celebrating thanks happy chinese new year',\n",
       " 'virginamerica flight booking problems last second flight next week sfo san chance want gift promo code since love guys',\n",
       " 'virginamerica comenity bank joke please change nothing constant problems bank',\n",
       " 'virginamerica dm u also add',\n",
       " 'virginamerica grandma ella th would lt bday greeting flight crew stewardess eastern airlines',\n",
       " 'virginamerica bought tix atx dallas route thanks adding love yr airline amp yr website best transactional site ever',\n",
       " 'virginamerica anytime sugafly',\n",
       " 'virginamerica gave credit late flight flight yesterday great service wow moment unexpected gesture',\n",
       " 'virginamerica need receipt flight change send one',\n",
       " 'virginamerica submitted status match request back still heard flying monday look accelerate',\n",
       " 'virginamerica safety video http co cqmm nue loved first cross country flight livewelltraveled sytycd',\n",
       " 'virginamerica look fat looks yummy',\n",
       " 'virginamerica ceo says southwest amp jetblue strayed low cost model http co sctomh',\n",
       " 'virginamerica brilliant brisk boston cue vx http co rmznivgmg',\n",
       " 'virginamerica atlantic ploughs lone furrow middleeast http co fvudmh pf thenationaluae',\n",
       " 'virginamerica atlantic ploughs lone furrow middleeast http co dcobokn ee thenationaluae',\n",
       " 'virginamerica atlantic ploughs lone furrow middleeast http co vw p tlh thenationaluae',\n",
       " 'virginamerica omg omg nonstop dallas austin virgin',\n",
       " 'virginamerica planes really pretty thought u know',\n",
       " 'virginamerica flying hawaii',\n",
       " 'virginamerica pulling hair trying book flight u site work iphone ipad computer help',\n",
       " 'virginamerica thank',\n",
       " 'virginamerica get help support ticket days incident thank',\n",
       " 'virginamerica good home texas moodlighting http co n bvzty zi',\n",
       " 'virginamerica cannot even open laptop seat c paid premium let',\n",
       " 'virginamerica seat c cannot even open laptop paid extra seat',\n",
       " 'virginamerica guys starting flights end month guess still road tripping feb',\n",
       " 'virginamerica thanks needing way make austin trips dca come',\n",
       " 'virginamerica announced new route austin w fares way http co ga pbamu c',\n",
       " 'virginamerica really sprint thought guys kewl',\n",
       " 'virginamerica cool never ur planes',\n",
       " 'virginamerica dollar lax las fares',\n",
       " 'virginamerica great well deserved',\n",
       " 'virginamerica fyi info virginamerica com email address say contact password reset emails exist emails bounce',\n",
       " 'virginamerica status match weeks gone news flt next week hope flt count towards requirement cust svc help',\n",
       " 'virginamerica website sucks donkey dicks thought know best',\n",
       " 'virginamerica still develop app favorite airline',\n",
       " 'virginamerica crap channels pay watch uk tv',\n",
       " 'virginamerica got set thanks',\n",
       " 'virginamerica channel year',\n",
       " 'virginamerica thing see passbook virgin mobile mexico integrate',\n",
       " 'virginamerica giants virgin america match made heaven',\n",
       " 'virginamerica thank goodness also see friday nwk gt sf boom',\n",
       " 'virginamerica come iphone app still using making waste paper',\n",
       " 'virginamerica back seat entertainment system accept credit cards apostrophe surname apostrophefail',\n",
       " 'virginamerica vx use lga slots instead today adding aus makes less likely',\n",
       " 'virginamerica helping step tinder game tindertips tinderchamp http co jbmvvha',\n",
       " 'virginamerica luv ur people product thing u charge herbal tea black tea caffeine drinker',\n",
       " 'virginamerica thank see soon excited see expansion destinations spread wings',\n",
       " 'virginamerica announces new nonstop connecting austinairport amp dallaslovefield intro http co qxnoaqtyn http co jk qmdfqgf',\n",
       " 'virginamerica adds austin dallas love field route http co xwjol flh http co aormfkac',\n",
       " 'virginamerica sad learn longer fly sfo gt phl hope returns',\n",
       " 'virginamerica tweet cancelled flight chng fee flight rebook one affiliates afiliates',\n",
       " 'virginamerica incredible customer service ever experienced refreshing',\n",
       " 'virginamerica see virginamerica come philadelphia phl',\n",
       " 'virginamerica dreaming really open route dallas austin mean houston might next',\n",
       " 'virginamerica omg finally',\n",
       " 'virginamerica start xweekly flights dallas dallaslovefield austin apr avgeek',\n",
       " 'virginamerica nice see expanding texas forget us sandiego would love see flights',\n",
       " 'virginamerica kinda sucked earphone jack work flight may want look future passengers',\n",
       " 'virginamerica poor experience first computer problem seat malfunction stuck missing meeting san diego',\n",
       " 'virginamerica battle southwestair dallaslovefield austinairport route http co rlz ebk x via usatoday',\n",
       " 'virginamerica thankyou dal aus route makes day',\n",
       " 'virginamerica awesome deals dal aus way https co xcvqxykg',\n",
       " 'virginamerica miss nerdbird san jose',\n",
       " 'virginamerica love taking southwestair backyard consumers win biz competes',\n",
       " 'virginamerica flying love austin excellent news',\n",
       " 'virginamerica make every vx plane nerdbird austin one getting nerd love',\n",
       " 'virginamerica please add frequency pdx portland',\n",
       " 'virginamerica congrats vx new route',\n",
       " 'virginamerica tried offered charge additional k new ticket stranded thurs st time last time',\n",
       " 'virginamerica americanair u help flights get old battling cancer needs treatment freyabevan fund',\n",
       " 'virginamerica never bad experience one took cake extortion carry items well',\n",
       " 'virginamerica spend hours worrying items carryon would broken stolen since carry plane lock bag',\n",
       " 'virginamerica group e told room bins got plane room least bags row',\n",
       " 'virginamerica thanks making flight lax jfk nightmare forcing check carry bag gate',\n",
       " 'virginamerica lots flights book site working phone waiting minutes',\n",
       " 'virginamerica flight artisanal cheese wine pairing',\n",
       " 'virginamerica virgin america fly direct seattle nyc boston',\n",
       " 'virginamerica classy',\n",
       " 'virginamerica sure lot jfk lhr flights go lot faster mph strong tailwind',\n",
       " 'virginamerica minus minutes elevate silver upgrade window opens freeneversucks',\n",
       " 'virginamerica save tomorrow',\n",
       " 'virginamerica taking years fly home dallas get shit together',\n",
       " 'virginamerica jezziegoldz club virgin bumping new york http co haqc gdg c',\n",
       " 'virginamerica jezziegoldz would rough trip luckily virginamerica flight weather',\n",
       " 'virginamerica thestarter',\n",
       " 'virginamerica please come minneapolis st paul',\n",
       " 'virginamerica yes fyi bff',\n",
       " 'virginamerica another perfect flight come planes sun visors stay carriers make raise',\n",
       " 'nice rt virginamerica man steel might faster wifi saying sciencebehindtheexperience http co fgrbpazsix',\n",
       " 'virginamerica love dancing little richard cool beans',\n",
       " 'virginamerica use passbook still love though lt use email future',\n",
       " 'virginamerica thanks free birthday points right',\n",
       " 'virginamerica application ios looking saw virgin mexico lt',\n",
       " 'virginamerica man steel flies cities though frequency',\n",
       " 'virginamerica thanks much sharing added site http co tsvibtvt h',\n",
       " 'virginamerica good point',\n",
       " 'virginamerica heard virgin mobile hotspot',\n",
       " 'virginamerica got cheese plate flights',\n",
       " 'virginamerica flights',\n",
       " 'virginamerica dad segway best part whole infographic',\n",
       " 'virginamerica plans short haul airline europe would defiantly fly guys',\n",
       " 'virginamerica wifi better seating',\n",
       " 'virginamerica come abc one network channels',\n",
       " 'virginamerica started flight scolding using overhead bin offered person seated next',\n",
       " 'virginamerica great return calls day ask myvxexperience',\n",
       " 'virginamerica airlines cancelled flighting flights bos helping customers get home virgin saying good luck',\n",
       " 'virginamerica dear virgin customer stranded sf days amp cost least accommodate',\n",
       " 'virginamerica use next airline commercial lol http co pxexilsjbs',\n",
       " 'virginamerica grouping virgin others bos weather exposed actual cus serv model never flight booking problems virgin',\n",
       " 'virginamerica one travelers affected boston storm shocked virgin complete apathy toward customers',\n",
       " 'virginamerica umm reason someone different contact contact get definitive answer',\n",
       " 'virginamerica trying make change advance hours prior tried online earlier wanted change fees',\n",
       " 'virginamerica loyal driving nyc pa fly virgin since cut philly flights',\n",
       " 'virginamerica way change main cabin main cabin select flight without paying change fee penalty',\n",
       " 'virginamerica guys perfect always lt wervirgin',\n",
       " 'virginamerica thanks best customer service left industry',\n",
       " 'virginamerica give silver status months',\n",
       " 'virginamerica really wish fly fargo fargoairport fares amazings',\n",
       " 'virginamerica mood lighting point reclining seat kickin feet',\n",
       " 'virginamerica flight scheduled pm departure still says time plane gate update long delay',\n",
       " 'virginamerica group got cancelled flightlation fees waived ticket booked reps help either',\n",
       " 'virginamerica sign bonuses enroll elevate',\n",
       " 'virginamerica got pm newark home la folks ewr incredible letsgohome',\n",
       " 'virginamerica morning question regarding elevate points amp flights dm',\n",
       " 'virginamerica still waiting see starryeyes dev',\n",
       " 'virginamerica wondering guys recieved dm able potentially respond asap',\n",
       " 'virginamerica flying lax sfo looking awesome movie lineup actually wish long haul',\n",
       " 'virginamerica book town fares way restr http co xrdtov nl http co byackc jenniferdawnpro',\n",
       " 'united thanks',\n",
       " 'united thanks taking care mr happy customer',\n",
       " 'united still refund word via dm please resolve issue cancelled flightled flight useless assistant trip',\n",
       " 'united delayed due lack crew delayed long line deicing still need improve service united',\n",
       " 'united thanks filled luck common',\n",
       " 'united eri ord express connections hugely popular could eri ewr hop',\n",
       " 'united even international flight glasgow u orlando newark mins',\n",
       " 'united think boarded flight au early think',\n",
       " 'united understand tough way get airport w serious risk accident steep price',\n",
       " 'united gate agent hooked alternate flights way prevent constant issues would rock',\n",
       " 'united flying gla mco weeks long airport departure international domestic ta',\n",
       " 'united thanks',\n",
       " 'united thanks ticket',\n",
       " 'united law policy',\n",
       " 'united worst nonrefundable first class tickets oh select global fc system auto selects economy w upgrade',\n",
       " 'united cheertymedad buy tix days flight transfer tix flawed security logic flawed customer service',\n",
       " 'united start claim weeks unrealistic really supposed go long car seat child ridiculous',\n",
       " 'united follow please airline beautifull',\n",
       " 'united sure united info system',\n",
       " 'united car seat lost united reimburse new one pair shoes necessity child',\n",
       " 'united submitted response link sent',\n",
       " 'united yes david allan send email number kmm v l km case',\n",
       " 'united highbuddyyy totally sucks cousin worked phl said united',\n",
       " 'united wanted let know wonderful rosetta gate agent working flight dan ase let know wasappreciated',\n",
       " 'united yes paper voucher got january th',\n",
       " 'united beginning feb called united said would send another voucher mail never got anything tiredofwaiting',\n",
       " 'united internet great thing emailing executives company maybe respond timely manner',\n",
       " 'united need use chase united club pass yr old son come pass',\n",
       " 'united suppose number',\n",
       " 'united thats weak see ya hey virginamerica',\n",
       " 'united flew back w company since united didnt earlier flight',\n",
       " 'united lost voucher given miami aeroport jan use',\n",
       " 'united trying book awards september need flights aegeanairlines show even w many award seats availab',\n",
       " 'united sure drive total hours get bag like explain debacle one wants talk',\n",
       " 'united cheertymedad gee like almost caring ppl think int trusted adult w daughter',\n",
       " 'united see told repeatedly pilot late flight kept getting late flightr boarded defibrillator issue',\n",
       " 'united preferred security line anymore tsa pre check pull silverairways partner flight platinum spoiled',\n",
       " 'united newarkliberty airport need indicate different gate terminals amp c flyingainteasy',\n",
       " 'united yes please newly married trying update last name preexisting international flight seems easy',\n",
       " 'united united refuse reissue lost voucher plane take due mechanics badcustomerservice',\n",
       " 'united also run instructed shattered computer http co oaflfr wxb',\n",
       " 'united yes agents last minutes one agents rude thankfully ladan nice',\n",
       " 'united right overnight miami',\n",
       " 'united clients hr layover iah day claim amp recheck luggage taken care',\n",
       " 'united trying find loaner seat new used used car seat illegal according safety regulations',\n",
       " 'united dmed details',\n",
       " 'united iah charlotte baggage claim rep latrice h customerservice non existent ignored customer inappropriately touched customer',\n",
       " 'united kewl also let know overhead bin row inop love good abbreve',\n",
       " 'united thanks help got need issue austrian guess sit awhile longer',\n",
       " 'united uctraveladvisor would loved respond website saw really long form business new seats bad',\n",
       " 'united refund flight vouchers another flight different airline expense today hour drive inconvenient',\n",
       " 'united received call back days infant car seat supposed go anywhere child',\n",
       " 'united thanks concern contact customer care upon return australia',\n",
       " 'united well sitting ground time waiting gate tiredofthis',\n",
       " 'united airport snow removal method keep good work folks cessna become http co v tmusjvu',\n",
       " 'united need guys book planes concern travel someone else moving forward',\n",
       " 'united measly e certificate appreciate loyal customers wait hrs tarmac ua unacceptable',\n",
       " 'united email address username sign available',\n",
       " 'united thank able claim interim expenses cost stuff',\n",
       " 'united rude rude',\n",
       " 'united get boarding pass austrian airlines codeshare flight rebook incls hour layover amp stuck outside sec',\n",
       " 'united received flights united truly breaks guitars unitedbreaksguitars wantmymoneyback',\n",
       " 'united flew telaviv paid third suitcase even make plane besides impolite service',\n",
       " 'united bag still colo springs disabled search unfamiliar airport look bag good outcome',\n",
       " 'united shame flex tickets transfer rules even calling neurosurgery icu enough',\n",
       " 'united denver said handle baggage made colo springs gave number call help either',\n",
       " 'united guys need serious training customer service many better options put way guys handle ur mistakes',\n",
       " 'united ord dca',\n",
       " 'united found problem avoided like plague told find supervisor',\n",
       " 'united zcc u cancelled flight flight h advance need connect flight reschedule link helping help gf waited months see',\n",
       " 'united flying',\n",
       " 'united addition first flight delayed hour arriving destination hrs late flight',\n",
       " 'united cancelled flighted flight rebook us added flight drive denver kc thanks',\n",
       " 'united announcement pre boarding addresses mobility disability requires travel lot stuff preboard',\n",
       " 'united flew united last month experience awesome',\n",
       " 'united travel booked thru united group dept okc ticket agent less willing help connection lax',\n",
       " 'united v upset disability services told one employees carrying medical equipment rude',\n",
       " 'united thnx quick reply think assist intl grp put considerable inconvenience today',\n",
       " 'united wont transfer flight ticket accompany yr old active military mom emergency brain surgery wow',\n",
       " 'united getmeontop weeks late flightr still received miles mileageplus gift card starbucks card handed',\n",
       " 'united k always hoping improvement',\n",
       " 'united yet complained guy checked luggage throwing bags around unfortunate coincidence hope',\n",
       " 'united okc ticket agent roger mclarren sp less helpful intl group travel problems find supervisor help',\n",
       " 'united mobile apps need construction ground os category expensive get right',\n",
       " 'united another fail united ticket agents okc less helpful could care less problems american come',\n",
       " 'united also working wc coach good thing bird landed ahead schedule use wc stat',\n",
       " 'united os controlled rather verizonwireless app new',\n",
       " 'united sent email customer care telling may break sincerely hope help',\n",
       " 'united silly flying delta today united club staff attendants surly unhelpful always seem bothered pesky folk',\n",
       " 'united phone number find call flight reservation',\n",
       " 'united well fix missing buddies th bday negligence attempt make',\n",
       " 'united believe help customer service like said want number someone fix',\n",
       " 'united helped baggage service desk said bc tsa screening fll bags made bag ewr',\n",
       " 'united mobile boarding pass disappeared phone standing line board second time week hmm',\n",
       " 'united record rozana newark lovely helpful choosekind',\n",
       " 'united last night ord lga',\n",
       " 'united thx update',\n",
       " 'united thank',\n",
       " 'united dm nuts',\n",
       " 'united explain eager flight attendant trying ask vision ccicanine guide dog',\n",
       " 'united point asking details servicedog book flight crew read continued',\n",
       " 'united tried one available bogota everyone rude houston stuck hours guys',\n",
       " 'united worst unitedflightsever ua las iad mechanical problems took land fix delayed wtfodds',\n",
       " 'united despite bag making newark good informative email tracking updates help',\n",
       " 'united going ua outbound flight last thurs delayed hrs long delay worst unitedflightsever',\n",
       " 'united worst unitedflightsever ua iad las mechanical problems switched aircraft delayed hours',\n",
       " 'united crashed trying check',\n",
       " 'united wow deal plus seats available easy change make customer happy',\n",
       " 'united thanks info already knew',\n",
       " 'united airline trouble winter amp getting good customer service contact http co aqjn hwnac negotiate resolutions',\n",
       " 'united logan boarding gong show due lax carry enforcement bins full coats room bags u need better system',\n",
       " 'united thank',\n",
       " 'united blackmailed paying extra return ticket nullified san francisco airport terrible service rep scam',\n",
       " 'united email address reach long dm',\n",
       " 'united disappointed u didnt honor credit given ur mistakes taking business elsewhere',\n",
       " 'united ua still waiting supposed depart',\n",
       " 'united credit last trip never came mail',\n",
       " 'united ok months waiting hear airline gave quite bit days requested terrible service',\n",
       " 'united process ever end still waiting reply since months pathetic customerservice',\n",
       " 'united going website flight booking problems three tickets today booted system umpteen times',\n",
       " 'united get account number website says email unavailable',\n",
       " 'united need book two one ways order fly unaccompanied minor',\n",
       " 'united received bag last night still missing one',\n",
       " 'united simonroesner need upgrade seats even economy plus like sitting concrete bench',\n",
       " 'united pls help baby hannah get life saving surgeries requires needs help pls donate rt http co kqnrrp',\n",
       " 'united bet wont honour like mine ey',\n",
       " 'united nd flight also delayed pilots boarded sit scheduling',\n",
       " 'united guess much ask huh',\n",
       " 'united hard stay upset someone least try show remorse',\n",
       " 'united way simple apology goes long way even hollow one obvious care well',\n",
       " 'united one time thing either shocking pattern repeated neglect disrespect',\n",
       " 'united fingers crossed amp intact disappointed experience actually saying enjoyed using',\n",
       " 'united incredibly easy fix would rather stay comfort zone get forced mine',\n",
       " 'united july zero excuses date system causes problems like',\n",
       " 'united everyone around us sitting friends family members booked tickets october december bought',\n",
       " 'united sure talking going nonstop flights sna sfo sfo ewr',\n",
       " 'united moving americanair united talk service',\n",
       " 'united please good weekend',\n",
       " 'united asked legitimate question systemwide vs localized problems got back unrelate flightd copy paste better',\n",
       " 'united time call need skis go airport get faith united',\n",
       " 'united see guys amazing one company continually makes mistakes yet fails held accountable error',\n",
       " 'united tourist wonder super tides tide century french u k coasts http co gxdqortss',\n",
       " 'united yeah sorry always problem united international reputation problems',\n",
       " 'united yall probably work',\n",
       " 'united maybe bbbne sd ks ia would care hear went whoever listens issues caused',\n",
       " 'united wonder sharing fb insta would produce number characters really limits story telling',\n",
       " 'united telling number call left airport negligent pilot staff',\n",
       " 'united could email resent doesnt appear arrived',\n",
       " 'united yes please trying get pop newark',\n",
       " 'united follow order dm come',\n",
       " 'united united coupon make broken entertainment system hour flight seriously ridiculousness learncustomerservice',\n",
       " 'united drop bag overnight amp leaving week supposed hold bag',\n",
       " 'united dm details still response book today',\n",
       " 'united know probably way get cheaper airfare ticket flight leaving hours',\n",
       " 'united someone please explain process happens property found plane passengers leave heathrow',\n",
       " 'united able dm confirmation number',\n",
       " 'united sent message let know got twitter literate also really going stuck hrs',\n",
       " 'united unhappy response complaint emailed nd feb ref awful customer service',\n",
       " 'united dm work',\n",
       " 'united private jet would cool work try',\n",
       " 'united given option using united travelbank recent flight booking problems help using recouping funds thanks',\n",
       " 'united common keep paper work ready delay flights meetings choosechicago',\n",
       " 'united yul ord',\n",
       " 'united yep correct got email flight cancelled flightled matter flight atl delayed thx',\n",
       " 'united k problem getting fll iah sent dm making connection please let know',\n",
       " 'united done done',\n",
       " 'united thanks sent',\n",
       " 'united grounded montreal ua missing connection ua st louis help private jet',\n",
       " 'united frustrated nervous',\n",
       " 'united ones make difficult',\n",
       " 'united child someone issue flying prepares ahead time reduce distress caused planes',\n",
       " 'united get cancelled flightled hours take',\n",
       " 'united always happens guys makes traveling incredibly stressful uncomfortable good business',\n",
       " 'united someone severe anxiety one person help next',\n",
       " 'united seeking go client b c u cant get need refund filled form confident works past indication',\n",
       " 'thnx response united bot seems improvement could easily attained st class service really worth',\n",
       " 'united unrivalled access california flights u uk airports nonstop one stop connections year round',\n",
       " 'united booked award tix thaiairways seeing conf united flight booking problems get get thai',\n",
       " 'united luckily made flights time disappointed lack communication',\n",
       " 'united checking see flight atl ord got cancelled flighted',\n",
       " 'united service far horrid wanted end trip high note guess option',\n",
       " 'united booked flight home months ago requested seats together fianc e got middle seats unacceptable',\n",
       " 'united guys horrible',\n",
       " 'united thnx info',\n",
       " 'united pay wifi international business ticket pennypincher',\n",
       " 'united ok top things lost luggage could get worse unitedairlines',\n",
       " 'united kudos cancelled flightling flights dfw morning united usually first panic',\n",
       " 'united luggage broken youcouldntmakethis brokenwheel',\n",
       " 'united flight dfw ord currently time see advisory dfw may affected weather',\n",
       " 'united maybe one day one quoted http co mjkpgvxmpc',\n",
       " 'united flight delayed one remembered turn heat flight leaving ord seriously',\n",
       " 'united another awesome new plane flight extremely nice captain steve connolly',\n",
       " 'united speak real person get resolved politely efficiently',\n",
       " 'united filed refund claim told charge dm disputed bank hence would like',\n",
       " 'united bags make flight iad second day without clothes pretty inconvenient pretty curious unitedairlines',\n",
       " 'united every united flight saipan guam adventure never know capeair old plane operational',\n",
       " 'united hence asking customer service phone number speak real person get sorted',\n",
       " 'united bags leave washington yet would convenient seeing left day ago unitedairlines lostluggage',\n",
       " 'united flying st class one leg chicago long flight china still able use lounge chicago',\n",
       " 'united according dms owed refund please may provided contact number go bank file claim',\n",
       " 'united hours ago need work bag make hotel time need go elsewhere',\n",
       " 'united okay thank',\n",
       " 'united filed claim way calling updates another way',\n",
       " 'united pls properly train agents requested speak k customer service amp transferred dead end even open hr',\n",
       " 'united thanks remembering load bag onto connecting flight oh wait forgot iceland fun clothes',\n",
       " 'united thank cheese platter abundance entertainment options time flew',\n",
       " 'united customer service atrocious disrupted travel plans lost luggage impossible talk human',\n",
       " 'united terminal mia food open esp flights two hours early like recommended eat',\n",
       " 'united ua flight currently stuck portland missed ride hour delay getmartyhome',\n",
       " 'united responded various requests contact numbers anyone know uk customer service number unitedairlines',\n",
       " 'united looking getting bags lusaka',\n",
       " 'united could update suitcase please online phone tracking told nothing told back yesterday',\n",
       " 'united thank trying two days set',\n",
       " 'united last thing u guys charging drinks transatlantic flight',\n",
       " 'united lhr arrival lounge fail waited mins shower left find hotel u know many passengers u carry planning',\n",
       " 'united luck finalizing reservation dm information please let know else need want confirm asap thx',\n",
       " 'united completed form doubt use ua care day vacation sure ua feel responsibility',\n",
       " 'united definitely compliment really thought bag lost sent another airport end happy customer',\n",
       " 'united thanx much followed emailed ticket voucher unitedairlines care',\n",
       " 'united definitely trip remember ewr sti second season first seat pays loyal',\n",
       " 'united nope told us time go home sleep airport even though assured us would get room',\n",
       " 'united keep updated let know bags make flight j burg',\n",
       " 'united back expensive holiday worked year pay ruined want compensation amp original case back',\n",
       " 'united thanks united understand would actually like bag back done also wants money',\n",
       " 'united frankly worse customer service ever problems happen deal defines company never united',\n",
       " 'united still valid flight seems strange delay late flight inbound crew hours plane already',\n",
       " 'united thanks lack help canned response k desk',\n",
       " 'united bad ua another unforeseeable operational issue return flight',\n",
       " 'united would like know going current flight lands',\n",
       " 'united pay luggage delivered arrive wait additional days delivery',\n",
       " 'united hotels people feel like held hostage someone boarding passes leave fail',\n",
       " 'united one great airline',\n",
       " 'united outbound bags lbs bags returning home bag lbs logic writing machine human help required',\n",
       " 'lindaswc united like hear poor experience please share details w customer care team http co hisc ndmgz',\n",
       " 'united cancelled flightn left us fend flt came late flight getting runaround hrs employee blaming previous',\n",
       " 'united local united number malaysia local united airlines kuala lumpur kul',\n",
       " 'united okay ase find luggage',\n",
       " 'united agent met us gate said issues w delays ua would taken online',\n",
       " 'united send urgent message via eservice united com bg kwm narayanan please respond asap also local united tel kul',\n",
       " 'united thanks guys getting anytime soon',\n",
       " 'united lady one phone says tel aviv tel aviv united says newark one knows nothing',\n",
       " 'united melaniespring see kn running plane running thanks help',\n",
       " 'united yes still answers many luggage days unacceptable',\n",
       " 'united going nothing like always',\n",
       " 'united sent feedback thank',\n",
       " 'united plus food taxis',\n",
       " 'united offering us rooms people fail',\n",
       " 'united people getting pretty tired action solving problem plus missing day vacation skiing',\n",
       " 'united bright side would keeping promise made hope good night thanks',\n",
       " 'united yes',\n",
       " 'united take back comment team working hard help us far solution hotel food anything fail',\n",
       " 'united arriving two hours late flight clt sitting tarmac move plane gate unhappy customer',\n",
       " 'united airlines absolute worst idea neveragain unitedairlines',\n",
       " 'united thanks might want fix line customer care team currently responding inquiries within business days',\n",
       " 'united flew united aus austin bergstrom cancun intl best flight ever big small',\n",
       " 'united frustrating frequent flyer loyal since continental upgrade equals paying times top purchase ticket',\n",
       " 'united deep vein thrombosis',\n",
       " 'united worse figure pack plane screws connectns claims hotl rooms san fran stranded pax way go',\n",
       " 'united passengers hour delayed flight left hotel end night hou airport wtf http co zfqmpgxvs',\n",
       " 'hey united flight iah pos leave late flight one back iah early rather get pos earlier',\n",
       " 'united lost bag process broken agent promised call amp hold bag found waking w delivery fail',\n",
       " 'united people counter helpful see nobody flight austin still sitting',\n",
       " 'united unfortunately still tarmac fly ohare definitely missing ride flypdx gonnabealongnight',\n",
       " 'united darquenloveli regret hear please let us know need assistance kn finally able secure seat thx',\n",
       " 'united time check open flight ua manchester newark today',\n",
       " 'united good know open closed doors premier passengers safety briefings delayed flights annoyed',\n",
       " 'united dm sent',\n",
       " 'united yea get phoenix already delays day people bullshit',\n",
       " 'united consolation staff stellar hour delays encountered every one flights',\n",
       " 'united flight ua gate b tell ray somehow made flight iah wait one',\n",
       " 'united unfortunate tumitravel xmas gift looks like razor ripped right front pocket picture',\n",
       " 'united thanks asking',\n",
       " 'united lost bags cancelled flightled flights delhi call centers poor united staff spread thin stressed name',\n",
       " 'united yes make mistake less absurd change fact inconveniently missing luggage tonight',\n",
       " 'united constantly challenges upgrades amp charges order prevent dvt pay addtl http co xc jq r b',\n",
       " 'united ord waited min crew members left gate items came flight attendant sarcastically said good luck walked away',\n",
       " 'united follow back please happily dm link rather share travel plans publicly',\n",
       " 'united',\n",
       " 'united favorite airline',\n",
       " 'united seriously fail making strangers share room',\n",
       " 'united luke mcintosh nah',\n",
       " 'united needed asap make today flight',\n",
       " 'united agent split reservation cancelled flight refund credit wks',\n",
       " 'united vacation going ruined w days rain change fee us nearly cost original flight help',\n",
       " 'united sent message let know asap',\n",
       " 'united would make share room',\n",
       " 'united tried calling w min phn wait means miss options anyway',\n",
       " 'united ask guys flight bwi wait us get delayed flight san diego pretty please',\n",
       " 'united still waiting find rep working hard upset wait tomorrow pm get mammoth',\n",
       " 'united early flt think call appropriate yes reviewed nada avail next day expect full refund',\n",
       " 'united understand thanks',\n",
       " 'united ask call get fixed tweeting bs questions stall makes things worse phone number please',\n",
       " 'united yo yo yo stuck tarmac hours fly ohare going miss ride flypdx help please helpimstuck united',\n",
       " 'united highly unprofessional overbook flight seats amp feel rearrange schedule mismanagement',\n",
       " 'united well considering every agent claimed unable help everything else waste time hear call corp',\n",
       " 'united man wait book ticket thanks jp life sabe',\n",
       " 'united ice totally understand large number us facing hours time overnight cancelled flightations seems like',\n",
       " 'united flt cancelled flightled get email happened courtesy phn call book diff airline amp city',\n",
       " 'united tag numbers let find bags',\n",
       " 'united better train support staff appropriate decorum consider revisiting terrible provide death certificate policy',\n",
       " 'united well bar set low guys really good apology game change u guys learn',\n",
       " 'united post disappointment frequent united flyer simple bad apple spoil bunch',\n",
       " 'united guys continue impress houston http co cih qnllcm',\n",
       " 'united way making phones calls need handle via twitter email web thank',\n",
       " 'united please help ethiopia adopting two year old child existing confirmation need add child reservation',\n",
       " 'united question onboad volt outlets planes',\n",
       " 'united website deserves new design html ftw',\n",
       " 'united thanks effing holidays missing full day skiing due baggage team incompetence flyyow',\n",
       " 'united twitter letting dm',\n",
       " 'united hope',\n",
       " 'united agent helps person front finishes walks away guy behind shocked',\n",
       " 'united connection ord exact plane checked carry apparently taken amp left chicago pretty ridiculous',\n",
       " 'united encouraged cpap tonight',\n",
       " 'united yes file claim soon carousel stopped without bag got email found sched delivery',\n",
       " 'united idea monitor mileage members travel patterns enough know change jobs lose status make transition easier',\n",
       " 'united delay den cle manually enter baggage tags really worst cust service day ker friendlyskies',\n",
       " 'united tell us flight delayed tell us time min spare say delayed unless sure',\n",
       " 'united yes lusaka zambia guess bags never made plane iad',\n",
       " 'united flight voucher',\n",
       " 'united late flight denver late flight newark let even get disaster checking bags unacceptable',\n",
       " 'united let think ever flown problems worst airline period',\n",
       " 'united yes filed claim amp hope receive luggage ridiculous purchase items go sleep amp reimbursement',\n",
       " 'united ua ord lhr bags loaded min late flight frigid air cabin plane feels like falling apart upgrade long haul fleet',\n",
       " 'united flight attendant never served beverage tea checked gives ua notcool',\n",
       " 'united load balancing system apparently systemwide major impact united airlines flights cyberattack',\n",
       " 'united unscheduled refueling stop missing connecting flights r home n looking ward bed big pb amp j sandwich',\n",
       " 'united americanair spent hundreds rectify situation guys go quiet',\n",
       " 'united ua sitting ewr nearly hour sked pilot says computers clue leave help',\n",
       " 'united americanair ends come traveled literally extra day half',\n",
       " 'united made upgrade list fly st tomorrow min first time ever statusmatchpaidoff http co atfrkp goy',\n",
       " 'united refunded us vacation get free room night make making us sleep dia',\n",
       " 'united thanks reminder fun ride http co ppva rch f',\n",
       " 'united received luggage also looked left snow arrived asking people refunded',\n",
       " 'united updated aircraft wifi device entertainment outlets get charge devices',\n",
       " 'united one scan inside plane asked people line around plane going',\n",
       " 'united gate changes two delays even crew thinks airline sucks',\n",
       " 'united frustrated wasted days due equipment failures',\n",
       " 'united computers stopped giving updates took flight info app ridiculous keep people updated',\n",
       " 'united soooo days offered response assume poor treatment gate agents norm',\n",
       " 'united terrific many thanks looking forward back ua tomorrow great flight vancouver',\n",
       " 'united calls resulted hrs hold time amp day wait check suspect code share fare nothing investigated time wasted',\n",
       " 'united taken weeks cust care respond case requesting refund wi fi working get update',\n",
       " 'united appreciate efforts getting home',\n",
       " 'united correct spent hours trying book online receive error clicking final purchase button',\n",
       " 'united today finest could prevented one gate agent advising passengers',\n",
       " 'united real deal delay flight ua denver vegas',\n",
       " 'united ua madrid arrived agent mass confusion sent fro ua employees maryjo rude unhelpful',\n",
       " 'united system failure bad trend software projects like flying airplane thing emergency takeoff',\n",
       " 'united lots reports system failures delaying flights last week currently sitting tarmac ogg hour',\n",
       " 'united rebooting chicago dispatch system need pivotalcf tired sitting planes',\n",
       " 'united despite shaky connections looks like get home tonight great job united touch go',\n",
       " 'united http co hj kq chn however completely control price still displayed http co hj kq chn',\n",
       " 'united aircraft closest gate flight one closest gate going chicago',\n",
       " 'united tell file claim clothing purchased',\n",
       " 'united comically return flight ase two united flights boarding adjacent gates clear plane board',\n",
       " 'united grk file reference',\n",
       " 'united would contact discuss poor experiences customer service would give shot',\n",
       " 'united ua pacific rim date night cut constantly randomly one spot repeatably',\n",
       " 'united trying since file report',\n",
       " 'united send email bad experience send back generic response yet another reason never fly',\n",
       " 'united mom left kindle flight today burgundy case light seat anyone find',\n",
       " 'united ticket please refund unnecessary upgrade fee',\n",
       " 'united horrible lost carseat expect us use loner carseat safety regulations say illegal use used car seat',\n",
       " 'united thank',\n",
       " 'decisions decisions mandarinjourney united love try service offer status match http co xbqqqbrgvf kp',\n",
       " 'need info united momsgoodeats great amenity kits pj included status match aa kp',\n",
       " 'united care thehipmunk link showed wrong price site site amp responsibility ensure correctness',\n",
       " 'united flights lie flat seating stl pdx around date march',\n",
       " 'united needs get home th telling th night compensation anything done',\n",
       " 'united mllovelace baggage fee waived premier members please see http co u duw mde jp point membership',\n",
       " 'united wonderful bag claim people finally bag catch earlier flight original flight landed wastedtime',\n",
       " 'united dmed thank',\n",
       " 'united thanks touch',\n",
       " 'united thanks karen salisbury iah amazing customer service found daughter bag lost ua made day',\n",
       " 'united days late flightr bag left iad united helping everyone tells different story',\n",
       " 'united renoairport hi direct flights houston reno begin see days march',\n",
       " 'united like continental chicken feat fairs',\n",
       " 'united assist current flight status flt dfw tomorrow',\n",
       " 'united left comment customer care thanks contacting',\n",
       " 'united lose gate checked bag den ord direct flight ugh',\n",
       " 'united caught earlier flight ord gate checked bag lost hare original flight lands minutes frustrating',\n",
       " 'yes thanks much united whitterbug see spoke reservations team reinstated flight thanks ey',\n",
       " 'united captain behalf front office welcome board never heard laughed hard funnycaptain',\n",
       " 'united please follow dm missing bag',\n",
       " 'united clear luggage comment referencing photo attached flight jac http co pnbajfkmhg',\n",
       " 'united great fares',\n",
       " 'united left item plane calling non stop one answering please help',\n",
       " 'united awesome book next christmas vacatinn december ways want devalue mileage plus',\n",
       " 'united good number call speak someone fix people luggage saturday',\n",
       " 'united thank u secured room night thx helpful customer service rep n dorns thanked u goodenoughmother',\n",
       " 'united damn bag',\n",
       " 'united well someone tell employees denver baggage claim still bag',\n",
       " 'united greetings ua club member idea use air canada lounge yvr flying ua tomorrow',\n",
       " 'united mexico international us',\n",
       " 'united diverted missed connecting flight told bag way msy people cared',\n",
       " 'united male agnt las threatens canadian cust cust takes pic gate agents announce help rebook friendlyskies',\n",
       " 'united apollochplayers want go home tonight cancelled flight last leg reserv w permission ph rps',\n",
       " 'united stressed rude agents overwhelmed delyd flight las den yelling several people pretty friendlyskies',\n",
       " 'united landed boston last night hours traveling rough tho',\n",
       " 'united fail cancelled flightled flight frm gjt used reserv home iah sea reflight booking problems w permission ph rps',\n",
       " 'sent thank u rt united goodenufmother please dm confirmation number reflight booking problems needed thank ey',\n",
       " 'united made fly list airlines wait connector late flight stuck iah',\n",
       " 'united deal u provide voucher overnight cozy floor ohare gross helpmeplease anyonethere',\n",
       " 'united also mere fact go online issue statement vice calling talking directly one good example',\n",
       " 'united thank flew newark vail eagle',\n",
       " 'united weekend dealing company would say otherwise',\n",
       " 'united http co hpsqvrjk flight gone got plane businesstravel goodenoughmother',\n",
       " 'united proper response sorry wait flight look issue delta would handle',\n",
       " 'united customer service terrible stood inline hours flights hours late flightr still bag disgutedindenver',\n",
       " 'united please upload march demand entertainment listing website',\n",
       " 'united inadequate accident',\n",
       " 'united reebok rockinwellness denver international airport https co tkvmhbkec',\n",
       " 'united thank responding quickly helpful tool dustyob',\n",
       " 'united boarding time shows min gate agent started showed check bag http co zcbjyo lsn',\n",
       " 'united agent las letting customers know help rebook delayed flight den unfriendlyskies http co quzvmk rtr',\n",
       " 'united empathizes w disappointment stclass flight w nonworking entertainmnt worth unfriendlyskies http co loeco gmvd',\n",
       " 'united work',\n",
       " 'united seen message today mcdonnell douglas dc model hear read goodnight',\n",
       " 'united searched mileage tickets bom find single one saver awards see play earn miles use',\n",
       " 'united flight arrives minutes early wait hour bags',\n",
       " 'united issue fact one even called despite promises confirm bag location',\n",
       " 'united girl gotta get flight name change bought one mean ex boyfriend needs girl trip stat',\n",
       " 'united thank signed notifications shall watch wait',\n",
       " 'united still waiting hear back wallet stolen one planes would appreciate resolution',\n",
       " 'united would love someone could get back austin tonight wish wait til tomorrow morning',\n",
       " 'united flysaa lost baggage heard different things different employees united flysaa said nothing',\n",
       " 'united cs thinks miles repair damage done interesting travel united exp worst flight ever',\n",
       " 'united flight dfw tuesday far advance give notice cancelled flightled',\n",
       " 'united signed notifications first trip updated sure happened',\n",
       " 'united thank took care everything made right experience used opened app find flight changed',\n",
       " 'united line responses waiting tomorrow morning flights overbooked',\n",
       " 'united took exact aircraft lax days ago fit problem agent today told nonsense policy change',\n",
       " 'united helpful agents club helped baggage fees night life stop business silverairways',\n",
       " 'united never heard http co qdebyahqfm',\n",
       " 'southwestair charge ticket change fees incur mysterious costs incur united',\n",
       " 'united exhausted amp frustrated link fb post abt travel issue https co larkc vc',\n",
       " 'united denied getting plane w getting chance prove fits rookie read bio',\n",
       " 'united exactly point fits premier access boarding group return ticket yrs',\n",
       " 'united never experienced worst customer service placing blame codeshare partners assuming responsibility unacceptable',\n",
       " 'united currently board check terrible staff rude expensive luggage thrown around etc',\n",
       " 'united fucked voided ticket kept money even apology never fly airline unitedairlines',\n",
       " 'united worst customer svcs kevin rep call center must investigated baggage lost help argument',\n",
       " 'united sell tickets silverairways http co onhxhco bk terrible service ua staff cannot reach silver',\n",
       " 'united got demoted gold cuz hubby got pqd tho enuf spent golds spousal discrimination angry',\n",
       " 'united thank',\n",
       " 'united direct flights belfast intl newark resume winter break thanks',\n",
       " 'united favorite way travel thank http co vgn x ckg',\n",
       " 'united yes awful weather appears get home',\n",
       " 'united yes lots terrible customer service newark despite raising complaint ignored hence tweet',\n",
       " 'united lovely new plane lga ord power outlets',\n",
       " 'united tweet id number reveal home address anyone web',\n",
       " 'united filed delayed bag report saturday flight cancelled flightled never went anywhere',\n",
       " 'united person currently bettween gates lax',\n",
       " 'united need lands ewr baggage claim file sent employee droppeditoffyet',\n",
       " 'united rarely ceases amaze worse hope last time fly',\n",
       " 'united thank quick response cannot dm follow well',\n",
       " 'united icloud yet please help',\n",
       " 'united need phone number baggage claim lax mom left phone someone called saying would put',\n",
       " 'united response back',\n",
       " 'united atrocious customer service',\n",
       " 'united honor absurdly low mistake fares http co z jv ilw v usatoday',\n",
       " 'united albanyairport delayed departure check bags gate claiming space filled walk open spaces delay poorcustomerservice',\n",
       " 'united cancelled flighted flights reason amp phone hour vacation',\n",
       " 'united dfpietra response shaking head back forth tsk better customer service apology',\n",
       " 'united thanks k miles rtb europe multiple destination could stop us way way back mileage diff',\n",
       " 'united course bag frustrated',\n",
       " 'united worst avoid like plague',\n",
       " 'united worst airline world',\n",
       " 'united someone needs dm resolve correctly extremely disappointed service received terrible management',\n",
       " 'united premier gold desk changes flight waives fees gives wrong flight jana acosta salt lake refuses service angry',\n",
       " 'united give one thing consistent unfortunately consistent job well alwaysdelayedonunited',\n",
       " 'united right angry',\n",
       " 'united first time flying united also last time terrible back virginatlantic branson virginatlantic unitedairlines',\n",
       " 'united used committed continentalairlines flyer merger remember switched southwestair communicationfail',\n",
       " 'united least could offer ticket coach instead cancelled flighting reservation glitch notfair',\n",
       " 'united saying made flight poor non communication unaccounted lost time amp lots frustrated flyers standing around',\n",
       " 'united think dm would better',\n",
       " 'united gate announcement states delay due maintenance yet app says late flight arriving aircraft tell truth unfriendly',\n",
       " 'united easily worst company ever experienced lost someone personal possessions amp care less',\n",
       " 'united app show arriving aircraft early departing flight delayed due late flight arriving aircraft unfriendly',\n",
       " 'united already airport hrs late flightr still guys really killing today trying stay positive',\n",
       " 'united united service levels reaches etihad lets realistically lufthansa ill consider',\n",
       " 'united really someone called sick someone forgot call replacement hour late flight take theworst',\n",
       " 'united asked flight attendant typical compensation would amp says might get free tv unacceptable',\n",
       " 'united done',\n",
       " 'united thank jh appreciate prompt responses passengers',\n",
       " 'united disappointment today simply put rather unpleased things currently flight delayed cant wait get home',\n",
       " 'united round trip non english speaking friend stranded twice hours time staff members rude',\n",
       " 'united found group people actually hates people isis thats right united airlines',\n",
       " 'united nope walked amp orf terminal amp united agent found showed last minute board us many panicked people',\n",
       " 'united thank',\n",
       " 'united time finally get dallas could driven less frustration cheaper',\n",
       " 'united trying get final destination need compensation hrs personal time wasted',\n",
       " 'united guy really customer service clue could spent effort clearing bins rollerboards instead art projects mine',\n",
       " 'united priority iove',\n",
       " 'united pleased premier platinum',\n",
       " ...]"
      ]
     },
     "execution_count": 23,
     "metadata": {},
     "output_type": "execute_result"
    }
   ],
   "source": [
    "corpus"
   ]
  },
  {
   "cell_type": "code",
   "execution_count": 24,
   "metadata": {},
   "outputs": [],
   "source": [
    "### Create bag of words model\n",
    "# Create the bag of words model\n",
    "from sklearn.feature_extraction.text import CountVectorizer\n",
    "cv = CountVectorizer(max_features= 3000)# We restrict the words to 1500 which keeps the most frequent words\n"
   ]
  },
  {
   "cell_type": "code",
   "execution_count": 25,
   "metadata": {},
   "outputs": [],
   "source": [
    "X = cv.fit_transform(corpus).toarray()# independent variables"
   ]
  },
  {
   "cell_type": "code",
   "execution_count": 26,
   "metadata": {},
   "outputs": [
    {
     "data": {
      "text/plain": [
       "array([[0, 0, 0, ..., 0, 0, 0],\n",
       "       [0, 0, 0, ..., 0, 0, 0],\n",
       "       [0, 0, 0, ..., 0, 0, 0],\n",
       "       ...,\n",
       "       [0, 0, 0, ..., 0, 0, 0],\n",
       "       [0, 0, 0, ..., 0, 0, 0],\n",
       "       [0, 0, 0, ..., 0, 0, 0]], dtype=int64)"
      ]
     },
     "execution_count": 26,
     "metadata": {},
     "output_type": "execute_result"
    }
   ],
   "source": [
    "X"
   ]
  },
  {
   "cell_type": "code",
   "execution_count": 27,
   "metadata": {},
   "outputs": [
    {
     "name": "stdout",
     "output_type": "stream",
     "text": [
      "['aa', 'aadvantage', 'abc', 'ability', 'able', 'aboard', 'abq', 'absolute', 'absolutely', 'absurd', 'abt', 'abysmal', 'ac', 'accept', 'acceptable', 'accepted', 'accepting', 'access', 'accidentally', 'accommodate', 'accommodations', 'according', 'account', 'accountability', 'accounts', 'acct', 'accurate', 'acknowledge', 'across', 'act', 'action', 'actions', 'active', 'activities', 'actual', 'actually', 'ad', 'add', 'added', 'adding', 'addition', 'additional', 'address', 'addressed', 'adds', 'admirals', 'admit', 'ads', 'advance', 'advantage', 'advertise', 'advertising', 'advice', 'advise', 'advisory', 'affected', 'afford', 'afternoon', 'age', 'agency', 'agent', 'agents', 'ages', 'ago', 'agree', 'ah', 'ahead', 'ahold', 'air', 'airbus', 'aircanada', 'aircraft', 'airfare', 'airline', 'airlines', 'airplane', 'airport', 'airports', 'airways', 'aisle', 'aka', 'albany', 'alert', 'alerts', 'ali', 'alive', 'alliance', 'allow', 'allowed', 'allowing', 'allows', 'almost', 'alone', 'along', 'already', 'alright', 'also', 'alternate', 'although', 'always', 'amazing', 'america', 'american', 'americanair', 'amex', 'among', 'amount', 'amp', 'ana', 'anamarketers', 'angry', 'anniversary', 'announce', 'announced', 'announcement', 'announcements', 'annoyed', 'annoying', 'annricord', 'annual', 'another', 'answer', 'answered', 'answering', 'answers', 'anthony', 'anticipate', 'anymore', 'anyone', 'anything', 'anytime', 'anyway', 'anywhere', 'apart', 'apologies', 'apologize', 'apology', 'app', 'appalled', 'apparently', 'appear', 'appears', 'appease', 'apple', 'application', 'applied', 'apply', 'appreciate', 'appreciated', 'approach', 'appropriate', 'approve', 'approved', 'apps', 'april', 'area', 'arizona', 'armrest', 'around', 'arrival', 'arrive', 'arrived', 'arrives', 'arriving', 'article', 'aruba', 'asap', 'ase', 'ashamed', 'ask', 'asked', 'asking', 'askpaypal', 'asleep', 'aspen', 'ass', 'assaulted', 'assign', 'assigned', 'assignment', 'assist', 'assistance', 'assume', 'assured', 'atc', 'atl', 'atlanta', 'atlantic', 'atrocious', 'attempt', 'attempting', 'attend', 'attendant', 'attendants', 'attention', 'attitude', 'au', 'aug', 'august', 'aus', 'austin', 'australia', 'auto', 'automated', 'automatically', 'av', 'avail', 'availability', 'available', 'average', 'avgeek', 'aviation', 'aviv', 'avoid', 'awaiting', 'award', 'awards', 'aware', 'away', 'awe', 'awesome', 'awful', 'awkward', 'az', 'baby', 'back', 'backup', 'bad', 'badcustomerservice', 'badges', 'badly', 'badservice', 'bae', 'bag', 'bagage', 'baggage', 'bags', 'bahamas', 'balance', 'ball', 'balls', 'baltimore', 'band', 'bank', 'bankrupt', 'bar', 'barely', 'based', 'basic', 'basically', 'bathroom', 'battles', 'bay', 'bc', 'bday', 'bdl', 'beach', 'beat', 'beats', 'beautiful', 'become', 'becoming', 'beer', 'begin', 'beginning', 'behind', 'believe', 'belize', 'belt', 'benefit', 'benefits', 'besides', 'best', 'bestairline', 'bet', 'better', 'beyond', 'bf', 'bhm', 'big', 'biggest', 'bill', 'bin', 'bins', 'bird', 'birmingham', 'birth', 'birthday', 'bit', 'biz', 'bk', 'black', 'blame', 'blamed', 'blaming', 'blasting', 'blog', 'blue', 'bluemanity', 'bna', 'board', 'boarded', 'boarding', 'boards', 'boat', 'boeing', 'bogota', 'boise', 'bonus', 'boo', 'book', 'booked', 'booking', 'books', 'booze', 'border', 'bos', 'boss', 'boston', 'bostonlogan', 'bother', 'bothered', 'bottle', 'bottles', 'bottom', 'bought', 'bougth', 'box', 'boy', 'boyfriend', 'brand', 'brandloveaffair', 'brandmance', 'break', 'breakfast', 'breaking', 'bridge', 'brilliant', 'bring', 'bringing', 'bro', 'broke', 'broken', 'brother', 'brothers', 'brought', 'browser', 'bruh', 'brutal', 'bs', 'btv', 'btw', 'bucks', 'buddies', 'budget', 'buf', 'buffalo', 'bug', 'bullshit', 'bummer', 'bump', 'bumped', 'bumping', 'bunch', 'bus', 'bush', 'business', 'busy', 'button', 'buy', 'buying', 'bwi', 'ca', 'cab', 'cabin', 'cabo', 'cake', 'calgary', 'cali', 'california', 'call', 'callback', 'called', 'calling', 'calls', 'came', 'camera', 'cana', 'canada', 'canadian', 'cancelled', 'cancun', 'canned', 'cannot', 'cant', 'capa', 'capacity', 'capital', 'capt', 'captain', 'captive', 'car', 'card', 'cards', 'care', 'cares', 'cargo', 'caring', 'carolina', 'carousel', 'carpet', 'carried', 'carrier', 'carriers', 'carrieunderwood', 'carry', 'carrying', 'carryon', 'carryons', 'carseat', 'cart', 'case', 'cash', 'catch', 'catering', 'caught', 'cause', 'caused', 'causes', 'causing', 'cb', 'cc', 'cell', 'center', 'central', 'ceo', 'certain', 'certainly', 'certificate', 'chair', 'chairman', 'chairs', 'chance', 'chances', 'change', 'changed', 'changes', 'changing', 'channels', 'chaos', 'characters', 'charge', 'charged', 'charges', 'charging', 'charity', 'charleston', 'charlotte', 'chase', 'chat', 'cheap', 'cheaper', 'cheapflights', 'check', 'checked', 'checkin', 'checking', 'checkout', 'cheers', 'cheese', 'chi', 'chicago', 'chicken', 'child', 'children', 'chill', 'cho', 'chocolate', 'choice', 'choose', 'choosing', 'chrome', 'circumstances', 'cities', 'city', 'claim', 'claimed', 'claims', 'class', 'classy', 'cle', 'clean', 'cleaned', 'clear', 'clearly', 'cleveland', 'clever', 'click', 'clicking', 'client', 'clients', 'close', 'closed', 'closer', 'closest', 'clothes', 'clt', 'club', 'clue', 'cmh', 'cmon', 'cnn', 'co', 'coach', 'coast', 'coat', 'code', 'coffee', 'coincidence', 'cold', 'collection', 'college', 'color', 'columbus', 'com', 'comcast', 'come', 'comes', 'comfort', 'comfortable', 'coming', 'comment', 'comments', 'commercial', 'commercials', 'common', 'communicate', 'communication', 'comp', 'companion', 'company', 'compassion', 'compensate', 'compensated', 'compensation', 'complain', 'complaint', 'complaints', 'complete', 'completely', 'compliment', 'complimentary', 'computer', 'computers', 'con', 'concern', 'concerned', 'concerns', 'concourse', 'conditions', 'conf', 'conference', 'confirm', 'confirmation', 'confirmed', 'conflicting', 'confused', 'confusion', 'congrats', 'congratulations', 'connect', 'connected', 'connecting', 'connection', 'connections', 'consecutive', 'consider', 'considered', 'considering', 'consistent', 'consistently', 'constant', 'constantly', 'cont', 'contact', 'contacted', 'contacting', 'content', 'contest', 'continental', 'continue', 'continued', 'continues', 'contract', 'control', 'cool', 'copy', 'corporate', 'corporation', 'correct', 'correctly', 'cost', 'costs', 'costumer', 'could', 'count', 'counter', 'counting', 'country', 'couple', 'coupon', 'coupons', 'course', 'courteous', 'courtesy', 'cousin', 'cover', 'crackers', 'cranky', 'crap', 'crappy', 'crash', 'crashed', 'crashing', 'crazy', 'created', 'credit', 'credited', 'credits', 'crew', 'crews', 'crisis', 'cross', 'crossed', 'cruise', 'cry', 'crying', 'cs', 'csr', 'ct', 'ctl', 'cuba', 'cun', 'cup', 'curious', 'current', 'currently', 'cust', 'customer', 'customers', 'customerservice', 'customerservicefail', 'customs', 'cut', 'cute', 'cutting', 'cuz', 'cvg', 'cx', 'cxl', 'dad', 'daily', 'dal', 'dallas', 'dallaslovefield', 'damage', 'damaged', 'damn', 'dancing', 'dark', 'darn', 'data', 'date', 'dates', 'daughter', 'daughters', 'david', 'day', 'days', 'daytona', 'dc', 'dca', 'de', 'dead', 'deal', 'dealing', 'deals', 'dealt', 'dear', 'death', 'debacle', 'december', 'decent', 'decide', 'decided', 'decision', 'decisions', 'deck', 'deep', 'def', 'define', 'definitely', 'degree', 'degrees', 'del', 'delay', 'delayed', 'delaying', 'delays', 'deleted', 'deliver', 'delivered', 'delivery', 'delta', 'den', 'denied', 'denver', 'depart', 'departed', 'departing', 'department', 'departs', 'departure', 'departures', 'deplane', 'deplaned', 'dept', 'deserve', 'deserved', 'deserves', 'design', 'designed', 'desk', 'desktop', 'desperately', 'despite', 'destination', 'destinationdragons', 'destinations', 'detail', 'details', 'develop', 'device', 'devices', 'dfw', 'dia', 'didnt', 'die', 'died', 'diego', 'diff', 'difference', 'different', 'difficult', 'digital', 'dinner', 'direct', 'directed', 'directly', 'directtv', 'dirty', 'disappeared', 'disappoint', 'disappointed', 'disappointing', 'disappointment', 'disaster', 'disconnect', 'disconnected', 'discount', 'discounts', 'discrimination', 'discuss', 'disgrace', 'disgusted', 'disgusting', 'disney', 'disregard', 'disrespect', 'div', 'diverted', 'dividend', 'dm', 'dmed', 'dobetter', 'doesnt', 'dog', 'dollar', 'dollars', 'domestic', 'donate', 'donation', 'done', 'dont', 'door', 'doors', 'double', 'doubt', 'downgrade', 'download', 'dozen', 'dpt', 'dr', 'dragon', 'dragons', 'dragonss', 'dream', 'drink', 'drinks', 'drive', 'driven', 'driver', 'driving', 'drop', 'dropped', 'dropping', 'drove', 'drunk', 'dry', 'dsm', 'dtw', 'due', 'duh', 'dulles', 'dumb', 'dunno', 'dying', 'earlier', 'early', 'earn', 'earned', 'earth', 'easier', 'easiest', 'easily', 'east', 'eastern', 'easy', 'eat', 'economy', 'ed', 'efficiency', 'efficient', 'effort', 'efforts', 'either', 'elderly', 'elevate', 'elite', 'ella', 'else', 'elsewhere', 'em', 'email', 'emailed', 'emails', 'embarrassing', 'embossed', 'emergency', 'employee', 'employees', 'empty', 'en', 'end', 'ended', 'engine', 'english', 'enjoy', 'enjoyed', 'enjoying', 'enough', 'enquires', 'enroute', 'ensure', 'enter', 'entered', 'entertainment', 'entire', 'epic', 'epicfail', 'equipment', 'er', 'error', 'errors', 'es', 'esp', 'especially', 'est', 'estimate', 'estimated', 'eta', 'etc', 'europe', 'evaluate', 'even', 'evening', 'event', 'eventually', 'ever', 'every', 'everyone', 'everything', 'everytime', 'ewr', 'exact', 'exactly', 'example', 'excellent', 'except', 'exception', 'exceptional', 'exchange', 'excited', 'excuse', 'excuses', 'exhausted', 'existent', 'existing', 'exit', 'exp', 'expect', 'expected', 'expecting', 'expedia', 'expedited', 'expensive', 'experience', 'experienced', 'experiences', 'expire', 'expired', 'expires', 'explain', 'explained', 'explanation', 'explorer', 'express', 'extend', 'extended', 'extension', 'extra', 'extreme', 'extremely', 'ey', 'eye', 'eyes', 'eyw', 'fa', 'faa', 'faanews', 'fabulous', 'face', 'facebook', 'faces', 'facing', 'fact', 'fail', 'failed', 'failing', 'fails', 'failure', 'failures', 'fair', 'fairs', 'faith', 'fake', 'fall', 'falling', 'fallow', 'false', 'fam', 'families', 'family', 'fan', 'fans', 'fantastic', 'far', 'fare', 'farecompare', 'fares', 'fast', 'faster', 'fastest', 'fat', 'father', 'fault', 'fav', 'fave', 'favor', 'favorite', 'fb', 'fc', 'feature', 'feb', 'february', 'fee', 'feedback', 'feel', 'feeling', 'feels', 'fees', 'feet', 'fell', 'fella', 'felt', 'fend', 'ferry', 'fewer', 'ff', 'ffl', 'fi', 'fianc', 'fiasco', 'field', 'fight', 'figure', 'figured', 'file', 'filed', 'fill', 'filled', 'final', 'finally', 'financial', 'find', 'finding', 'fine', 'finest', 'fingers', 'finish', 'fire', 'fired', 'first', 'firstclass', 'fit', 'fits', 'five', 'fix', 'fixed', 'fl', 'flat', 'fleek', 'fleet', 'flew', 'flier', 'fliers', 'flies', 'flight', 'flightation', 'flightations', 'flightaware', 'flightd', 'flighted', 'flighting', 'flightlation', 'flightlations', 'flightled', 'flightling', 'flightly', 'flightr', 'flights', 'flightst', 'fll', 'floor', 'florida', 'flown', 'flt', 'flts', 'fly', 'flydelta', 'flyer', 'flyers', 'flyfi', 'flying', 'flyingitforward', 'flyitforward', 'flylaxairport', 'flytpa', 'flyunited', 'folder', 'folks', 'follow', 'followed', 'following', 'follows', 'food', 'foot', 'forced', 'forces', 'forcing', 'forever', 'forget', 'forgetting', 'forgive', 'forgot', 'form', 'formal', 'formally', 'forms', 'fort', 'forth', 'fortunately', 'fortunemagazine', 'forward', 'found', 'four', 'fq', 'fr', 'fra', 'fran', 'francisco', 'frankfurt', 'fraud', 'freaking', 'free', 'freezing', 'freq', 'frequent', 'fresh', 'friday', 'friend', 'friendly', 'friendlyskies', 'friends', 'frm', 'front', 'frozen', 'frustrated', 'frustrating', 'frustration', 'ft', 'ftw', 'fuck', 'fucked', 'fucking', 'fuel', 'full', 'fully', 'fun', 'funds', 'funeral', 'funny', 'furious', 'future', 'fyi', 'ga', 'gain', 'galley', 'game', 'garbage', 'gary', 'gate', 'gates', 'gave', 'gear', 'geg', 'general', 'generic', 'get', 'getaway', 'getittogether', 'gets', 'gettin', 'getting', 'gf', 'gg', 'gift', 'girl', 'girlfriend', 'girls', 'give', 'given', 'gives', 'giving', 'gj', 'glad', 'glass', 'glitch', 'global', 'globe', 'gmail', 'go', 'goal', 'god', 'goes', 'going', 'gold', 'golf', 'gone', 'gonna', 'good', 'goodwill', 'google', 'gorgeous', 'got', 'gotta', 'gotten', 'gr', 'gracias', 'grand', 'grandma', 'grateful', 'great', 'greatservice', 'green', 'greenville', 'greeting', 'gross', 'ground', 'grounded', 'group', 'grr', 'gt', 'guarantee', 'guess', 'guest', 'guests', 'guide', 'guitar', 'guitars', 'guy', 'guys', 'ha', 'haha', 'hahaha', 'haiti', 'half', 'halfway', 'hand', 'handed', 'handle', 'handled', 'handler', 'handlers', 'handling', 'hands', 'hang', 'hangar', 'hanger', 'hanging', 'hangs', 'happen', 'happened', 'happening', 'happens', 'happier', 'happily', 'happiness', 'happy', 'happycustomer', 'harbor', 'hard', 'harder', 'hardly', 'hardworking', 'hare', 'hartford', 'hashtag', 'hassle', 'hate', 'hates', 'haul', 'havent', 'hawaii', 'hayden', 'hayes', 'hdn', 'head', 'headed', 'heading', 'headphones', 'heads', 'health', 'hear', 'heard', 'hearing', 'heart', 'heat', 'heathrow', 'heavily', 'heavy', 'heck', 'held', 'hell', 'hello', 'help', 'helped', 'helpful', 'helping', 'helps', 'hence', 'hero', 'hey', 'hi', 'high', 'higher', 'highlight', 'highly', 'hilarious', 'hire', 'hiring', 'history', 'hit', 'hits', 'hmmm', 'hnl', 'hold', 'holder', 'holders', 'holding', 'home', 'honest', 'honestly', 'honeymoon', 'honolulu', 'honor', 'honored', 'hook', 'hooked', 'hope', 'hopeful', 'hopefully', 'hoping', 'horrible', 'horrid', 'hostage', 'hot', 'hotel', 'hotels', 'hou', 'hour', 'hours', 'house', 'houston', 'however', 'hp', 'hpn', 'hr', 'hrs', 'http', 'https', 'hubby', 'huge', 'huh', 'human', 'humor', 'hundreds', 'hung', 'hungry', 'hunt', 'hurt', 'husband', 'hv', 'iad', 'iah', 'ice', 'icing', 'id', 'idea', 'ideas', 'idiots', 'ignore', 'ignored', 'ignoring', 'ill', 'illegal', 'im', 'imagine', 'imaginedragons', 'immediately', 'impact', 'important', 'impossible', 'impressed', 'impressive', 'improve', 'inadequate', 'inappropriate', 'inbound', 'incentive', 'inches', 'incident', 'inclement', 'include', 'included', 'including', 'incoming', 'incompetence', 'incompetent', 'inconvenience', 'inconvenient', 'increased', 'incredible', 'incredibly', 'incur', 'ind', 'indeed', 'industry', 'indy', 'inefficient', 'inexcusable', 'infant', 'inflight', 'info', 'inform', 'information', 'informed', 'ing', 'initial', 'innovation', 'ins', 'insane', 'inside', 'inspired', 'instead', 'insult', 'insulting', 'int', 'interest', 'interested', 'interesting', 'international', 'internet', 'interview', 'intl', 'ios', 'ipad', 'iphone', 'irritated', 'isnt', 'issue', 'issued', 'issues', 'item', 'items', 'itinerary', 'ive', 'ivr', 'jac', 'jack', 'jamaica', 'jan', 'january', 'jax', 'jayvig', 'jb', 'jblu', 'jeff', 'jet', 'jetbae', 'jetblue', 'jetway', 'jfk', 'jh', 'jj', 'job', 'john', 'join', 'joke', 'jose', 'journal', 'journey', 'jp', 'jt', 'juan', 'july', 'jump', 'june', 'jvmchat', 'karen', 'kc', 'keep', 'keeping', 'keeps', 'kelly', 'kept', 'kgdh', 'kicked', 'kid', 'kidding', 'kids', 'kill', 'killing', 'kind', 'kinda', 'kindle', 'king', 'kiosks', 'kn', 'knew', 'know', 'knowing', 'known', 'knows', 'kp', 'kphl', 'ktn', 'kudos', 'kylejudah', 'la', 'lack', 'ladies', 'lady', 'ladygaga', 'laguardia', 'lake', 'lame', 'land', 'landed', 'landing', 'lands', 'lap', 'laptop', 'large', 'las', 'last', 'late', 'lauderdale', 'lauren', 'law', 'lax', 'layover', 'lazy', 'lbs', 'lead', 'leading', 'learn', 'learned', 'least', 'leave', 'leaves', 'leaving', 'left', 'leg', 'legal', 'legroom', 'legs', 'less', 'lesson', 'let', 'lets', 'letsgo', 'letter', 'letting', 'level', 'lga', 'lh', 'lhr', 'license', 'lie', 'lied', 'lies', 'life', 'lifetime', 'light', 'like', 'likely', 'limit', 'limited', 'lindsey', 'line', 'lines', 'link', 'linked', 'list', 'listed', 'listen', 'listening', 'literally', 'little', 'live', 'livery', 'lives', 'living', 'lmao', 'lmfao', 'load', 'loaded', 'loading', 'loads', 'local', 'locate', 'located', 'location', 'locations', 'locked', 'log', 'logan', 'login', 'lol', 'london', 'long', 'longer', 'look', 'looked', 'looking', 'looks', 'loose', 'lose', 'loses', 'losing', 'loss', 'lost', 'lot', 'lots', 'louis', 'lounge', 'lousy', 'love', 'loved', 'lovejetblue', 'lovely', 'loves', 'loving', 'low', 'lower', 'lowered', 'loyal', 'loyalty', 'lt', 'luck', 'luckily', 'lucky', 'lufthansa', 'luggage', 'luv', 'machine', 'mad', 'made', 'madness', 'magazine', 'magic', 'maiden', 'mail', 'main', 'maintenance', 'major', 'make', 'makes', 'making', 'male', 'malfunction', 'man', 'manage', 'managed', 'management', 'manager', 'manchester', 'manner', 'many', 'map', 'march', 'mark', 'market', 'marketing', 'marks', 'married', 'massive', 'match', 'matter', 'may', 'maybe', 'mci', 'mco', 'mdw', 'meal', 'meals', 'mean', 'means', 'meant', 'mech', 'mechanical', 'mechanics', 'media', 'medical', 'meet', 'meeting', 'meetings', 'mem', 'member', 'members', 'membership', 'memphis', 'mention', 'mentioned', 'merge', 'merged', 'merger', 'merging', 'mess', 'message', 'messaged', 'messages', 'messed', 'met', 'method', 'mexico', 'mi', 'mia', 'miami', 'mid', 'middle', 'midland', 'midnight', 'midway', 'might', 'mile', 'mileage', 'mileageplus', 'miler', 'miles', 'military', 'million', 'min', 'mind', 'mine', 'minor', 'mins', 'mint', 'minute', 'minutes', 'miserable', 'miss', 'missed', 'missing', 'mission', 'mistake', 'mistakes', 'mke', 'mobile', 'model', 'mom', 'moment', 'moments', 'moms', 'mon', 'monday', 'money', 'monitor', 'month', 'months', 'morning', 'mosaic', 'mother', 'move', 'moved', 'movie', 'moving', 'mr', 'msg', 'msp', 'msy', 'mt', 'much', 'multiple', 'music', 'must', 'nah', 'name', 'named', 'names', 'nantucket', 'nasdaq', 'nashville', 'nassau', 'nasty', 'national', 'nature', 'nc', 'nd', 'near', 'nearby', 'nearly', 'need', 'needed', 'needing', 'needs', 'neither', 'nervous', 'network', 'never', 'neveragain', 'new', 'newark', 'news', 'next', 'nexus', 'nh', 'nice', 'nicely', 'night', 'nightmare', 'nights', 'nj', 'nl', 'nobody', 'nola', 'nolove', 'non', 'none', 'nonstop', 'noon', 'nope', 'norfolk', 'norm', 'normal', 'normally', 'north', 'northeast', 'notch', 'notcool', 'note', 'notes', 'nothappy', 'nothing', 'notice', 'noticed', 'notification', 'notifications', 'notified', 'notify', 'notimpressed', 'november', 'nrt', 'ntrustopen', 'number', 'numbers', 'numerous', 'nuts', 'ny', 'nyc', 'nytimes', 'oak', 'oakland', 'obviously', 'occurred', 'oct', 'october', 'odd', 'offer', 'offered', 'offering', 'offers', 'office', 'officer', 'official', 'officially', 'often', 'ogg', 'oh', 'ohare', 'ok', 'okay', 'okc', 'old', 'omaha', 'omg', 'onboard', 'one', 'ones', 'onholdwith', 'online', 'ontime', 'onto', 'oops', 'opal', 'open', 'opened', 'opening', 'opens', 'operate', 'operated', 'operating', 'operation', 'operational', 'operations', 'operators', 'opportunity', 'option', 'options', 'ord', 'order', 'orig', 'original', 'originally', 'orlando', 'orleans', 'oscars', 'others', 'otherwise', 'outbound', 'outlets', 'outside', 'outsource', 'outstanding', 'overall', 'overbooked', 'overhead', 'overnight', 'oversold', 'overweight', 'owe', 'pa', 'packages', 'packed', 'page', 'paid', 'painful', 'pair', 'palm', 'paper', 'paperwork', 'parents', 'paris', 'park', 'parked', 'parking', 'part', 'particularly', 'partner', 'partners', 'partnership', 'party', 'pass', 'passbook', 'passed', 'passenger', 'passengers', 'passes', 'passing', 'passport', 'password', 'past', 'paste', 'patches', 'pathetic', 'patience', 'patient', 'pax', 'pay', 'payed', 'paying', 'payment', 'paypal', 'pays', 'pbi', 'pdx', 'peanuts', 'peeps', 'pen', 'penalty', 'pending', 'people', 'per', 'perfect', 'perfectomobile', 'performance', 'performing', 'perhaps', 'period', 'person', 'personal', 'personally', 'personnel', 'pet', 'ph', 'philadelphia', 'philippines', 'philly', 'phl', 'phlairport', 'phoenix', 'phone', 'phones', 'photo', 'phx', 'pic', 'pick', 'picked', 'picking', 'picture', 'piece', 'pillows', 'pilot', 'pilots', 'pissed', 'pit', 'pittsburgh', 'place', 'placed', 'places', 'plain', 'plan', 'plane', 'planes', 'planet', 'planned', 'planning', 'plans', 'plastic', 'plat', 'platinum', 'play', 'playing', 'pleasant', 'please', 'pleased', 'pleasure', 'plenty', 'pls', 'plus', 'plz', 'pm', 'pocket', 'point', 'points', 'police', 'policies', 'policy', 'pooling', 'poor', 'poorly', 'poorservice', 'popular', 'portland', 'pos', 'position', 'positive', 'possible', 'possibly', 'post', 'posted', 'power', 'ppl', 'pqd', 'pr', 'practical', 'practice', 'praying', 'pre', 'preboard', 'precheck', 'pref', 'prefer', 'preferred', 'premier', 'premiere', 'premium', 'prepared', 'present', 'pressure', 'pretty', 'pretzels', 'prevent', 'previous', 'price', 'prices', 'pricey', 'pricing', 'print', 'printed', 'prior', 'priority', 'private', 'probably', 'problem', 'problems', 'problemss', 'procedure', 'process', 'professional', 'profit', 'profits', 'program', 'programs', 'progress', 'promise', 'promised', 'promises', 'promo', 'promotion', 'promotions', 'prompt', 'proof', 'proper', 'properly', 'property', 'proud', 'prove', 'provide', 'provided', 'providence', 'provider', 'providing', 'ps', 'psp', 'pts', 'public', 'puerto', 'pull', 'pulled', 'pulling', 'punta', 'purchase', 'purchased', 'purpose', 'push', 'pushed', 'pushing', 'put', 'putting', 'pvd', 'pwm', 'quality', 'question', 'questions', 'queue', 'quick', 'quickly', 'quite', 'race', 'ragandisney', 'rain', 'raise', 'raleigh', 'ramp', 'ran', 'random', 'randomly', 'ranked', 'rapid', 'rarely', 'rate', 'rates', 'rather', 'rd', 'rdu', 'reach', 'reaching', 'read', 'reading', 'ready', 'reagan', 'real', 'realize', 'realized', 'really', 'reason', 'reasonable', 'reasons', 'rebook', 'rebooked', 'receipt', 'receive', 'received', 'receiving', 'recent', 'recently', 'recommend', 'record', 'recording', 'recourse', 'red', 'redcarpet', 'redeem', 'redirected', 'ref', 'reference', 'reflight', 'refund', 'refunded', 'refunding', 'refunds', 'refuse', 'refused', 'regarding', 'regret', 'regular', 'regulation', 'reimburse', 'reimbursed', 'reimbursement', 'relate', 'relations', 'relationship', 'relative', 'released', 'reliable', 'remember', 'remind', 'reminded', 'reminder', 'remote', 'remove', 'rent', 'rental', 'rep', 'repair', 'replacement', 'replacing', 'reply', 'replying', 'report', 'representative', 'reps', 'republican', 'request', 'requested', 'requesting', 'required', 'requires', 'reroute', 'rerouted', 'res', 'reschedule', 'rescheduled', 'rescheduling', 'reservation', 'reservations', 'reserve', 'reserved', 'reset', 'resolution', 'resolve', 'resolved', 'respect', 'respond', 'responded', 'responding', 'responds', 'response', 'responses', 'responsibility', 'responsible', 'responsive', 'rest', 'restore', 'result', 'results', 'resume', 'retrieve', 'return', 'returned', 'returning', 'revenue', 'review', 'reward', 'rewards', 'rfxlv', 'ric', 'richard', 'rico', 'ride', 'ridiculous', 'right', 'rights', 'ring', 'ripoff', 'ripped', 'risk', 'road', 'roads', 'robin', 'roc', 'rock', 'rocks', 'room', 'rooms', 'rough', 'round', 'roundtrip', 'route', 'routes', 'routing', 'row', 'rows', 'rr', 'rsw', 'rt', 'rude', 'rudest', 'ruined', 'ruining', 'rule', 'rules', 'run', 'running', 'runway', 'sacramento', 'sad', 'sadly', 'safari', 'safe', 'safely', 'safety', 'said', 'sale', 'sales', 'salt', 'san', 'santa', 'sarcasm', 'sat', 'saturday', 'savannah', 'save', 'saved', 'saving', 'saw', 'say', 'saying', 'says', 'sb', 'sc', 'scale', 'scam', 'scan', 'scared', 'scavenger', 'sched', 'schedule', 'scheduled', 'scheduling', 'school', 'scott', 'screen', 'screens', 'screw', 'screwed', 'screwing', 'sea', 'search', 'searching', 'seat', 'seated', 'seating', 'seats', 'seattle', 'sec', 'second', 'seconds', 'section', 'secure', 'security', 'see', 'seeing', 'seeks', 'seem', 'seemed', 'seems', 'seen', 'segment', 'segments', 'select', 'selected', 'self', 'selfie', 'sell', 'send', 'sending', 'sense', 'sent', 'sep', 'separate', 'sept', 'september', 'serious', 'seriously', 'serv', 'serve', 'service', 'services', 'serving', 'set', 'several', 'sf', 'sfo', 'shall', 'shame', 'shameful', 'shannon', 'share', 'sharing', 'ship', 'shit', 'shitty', 'shocked', 'shoes', 'shopping', 'short', 'shortly', 'shot', 'shout', 'shoutout', 'show', 'showed', 'showing', 'shown', 'shows', 'shut', 'shuttle', 'sick', 'side', 'sigh', 'sight', 'sign', 'signed', 'significant', 'signs', 'silly', 'silver', 'silverairways', 'similar', 'simple', 'simply', 'since', 'sincere', 'sincerely', 'single', 'sister', 'sit', 'site', 'sitting', 'situation', 'six', 'size', 'sjc', 'sju', 'ski', 'skies', 'skis', 'sky', 'slc', 'sleep', 'sleeping', 'slept', 'slow', 'small', 'smallest', 'smh', 'smile', 'smiling', 'smisek', 'smooth', 'smoothly', 'sna', 'snack', 'snacks', 'snow', 'snowboard', 'snowing', 'snowstorm', 'snowy', 'soaked', 'sobewff', 'social', 'soft', 'software', 'sold', 'solution', 'solve', 'solved', 'somebody', 'somehow', 'someone', 'something', 'sometime', 'somewhere', 'son', 'song', 'soon', 'sooner', 'sop', 'sorry', 'sort', 'sorted', 'sos', 'sound', 'sounds', 'south', 'southwest', 'southwestair', 'southwestairlines', 'space', 'spam', 'spanish', 'spare', 'speak', 'speaking', 'special', 'specific', 'specifically', 'speed', 'speedy', 'spend', 'spending', 'spent', 'spiritairlines', 'split', 'spoke', 'spoken', 'spot', 'spread', 'spring', 'springs', 'srq', 'srsly', 'st', 'staff', 'staffed', 'stall', 'stand', 'standard', 'standby', 'standing', 'star', 'staralliance', 'start', 'started', 'starting', 'starts', 'stat', 'state', 'stated', 'statement', 'states', 'status', 'stay', 'steamboat', 'stellar', 'step', 'steps', 'stewardess', 'stick', 'still', 'stinks', 'stl', 'stock', 'stole', 'stolen', 'stood', 'stop', 'stopped', 'storm', 'story', 'straight', 'strand', 'stranded', 'stranding', 'strange', 'strategy', 'streaming', 'street', 'stress', 'stressed', 'stressful', 'strike', 'strikes', 'stroller', 'strong', 'stt', 'stuck', 'student', 'stuff', 'stupid', 'submit', 'submitted', 'subpar', 'success', 'suck', 'sucks', 'suggest', 'suggested', 'suggestion', 'suggestions', 'suicide', 'suit', 'suitcase', 'summer', 'sun', 'sunday', 'sunny', 'sunshine', 'super', 'superior', 'supervisor', 'support', 'suppose', 'supposed', 'supposedly', 'sure', 'surgery', 'surprise', 'surprised', 'survey', 'suspect', 'svc', 'sw', 'swa', 'swadiversity', 'sweet', 'sweetingr', 'switch', 'switched', 'switching', 'sxm', 'sydney', 'sympathetic', 'system', 'systems', 'table', 'tablet', 'tag', 'tail', 'take', 'taken', 'takeoff', 'takes', 'taking', 'talk', 'talked', 'talking', 'tampa', 'tarmac', 'taxi', 'tea', 'teach', 'team', 'tech', 'technical', 'technically', 'teens', 'tel', 'tell', 'telling', 'tells', 'temp', 'temperature', 'ten', 'term', 'terminal', 'terrible', 'terribly', 'terrific', 'terry', 'texas', 'text', 'texted', 'texts', 'th', 'thank', 'thankful', 'thankfully', 'thanks', 'thankyou', 'thats', 'theres', 'thin', 'thing', 'things', 'think', 'thinking', 'thinks', 'third', 'thirty', 'thnx', 'tho', 'thomas', 'though', 'thought', 'thoughts', 'thousands', 'threatened', 'three', 'throughout', 'throwing', 'thru', 'thursday', 'thx', 'ticket', 'ticketed', 'ticketing', 'tickets', 'tight', 'til', 'till', 'time', 'timed', 'timely', 'times', 'tiny', 'tired', 'tix', 'tkt', 'tmrw', 'tn', 'today', 'toddler', 'together', 'toilets', 'told', 'tomorrow', 'ton', 'tone', 'tonight', 'took', 'top', 'total', 'totally', 'touch', 'touched', 'tough', 'toward', 'towards', 'tpa', 'track', 'tracking', 'traffic', 'train', 'training', 'transaction', 'transfer', 'transferred', 'transport', 'transportation', 'travel', 'traveled', 'traveler', 'travelers', 'traveling', 'travelling', 'travels', 'tray', 'treat', 'treated', 'treating', 'treatment', 'tremendous', 'tried', 'triflight', 'trip', 'trips', 'trouble', 'troubles', 'truck', 'true', 'trueblue', 'truly', 'trust', 'truth', 'try', 'trying', 'tsa', 'tucson', 'tues', 'tuesday', 'turbulence', 'turn', 'turned', 'turning', 'turns', 'tv', 'tvs', 'tweet', 'tweeted', 'tweeting', 'tweets', 'twice', 'twitter', 'two', 'tx', 'txt', 'ty', 'type', 'typical', 'ua', 'ual', 'ugh', 'uh', 'uk', 'unable', 'unacceptable', 'unavailable', 'unbelievable', 'uncomfortable', 'understaffed', 'understand', 'understandable', 'understanding', 'understatement', 'understood', 'unexpected', 'unfortunate', 'unfortunately', 'unfriendly', 'unfriendlyskies', 'unhappy', 'unhelpful', 'uniform', 'united', 'unitedairlines', 'unitedfail', 'unitedsucks', 'unknown', 'unless', 'unlike', 'unnecessary', 'unprofessional', 'unreal', 'unreliable', 'unused', 'upcoming', 'update', 'updated', 'updates', 'updating', 'upgrade', 'upgraded', 'upgrades', 'upon', 'upset', 'ur', 'us', 'usa', 'usair', 'usairsucks', 'usairways', 'usairwaysfail', 'usairwayssucks', 'use', 'used', 'useful', 'useless', 'user', 'username', 'using', 'usual', 'usually', 'utah', 'va', 'vacation', 'valid', 'valuable', 'value', 'van', 'various', 'vegan', 'vegas', 'velourlive', 'via', 'video', 'vieques', 'view', 'virgin', 'virginamerica', 'virginatlantic', 'visa', 'visit', 'voice', 'volume', 'volunteer', 'voucher', 'vouchers', 'vs', 'vw', 'vx', 'wait', 'waited', 'waiting', 'waits', 'waive', 'waiver', 'walk', 'walked', 'wall', 'wallet', 'wanna', 'want', 'wanted', 'wanting', 'wants', 'warm', 'warmth', 'warning', 'washington', 'wasnt', 'waste', 'wasted', 'wasting', 'watch', 'watched', 'watching', 'water', 'waterbury', 'way', 'ways', 'weak', 'wearing', 'weather', 'web', 'website', 'wed', 'wedding', 'wednesday', 'week', 'weekend', 'weeks', 'weight', 'weird', 'welcome', 'well', 'went', 'west', 'wet', 'whatever', 'whats', 'wheelchair', 'wheels', 'whenever', 'whether', 'white', 'whoever', 'whole', 'whose', 'wi', 'wide', 'wife', 'wifi', 'willing', 'win', 'wind', 'window', 'wine', 'winners', 'winning', 'winter', 'wish', 'within', 'without', 'wknd', 'wn', 'woman', 'women', 'wonder', 'wonderful', 'wondering', 'wont', 'word', 'words', 'work', 'worked', 'workers', 'working', 'works', 'world', 'worried', 'worries', 'worry', 'worse', 'worst', 'worstairline', 'worstairlineever', 'worstcustomerservice', 'worth', 'worthless', 'would', 'wow', 'write', 'writing', 'wrong', 'wrote', 'wsj', 'wtf', 'wth', 'xelbon', 'ya', 'yall', 'yay', 'yea', 'yeah', 'year', 'years', 'yelled', 'yep', 'yes', 'yesterday', 'yet', 'yo', 'york', 'young', 'youre', 'yr', 'yrs', 'yuma', 'yup', 'yvr', 'yyz', 'zero', 'zone', 'zz']\n"
     ]
    },
    {
     "name": "stderr",
     "output_type": "stream",
     "text": [
      "C:\\Users\\devpa\\anaconda3\\envs\\DAB200\\lib\\site-packages\\sklearn\\utils\\deprecation.py:87: FutureWarning: Function get_feature_names is deprecated; get_feature_names is deprecated in 1.0 and will be removed in 1.2. Please use get_feature_names_out instead.\n",
      "  warnings.warn(msg, category=FutureWarning)\n"
     ]
    }
   ],
   "source": [
    "print(cv.get_feature_names())"
   ]
  },
  {
   "cell_type": "code",
   "execution_count": 28,
   "metadata": {},
   "outputs": [
    {
     "data": {
      "text/plain": [
       "(11541, 3000)"
      ]
     },
     "execution_count": 28,
     "metadata": {},
     "output_type": "execute_result"
    }
   ],
   "source": [
    "X.shape"
   ]
  },
  {
   "cell_type": "code",
   "execution_count": 30,
   "metadata": {},
   "outputs": [],
   "source": [
    "from sklearn.preprocessing import LabelEncoder\n",
    "Enco= LabelEncoder()\n",
    "df2[\"airline_sentiment\"] = Enco.fit_transform(df2['airline_sentiment'])"
   ]
  },
  {
   "cell_type": "code",
   "execution_count": 31,
   "metadata": {},
   "outputs": [
    {
     "data": {
      "text/html": [
       "<div>\n",
       "<style scoped>\n",
       "    .dataframe tbody tr th:only-of-type {\n",
       "        vertical-align: middle;\n",
       "    }\n",
       "\n",
       "    .dataframe tbody tr th {\n",
       "        vertical-align: top;\n",
       "    }\n",
       "\n",
       "    .dataframe thead th {\n",
       "        text-align: right;\n",
       "    }\n",
       "</style>\n",
       "<table border=\"1\" class=\"dataframe\">\n",
       "  <thead>\n",
       "    <tr style=\"text-align: right;\">\n",
       "      <th></th>\n",
       "      <th>text</th>\n",
       "      <th>airline_sentiment</th>\n",
       "    </tr>\n",
       "  </thead>\n",
       "  <tbody>\n",
       "    <tr>\n",
       "      <th>1</th>\n",
       "      <td>@VirginAmerica plus you've added commercials t...</td>\n",
       "      <td>1</td>\n",
       "    </tr>\n",
       "    <tr>\n",
       "      <th>3</th>\n",
       "      <td>@VirginAmerica it's really aggressive to blast...</td>\n",
       "      <td>0</td>\n",
       "    </tr>\n",
       "    <tr>\n",
       "      <th>4</th>\n",
       "      <td>@VirginAmerica and it's a really big bad thing...</td>\n",
       "      <td>0</td>\n",
       "    </tr>\n",
       "    <tr>\n",
       "      <th>5</th>\n",
       "      <td>@VirginAmerica seriously would pay $30 a fligh...</td>\n",
       "      <td>0</td>\n",
       "    </tr>\n",
       "    <tr>\n",
       "      <th>6</th>\n",
       "      <td>@VirginAmerica yes, nearly every time I fly VX...</td>\n",
       "      <td>1</td>\n",
       "    </tr>\n",
       "    <tr>\n",
       "      <th>...</th>\n",
       "      <td>...</td>\n",
       "      <td>...</td>\n",
       "    </tr>\n",
       "    <tr>\n",
       "      <th>14633</th>\n",
       "      <td>@AmericanAir my flight was Cancelled Flightled...</td>\n",
       "      <td>0</td>\n",
       "    </tr>\n",
       "    <tr>\n",
       "      <th>14634</th>\n",
       "      <td>@AmericanAir right on cue with the delays👌</td>\n",
       "      <td>0</td>\n",
       "    </tr>\n",
       "    <tr>\n",
       "      <th>14635</th>\n",
       "      <td>@AmericanAir thank you we got on a different f...</td>\n",
       "      <td>1</td>\n",
       "    </tr>\n",
       "    <tr>\n",
       "      <th>14636</th>\n",
       "      <td>@AmericanAir leaving over 20 minutes Late Flig...</td>\n",
       "      <td>0</td>\n",
       "    </tr>\n",
       "    <tr>\n",
       "      <th>14638</th>\n",
       "      <td>@AmericanAir you have my money, you change my ...</td>\n",
       "      <td>0</td>\n",
       "    </tr>\n",
       "  </tbody>\n",
       "</table>\n",
       "<p>11541 rows × 2 columns</p>\n",
       "</div>"
      ],
      "text/plain": [
       "                                                    text  airline_sentiment\n",
       "1      @VirginAmerica plus you've added commercials t...                  1\n",
       "3      @VirginAmerica it's really aggressive to blast...                  0\n",
       "4      @VirginAmerica and it's a really big bad thing...                  0\n",
       "5      @VirginAmerica seriously would pay $30 a fligh...                  0\n",
       "6      @VirginAmerica yes, nearly every time I fly VX...                  1\n",
       "...                                                  ...                ...\n",
       "14633  @AmericanAir my flight was Cancelled Flightled...                  0\n",
       "14634         @AmericanAir right on cue with the delays👌                  0\n",
       "14635  @AmericanAir thank you we got on a different f...                  1\n",
       "14636  @AmericanAir leaving over 20 minutes Late Flig...                  0\n",
       "14638  @AmericanAir you have my money, you change my ...                  0\n",
       "\n",
       "[11541 rows x 2 columns]"
      ]
     },
     "execution_count": 31,
     "metadata": {},
     "output_type": "execute_result"
    }
   ],
   "source": [
    "df2"
   ]
  },
  {
   "cell_type": "code",
   "execution_count": 32,
   "metadata": {},
   "outputs": [],
   "source": [
    "y = df2.iloc[:, 1].values"
   ]
  },
  {
   "cell_type": "code",
   "execution_count": 33,
   "metadata": {},
   "outputs": [
    {
     "data": {
      "text/plain": [
       "array([1, 0, 0, ..., 1, 0, 0])"
      ]
     },
     "execution_count": 33,
     "metadata": {},
     "output_type": "execute_result"
    }
   ],
   "source": [
    "y"
   ]
  },
  {
   "cell_type": "markdown",
   "metadata": {},
   "source": [
    "### Apply Various Machine Learning Classification Models (all 5)"
   ]
  },
  {
   "cell_type": "markdown",
   "metadata": {},
   "source": [
    "### Modeling\n",
    "### Naive Bayes Model"
   ]
  },
  {
   "cell_type": "code",
   "execution_count": 40,
   "metadata": {},
   "outputs": [],
   "source": [
    "# Splitting the dataset into the Training set and Test set\n",
    "from sklearn.model_selection import train_test_split\n",
    "X_train, X_test, y_train, y_test = train_test_split(X, y, test_size=0.25, random_state=0,stratify=y)"
   ]
  },
  {
   "cell_type": "code",
   "execution_count": 41,
   "metadata": {},
   "outputs": [],
   "source": [
    "# Fitting classifier to the Training set\n",
    "from sklearn.naive_bayes import MultinomialNB\n",
    "classifier = MultinomialNB().fit(X_train, y_train)"
   ]
  },
  {
   "cell_type": "code",
   "execution_count": 42,
   "metadata": {},
   "outputs": [],
   "source": [
    "# Predicting the Test set results \n",
    "y_pred = classifier.predict(X_test)\n"
   ]
  },
  {
   "cell_type": "code",
   "execution_count": 43,
   "metadata": {},
   "outputs": [
    {
     "name": "stdout",
     "output_type": "stream",
     "text": [
      "[[2094  201]\n",
      " [ 512   79]]\n"
     ]
    }
   ],
   "source": [
    "# Make the Confusion Matrix\n",
    "from sklearn.metrics import confusion_matrix\n",
    "confusion_m = confusion_matrix(y_test, y_pred)\n",
    "print(confusion_m)"
   ]
  },
  {
   "cell_type": "code",
   "execution_count": 44,
   "metadata": {},
   "outputs": [
    {
     "name": "stdout",
     "output_type": "stream",
     "text": [
      "0.7529452529452529\n"
     ]
    }
   ],
   "source": [
    "# Evaluate the results\n",
    "from sklearn.metrics import accuracy_score\n",
    "accuracy = accuracy_score(y_test, y_pred)\n",
    "print(accuracy)"
   ]
  },
  {
   "cell_type": "code",
   "execution_count": 45,
   "metadata": {},
   "outputs": [],
   "source": [
    "from sklearn.metrics import precision_score\n",
    "from sklearn.metrics import recall_score\n",
    "#from sklearn.metrics import metrics\n",
    "\n",
    "from sklearn.metrics import f1_score\n",
    "\n",
    "prec_score = precision_score(y_test,y_pred)\n",
    "recall_score= recall_score(y_test,y_pred)\n",
    "f1 = f1_score(y_test,y_pred)"
   ]
  },
  {
   "cell_type": "code",
   "execution_count": 46,
   "metadata": {},
   "outputs": [
    {
     "name": "stdout",
     "output_type": "stream",
     "text": [
      "Precision Score 0.28214285714285714\n",
      "Recall Score 0.13367174280879865\n",
      "F1 Score 0.1814006888633754\n"
     ]
    }
   ],
   "source": [
    "print('Precision Score', prec_score)\n",
    "print('Recall Score', recall_score)\n",
    "print('F1 Score', f1)"
   ]
  },
  {
   "cell_type": "markdown",
   "metadata": {},
   "source": [
    "### KNN Model"
   ]
  },
  {
   "cell_type": "code",
   "execution_count": 48,
   "metadata": {},
   "outputs": [],
   "source": [
    "# Splitting the dataset into the Training set and Test set\n",
    "import sklearn.metrics as metrics\n",
    "from sklearn.model_selection import train_test_split\n",
    "x_train, x_test, y_train, y_test = train_test_split(X, y, test_size=0.25, random_state=0)"
   ]
  },
  {
   "cell_type": "code",
   "execution_count": 49,
   "metadata": {},
   "outputs": [],
   "source": [
    "from sklearn.neighbors import KNeighborsClassifier"
   ]
  },
  {
   "cell_type": "code",
   "execution_count": 51,
   "metadata": {},
   "outputs": [],
   "source": [
    "knn = KNeighborsClassifier(n_neighbors=3).fit(x_train, y_train)"
   ]
  },
  {
   "cell_type": "code",
   "execution_count": 52,
   "metadata": {},
   "outputs": [],
   "source": [
    "y_pred = knn.predict(x_test)"
   ]
  },
  {
   "cell_type": "code",
   "execution_count": 53,
   "metadata": {},
   "outputs": [
    {
     "name": "stdout",
     "output_type": "stream",
     "text": [
      "[[1768  507]\n",
      " [ 445  166]]\n"
     ]
    }
   ],
   "source": [
    "# Make the Confusion Matrix\n",
    "confusion_m = confusion_matrix(y_test, y_pred)\n",
    "print(confusion_m)"
   ]
  },
  {
   "cell_type": "code",
   "execution_count": 54,
   "metadata": {},
   "outputs": [
    {
     "name": "stdout",
     "output_type": "stream",
     "text": [
      "0.6701316701316701\n"
     ]
    }
   ],
   "source": [
    "# Evaluate the results\n",
    "accuracy = accuracy_score(y_test, y_pred)\n",
    "print(accuracy)"
   ]
  },
  {
   "cell_type": "code",
   "execution_count": 55,
   "metadata": {},
   "outputs": [],
   "source": [
    "prec_score = precision_score(y_test,y_pred)\n",
    "rec= metrics.recall_score(y_test,y_pred)\n",
    "f1 = f1_score(y_test,y_pred)\n",
    "\n"
   ]
  },
  {
   "cell_type": "code",
   "execution_count": 56,
   "metadata": {},
   "outputs": [
    {
     "name": "stdout",
     "output_type": "stream",
     "text": [
      "Precision Score 0.24665676077265974\n",
      "Recall Score 0.13367174280879865\n",
      "F1 Score 0.2585669781931464\n"
     ]
    }
   ],
   "source": [
    "print('Precision Score', prec_score)\n",
    "print('Recall Score', recall_score)\n",
    "print('F1 Score', f1)"
   ]
  },
  {
   "cell_type": "markdown",
   "metadata": {},
   "source": [
    "### Decision Tree Classification Model"
   ]
  },
  {
   "cell_type": "code",
   "execution_count": 66,
   "metadata": {},
   "outputs": [],
   "source": [
    "# Splitting the dataset into the Training set and Test set\n",
    "from sklearn.model_selection import train_test_split\n",
    "x_train, x_test, y_train, y_test = train_test_split(X, y, test_size=0.25, random_state=0)"
   ]
  },
  {
   "cell_type": "code",
   "execution_count": 67,
   "metadata": {},
   "outputs": [],
   "source": [
    " from sklearn.tree import DecisionTreeClassifier"
   ]
  },
  {
   "cell_type": "code",
   "execution_count": 68,
   "metadata": {},
   "outputs": [],
   "source": [
    "decision_tree = DecisionTreeClassifier(random_state=0).fit(x_train, y_train)"
   ]
  },
  {
   "cell_type": "code",
   "execution_count": 69,
   "metadata": {},
   "outputs": [],
   "source": [
    "# Predicting the Test set results \n",
    "y_pred = decision_tree.predict(x_test)"
   ]
  },
  {
   "cell_type": "code",
   "execution_count": 70,
   "metadata": {},
   "outputs": [
    {
     "name": "stdout",
     "output_type": "stream",
     "text": [
      "[[1845  430]\n",
      " [ 461  150]]\n"
     ]
    }
   ],
   "source": [
    "confusion_m = confusion_matrix(y_test, y_pred)\n",
    "print(confusion_m)"
   ]
  },
  {
   "cell_type": "code",
   "execution_count": 71,
   "metadata": {},
   "outputs": [
    {
     "name": "stdout",
     "output_type": "stream",
     "text": [
      "0.6912681912681913\n"
     ]
    }
   ],
   "source": [
    "# Evaluate the results\n",
    "accuracy = accuracy_score(y_test, y_pred)\n",
    "print(accuracy)"
   ]
  },
  {
   "cell_type": "code",
   "execution_count": 72,
   "metadata": {},
   "outputs": [],
   "source": [
    "prec_score = precision_score(y_test,y_pred)\n",
    "rec= metrics.recall_score(y_test,y_pred)\n",
    "f1 = f1_score(y_test,y_pred)"
   ]
  },
  {
   "cell_type": "code",
   "execution_count": 73,
   "metadata": {},
   "outputs": [
    {
     "name": "stdout",
     "output_type": "stream",
     "text": [
      "Precision Score 0.25862068965517243\n",
      "Recall Score 0.13367174280879865\n",
      "F1 Score 0.2518891687657431\n"
     ]
    }
   ],
   "source": [
    "print('Precision Score', prec_score)\n",
    "print('Recall Score', recall_score)\n",
    "print('F1 Score', f1)"
   ]
  },
  {
   "cell_type": "markdown",
   "metadata": {},
   "source": [
    "### Random Forest Model"
   ]
  },
  {
   "cell_type": "code",
   "execution_count": 74,
   "metadata": {},
   "outputs": [],
   "source": [
    "# Splitting the dataset into the Training set and Test set\n",
    "from sklearn.model_selection import train_test_split\n",
    "x_train, x_test, y_train, y_test = train_test_split(X, y, test_size=0.25, random_state=0)"
   ]
  },
  {
   "cell_type": "code",
   "execution_count": 75,
   "metadata": {},
   "outputs": [],
   "source": [
    "from sklearn.ensemble import RandomForestClassifier\n",
    "\n",
    "rf = RandomForestClassifier().fit(X_train, y_train)"
   ]
  },
  {
   "cell_type": "code",
   "execution_count": 76,
   "metadata": {},
   "outputs": [],
   "source": [
    "# Predicting the Test set results \n",
    "y_pred = rf.predict(x_test)"
   ]
  },
  {
   "cell_type": "code",
   "execution_count": 77,
   "metadata": {},
   "outputs": [
    {
     "name": "stdout",
     "output_type": "stream",
     "text": [
      "[[1899  376]\n",
      " [ 531   80]]\n"
     ]
    }
   ],
   "source": [
    "confusion_m = confusion_matrix(y_test, y_pred)\n",
    "print(confusion_m)"
   ]
  },
  {
   "cell_type": "code",
   "execution_count": 78,
   "metadata": {},
   "outputs": [
    {
     "name": "stdout",
     "output_type": "stream",
     "text": [
      "0.6857241857241857\n"
     ]
    }
   ],
   "source": [
    "# Evaluate the results\n",
    "accuracy = accuracy_score(y_test, y_pred)\n",
    "print(accuracy)"
   ]
  },
  {
   "cell_type": "code",
   "execution_count": 79,
   "metadata": {},
   "outputs": [],
   "source": [
    "prec_score = precision_score(y_test,y_pred)\n",
    "rec= metrics.recall_score(y_test,y_pred)\n",
    "f1 = f1_score(y_test,y_pred)"
   ]
  },
  {
   "cell_type": "code",
   "execution_count": 80,
   "metadata": {},
   "outputs": [
    {
     "name": "stdout",
     "output_type": "stream",
     "text": [
      "Precision Score 0.17543859649122806\n",
      "Recall Score 0.13367174280879865\n",
      "F1 Score 0.14995313964386128\n"
     ]
    }
   ],
   "source": [
    "print('Precision Score', prec_score)\n",
    "print('Recall Score', recall_score)\n",
    "print('F1 Score', f1)"
   ]
  },
  {
   "cell_type": "markdown",
   "metadata": {},
   "source": [
    "### SVM"
   ]
  },
  {
   "cell_type": "code",
   "execution_count": 84,
   "metadata": {},
   "outputs": [],
   "source": [
    "from sklearn.svm import SVC\n",
    "x_train, x_test, y_train, y_test = train_test_split(X, y, test_size=0.25, random_state=0)"
   ]
  },
  {
   "cell_type": "code",
   "execution_count": 85,
   "metadata": {},
   "outputs": [],
   "source": [
    "clf = SVC(kernel='linear').fit(x_train, y_train)"
   ]
  },
  {
   "cell_type": "code",
   "execution_count": 86,
   "metadata": {},
   "outputs": [],
   "source": [
    "# Predicting the Test set results \n",
    "y_pred = clf.predict(x_test)"
   ]
  },
  {
   "cell_type": "code",
   "execution_count": 87,
   "metadata": {},
   "outputs": [
    {
     "name": "stdout",
     "output_type": "stream",
     "text": [
      "[[2100  175]\n",
      " [ 543   68]]\n"
     ]
    }
   ],
   "source": [
    "confusion_m = confusion_matrix(y_test, y_pred)\n",
    "print(confusion_m)"
   ]
  },
  {
   "cell_type": "code",
   "execution_count": 88,
   "metadata": {},
   "outputs": [
    {
     "name": "stdout",
     "output_type": "stream",
     "text": [
      "0.7512127512127512\n"
     ]
    }
   ],
   "source": [
    "# Evaluate the results\n",
    "accuracy = accuracy_score(y_test, y_pred)\n",
    "print(accuracy)"
   ]
  },
  {
   "cell_type": "code",
   "execution_count": 89,
   "metadata": {},
   "outputs": [],
   "source": [
    "prec_score = precision_score(y_test,y_pred)\n",
    "rec= metrics.recall_score(y_test,y_pred)\n",
    "f1 = f1_score(y_test,y_pred)"
   ]
  },
  {
   "cell_type": "code",
   "execution_count": 90,
   "metadata": {},
   "outputs": [
    {
     "name": "stdout",
     "output_type": "stream",
     "text": [
      "Precision Score 0.27983539094650206\n",
      "Recall Score 0.13367174280879865\n",
      "F1 Score 0.15925058548009366\n"
     ]
    }
   ],
   "source": [
    "print('Precision Score', prec_score)\n",
    "print('Recall Score', recall_score)\n",
    "print('F1 Score', f1)"
   ]
  },
  {
   "cell_type": "markdown",
   "metadata": {},
   "source": [
    "### Feature Extraction"
   ]
  },
  {
   "cell_type": "markdown",
   "metadata": {},
   "source": [
    "### TF IDF"
   ]
  },
  {
   "cell_type": "code",
   "execution_count": 91,
   "metadata": {},
   "outputs": [],
   "source": [
    "from sklearn.feature_extraction.text import TfidfVectorizer\n",
    "\n",
    "vectorizer = TfidfVectorizer (max_features=3000, min_df=7, max_df=0.8, stop_words=stopwords.words('english'))"
   ]
  },
  {
   "cell_type": "code",
   "execution_count": 92,
   "metadata": {},
   "outputs": [],
   "source": [
    "corpus = vectorizer.fit_transform(corpus).toarray()"
   ]
  },
  {
   "cell_type": "code",
   "execution_count": 93,
   "metadata": {},
   "outputs": [],
   "source": [
    "X1 =corpus"
   ]
  },
  {
   "cell_type": "code",
   "execution_count": 94,
   "metadata": {},
   "outputs": [
    {
     "data": {
      "text/plain": [
       "(11541, 1919)"
      ]
     },
     "execution_count": 94,
     "metadata": {},
     "output_type": "execute_result"
    }
   ],
   "source": [
    "X1.shape"
   ]
  },
  {
   "cell_type": "code",
   "execution_count": 95,
   "metadata": {},
   "outputs": [],
   "source": [
    "y1 = df2.iloc[:, 1].values"
   ]
  },
  {
   "cell_type": "markdown",
   "metadata": {},
   "source": [
    "### Modeling\n",
    "### Naive Bayes Model"
   ]
  },
  {
   "cell_type": "code",
   "execution_count": 96,
   "metadata": {},
   "outputs": [],
   "source": [
    "# Splitting the dataset into the Training set and Test set\n",
    "from sklearn.model_selection import train_test_split\n",
    "X_train, X_test, y_train, y_test = train_test_split(X1, y1, test_size=0.20, random_state=0)"
   ]
  },
  {
   "cell_type": "code",
   "execution_count": 97,
   "metadata": {},
   "outputs": [],
   "source": [
    "# Fitting classifier to the Training set\n",
    "from sklearn.naive_bayes import MultinomialNB\n",
    "classifier = MultinomialNB().fit(X_train, y_train)"
   ]
  },
  {
   "cell_type": "code",
   "execution_count": 98,
   "metadata": {},
   "outputs": [],
   "source": [
    "# Predicting the Test set results \n",
    "y_pred = classifier.predict(X_test)"
   ]
  },
  {
   "cell_type": "code",
   "execution_count": 99,
   "metadata": {},
   "outputs": [
    {
     "name": "stdout",
     "output_type": "stream",
     "text": [
      "[[1839    0]\n",
      " [ 467    3]]\n"
     ]
    }
   ],
   "source": [
    "confusion_m = confusion_matrix(y_test, y_pred)\n",
    "print(confusion_m)"
   ]
  },
  {
   "cell_type": "code",
   "execution_count": 100,
   "metadata": {},
   "outputs": [
    {
     "name": "stdout",
     "output_type": "stream",
     "text": [
      "0.797747942832395\n"
     ]
    }
   ],
   "source": [
    "accuracy = accuracy_score(y_test, y_pred)\n",
    "print(accuracy)"
   ]
  },
  {
   "cell_type": "code",
   "execution_count": 101,
   "metadata": {},
   "outputs": [],
   "source": [
    "prec_score = precision_score(y_test,y_pred)\n",
    "rec= metrics.recall_score(y_test,y_pred)\n",
    "f1 = f1_score(y_test,y_pred)"
   ]
  },
  {
   "cell_type": "code",
   "execution_count": 102,
   "metadata": {},
   "outputs": [
    {
     "name": "stdout",
     "output_type": "stream",
     "text": [
      "Precision Score 1.0\n",
      "Recall Score 0.13367174280879865\n",
      "F1 Score 0.012684989429175475\n"
     ]
    }
   ],
   "source": [
    "print('Precision Score', prec_score)\n",
    "print('Recall Score', recall_score)\n",
    "print('F1 Score', f1)"
   ]
  },
  {
   "cell_type": "markdown",
   "metadata": {},
   "source": [
    "### KNN"
   ]
  },
  {
   "cell_type": "code",
   "execution_count": 139,
   "metadata": {},
   "outputs": [],
   "source": [
    "# Splitting the dataset into the Training set and Test set\n",
    "from sklearn.model_selection import train_test_split\n",
    "x_train, x_test, y_train, y_test = train_test_split(X1, y1, test_size=0.25, random_state=0)"
   ]
  },
  {
   "cell_type": "code",
   "execution_count": 140,
   "metadata": {},
   "outputs": [],
   "source": [
    "knn = KNeighborsClassifier(n_neighbors=3).fit(x_train, y_train)"
   ]
  },
  {
   "cell_type": "code",
   "execution_count": 141,
   "metadata": {},
   "outputs": [],
   "source": [
    "# Predicting the Test set results \n",
    "y_pred = knn.predict(x_test)"
   ]
  },
  {
   "cell_type": "code",
   "execution_count": 142,
   "metadata": {},
   "outputs": [
    {
     "name": "stdout",
     "output_type": "stream",
     "text": [
      "[[2028  247]\n",
      " [ 526   85]]\n"
     ]
    }
   ],
   "source": [
    "confusion_m = confusion_matrix(y_test, y_pred)\n",
    "print(confusion_m)"
   ]
  },
  {
   "cell_type": "code",
   "execution_count": 143,
   "metadata": {},
   "outputs": [
    {
     "name": "stdout",
     "output_type": "stream",
     "text": [
      "0.7321552321552321\n"
     ]
    }
   ],
   "source": [
    "accuracy = accuracy_score(y_test, y_pred)\n",
    "print(accuracy)"
   ]
  },
  {
   "cell_type": "code",
   "execution_count": 144,
   "metadata": {},
   "outputs": [],
   "source": [
    "prec_score = precision_score(y_test,y_pred)\n",
    "rec= metrics.recall_score(y_test,y_pred)\n",
    "f1 = f1_score(y_test,y_pred)"
   ]
  },
  {
   "cell_type": "code",
   "execution_count": 145,
   "metadata": {},
   "outputs": [
    {
     "name": "stdout",
     "output_type": "stream",
     "text": [
      "Precision Score 0.2560240963855422\n",
      "Recall Score 0.13367174280879865\n",
      "F1 Score 0.18027571580063625\n"
     ]
    }
   ],
   "source": [
    "print('Precision Score', prec_score)\n",
    "print('Recall Score', recall_score)\n",
    "print('F1 Score', f1)"
   ]
  },
  {
   "cell_type": "markdown",
   "metadata": {},
   "source": [
    "### Support Vector Machine SVM Model"
   ]
  },
  {
   "cell_type": "code",
   "execution_count": 111,
   "metadata": {},
   "outputs": [],
   "source": [
    "from sklearn.svm import SVC\n",
    "x_train, x_test, y_train, y_test = train_test_split(X1, y1, test_size=0.25, random_state=0)"
   ]
  },
  {
   "cell_type": "code",
   "execution_count": 112,
   "metadata": {},
   "outputs": [],
   "source": [
    "clf = SVC(kernel='linear').fit(x_train, y_train)"
   ]
  },
  {
   "cell_type": "code",
   "execution_count": 113,
   "metadata": {},
   "outputs": [],
   "source": [
    "# Predicting the Test set results \n",
    "y_pred = clf.predict(x_test)"
   ]
  },
  {
   "cell_type": "code",
   "execution_count": 114,
   "metadata": {},
   "outputs": [
    {
     "name": "stdout",
     "output_type": "stream",
     "text": [
      "[[2275    0]\n",
      " [ 610    1]]\n"
     ]
    }
   ],
   "source": [
    "confusion_m = confusion_matrix(y_test, y_pred)\n",
    "print(confusion_m)"
   ]
  },
  {
   "cell_type": "code",
   "execution_count": 115,
   "metadata": {},
   "outputs": [
    {
     "name": "stdout",
     "output_type": "stream",
     "text": [
      "0.7886347886347886\n"
     ]
    }
   ],
   "source": [
    "# Evaluate the results\n",
    "accuracy = accuracy_score(y_test, y_pred)\n",
    "print(accuracy)"
   ]
  },
  {
   "cell_type": "code",
   "execution_count": 116,
   "metadata": {},
   "outputs": [],
   "source": [
    "prec_score = precision_score(y_test,y_pred)\n",
    "rec= metrics.recall_score(y_test,y_pred)\n",
    "f1 = f1_score(y_test,y_pred)"
   ]
  },
  {
   "cell_type": "code",
   "execution_count": 117,
   "metadata": {},
   "outputs": [
    {
     "name": "stdout",
     "output_type": "stream",
     "text": [
      "Precision Score 1.0\n",
      "Recall Score 0.13367174280879865\n",
      "F1 Score 0.0032679738562091504\n"
     ]
    }
   ],
   "source": [
    "print('Precision Score', prec_score)\n",
    "print('Recall Score', recall_score)\n",
    "print('F1 Score', f1)"
   ]
  },
  {
   "cell_type": "markdown",
   "metadata": {},
   "source": [
    "### Decision Tree Classification Model"
   ]
  },
  {
   "cell_type": "code",
   "execution_count": 118,
   "metadata": {},
   "outputs": [],
   "source": [
    "x_train, x_test, y_train, y_test = train_test_split(X1, y1, test_size=0.25, random_state=0)"
   ]
  },
  {
   "cell_type": "code",
   "execution_count": 119,
   "metadata": {},
   "outputs": [],
   "source": [
    "decision_tree = DecisionTreeClassifier(random_state=0).fit(x_train, y_train)"
   ]
  },
  {
   "cell_type": "code",
   "execution_count": 120,
   "metadata": {},
   "outputs": [],
   "source": [
    "# Predicting the Test set results \n",
    "y_pred = decision_tree.predict(x_test)"
   ]
  },
  {
   "cell_type": "code",
   "execution_count": 121,
   "metadata": {},
   "outputs": [
    {
     "name": "stdout",
     "output_type": "stream",
     "text": [
      "[[1894  381]\n",
      " [ 481  130]]\n"
     ]
    }
   ],
   "source": [
    "confusion_m = confusion_matrix(y_test, y_pred)\n",
    "print(confusion_m)"
   ]
  },
  {
   "cell_type": "code",
   "execution_count": 122,
   "metadata": {},
   "outputs": [
    {
     "name": "stdout",
     "output_type": "stream",
     "text": [
      "0.7013167013167013\n"
     ]
    }
   ],
   "source": [
    "# Evaluate the results\n",
    "accuracy = accuracy_score(y_test, y_pred)\n",
    "print(accuracy)"
   ]
  },
  {
   "cell_type": "code",
   "execution_count": 123,
   "metadata": {},
   "outputs": [],
   "source": [
    "prec_score = precision_score(y_test,y_pred)\n",
    "rec= metrics.recall_score(y_test,y_pred)\n",
    "f1 = f1_score(y_test,y_pred)"
   ]
  },
  {
   "cell_type": "code",
   "execution_count": 124,
   "metadata": {},
   "outputs": [
    {
     "name": "stdout",
     "output_type": "stream",
     "text": [
      "Precision Score 0.25440313111545987\n",
      "Recall Score 0.13367174280879865\n",
      "F1 Score 0.23172905525846704\n"
     ]
    }
   ],
   "source": [
    "print('Precision Score', prec_score)\n",
    "print('Recall Score', recall_score)\n",
    "print('F1 Score', f1)"
   ]
  },
  {
   "cell_type": "markdown",
   "metadata": {},
   "source": [
    "### Random Forest Model"
   ]
  },
  {
   "cell_type": "code",
   "execution_count": 131,
   "metadata": {},
   "outputs": [],
   "source": [
    "x_train, x_test, y_train, y_test = train_test_split(X1, y1, test_size=0.25, random_state=0)"
   ]
  },
  {
   "cell_type": "code",
   "execution_count": 132,
   "metadata": {},
   "outputs": [],
   "source": [
    "# Predicting the Test set results \n",
    "rf = RandomForestClassifier().fit(x_train, y_train)\n",
    "y_pred = rf.predict(x_test)"
   ]
  },
  {
   "cell_type": "code",
   "execution_count": 135,
   "metadata": {},
   "outputs": [
    {
     "name": "stdout",
     "output_type": "stream",
     "text": [
      "[[2226   49]\n",
      " [ 586   25]]\n"
     ]
    }
   ],
   "source": [
    "confusion_m = confusion_matrix(y_test, y_pred)\n",
    "print(confusion_m)"
   ]
  },
  {
   "cell_type": "code",
   "execution_count": 136,
   "metadata": {},
   "outputs": [
    {
     "name": "stdout",
     "output_type": "stream",
     "text": [
      "0.77997227997228\n"
     ]
    }
   ],
   "source": [
    "# Evaluate the results\n",
    "accuracy = accuracy_score(y_test, y_pred)\n",
    "print(accuracy)"
   ]
  },
  {
   "cell_type": "code",
   "execution_count": 137,
   "metadata": {},
   "outputs": [],
   "source": [
    "prec_score = precision_score(y_test,y_pred)\n",
    "rec= metrics.recall_score(y_test,y_pred)\n",
    "f1 = f1_score(y_test,y_pred)"
   ]
  },
  {
   "cell_type": "code",
   "execution_count": 138,
   "metadata": {},
   "outputs": [
    {
     "name": "stdout",
     "output_type": "stream",
     "text": [
      "Precision Score 0.33783783783783783\n",
      "Recall Score 0.13367174280879865\n",
      "F1 Score 0.07299270072992702\n"
     ]
    }
   ],
   "source": [
    "print('Precision Score', prec_score)\n",
    "print('Recall Score', recall_score)\n",
    "print('F1 Score', f1)"
   ]
  },
  {
   "cell_type": "markdown",
   "metadata": {},
   "source": [
    " \n",
    "\n",
    "### Compare the various models on both the approaches.\n",
    "### Which model predicts the best?"
   ]
  },
  {
   "cell_type": "markdown",
   "metadata": {},
   "source": [
    "|Name of the model| Before Extraction | TF IDF\n",
    "| :-  | :-  | :- |\n",
    "|Naive Bayes Model| 0.752 | 0.797 |\n",
    "|KNN Model| 0.67 | 0.732 |\n",
    "|Support Vector Machine SVM Model| 0.751 | 0.788 |\n",
    "|Decision Tree Model| 0.691 | 0.701 |\n",
    "|Random Forest Model| 0.685 | 0.779 |"
   ]
  },
  {
   "cell_type": "markdown",
   "metadata": {},
   "source": [
    "A-1. From the above accuracies table of the model perform on bag of words and using feature extraction TF-IDF,  in which model which have highest accuracy in regards to bag of words is the Naive Bayes Model predict 75.2 % accuracy. With using the TF-IDF the Naive bias  (79.7%), SVM (78.8%) and other accuracies are lesser than this two model. So overall the Naive Bayes predicts best in both techniques."
   ]
  },
  {
   "cell_type": "markdown",
   "metadata": {},
   "source": [
    "#### Dataset Source:\n"
   ]
  },
  {
   "cell_type": "markdown",
   "metadata": {},
   "source": [
    "https://www.kaggle.com/code/yaowenling/amazon-cell-phone-review-nlp\n",
    "    https://www.kaggle.com/code/lele1995/amazon-reviews-sentiment-analysis"
   ]
  }
 ],
 "metadata": {
  "kernelspec": {
   "display_name": "Python 3 (ipykernel)",
   "language": "python",
   "name": "python3"
  },
  "language_info": {
   "codemirror_mode": {
    "name": "ipython",
    "version": 3
   },
   "file_extension": ".py",
   "mimetype": "text/x-python",
   "name": "python",
   "nbconvert_exporter": "python",
   "pygments_lexer": "ipython3",
   "version": "3.9.12"
  }
 },
 "nbformat": 4,
 "nbformat_minor": 4
}
